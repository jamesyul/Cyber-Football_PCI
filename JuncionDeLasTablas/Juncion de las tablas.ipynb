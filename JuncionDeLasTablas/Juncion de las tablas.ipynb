{
 "cells": [
  {
   "cell_type": "code",
   "execution_count": 2,
   "id": "8323c873",
   "metadata": {},
   "outputs": [],
   "source": [
    "import pandas as pd\n",
    "\n",
    "jugadores_fantasy_df = pd.read_csv(\"juadores_fantasy.csv.csv\")\n",
    "temporada2023_df = pd.read_csv(\"temporada2023.csv\")"
   ]
  },
  {
   "cell_type": "code",
   "execution_count": 3,
   "id": "7b365ae4",
   "metadata": {},
   "outputs": [],
   "source": [
    "# Para el archivo jugadores_fantasy_definitivo\n",
    "jugadores_fantasy_df['Apellido'] = jugadores_fantasy_df['Nombre'].apply(lambda x: x.split()[-1])\n",
    "\n",
    "# Para el archivo temporada2023 (suponiendo que la columna con los nombres es 'Jugador')\n",
    "temporada2023_df['Apellido'] = temporada2023_df['Nombre'].apply(lambda x: x.split()[-1])"
   ]
  },
  {
   "cell_type": "code",
   "execution_count": 4,
   "id": "0df9f080",
   "metadata": {},
   "outputs": [],
   "source": [
    "merged_df = pd.merge(jugadores_fantasy_df, temporada2023_df, on='Apellido', how='left')"
   ]
  },
  {
   "cell_type": "code",
   "execution_count": 5,
   "id": "c1117644",
   "metadata": {},
   "outputs": [],
   "source": [
    "merged_df.to_csv(\"jugadores_fantasy_definitivo.csv\", index=False)"
   ]
  },
  {
   "cell_type": "code",
   "execution_count": 6,
   "id": "467ab2c8",
   "metadata": {},
   "outputs": [],
   "source": [
    "# Elimina la columna \"ColumnaEliminar\"\n",
    "df = merged_df.drop(columns=['Apellido', 'Nombre_y', 'Equipo', 'Precio_y', 'Puntos'])"
   ]
  },
  {
   "cell_type": "code",
   "execution_count": 7,
   "id": "8248b60c",
   "metadata": {},
   "outputs": [],
   "source": [
    "# Sobrescribe el archivo original\n",
    "df.to_csv(\"jugadores_fantasy_final.csv\", index=False)"
   ]
  },
  {
   "cell_type": "code",
   "execution_count": 8,
   "id": "453081c3",
   "metadata": {},
   "outputs": [],
   "source": [
    "df_final = df.rename(columns={'Nombre_x': 'Nombre', 'Precio_x': 'Precio'})"
   ]
  },
  {
   "cell_type": "code",
   "execution_count": 9,
   "id": "8ee05035",
   "metadata": {},
   "outputs": [],
   "source": [
    "df_final.to_csv('jugadores_fantasy_ultrafinal.csv', index=False)"
   ]
  },
  {
   "cell_type": "code",
   "execution_count": 10,
   "id": "34197172",
   "metadata": {},
   "outputs": [],
   "source": [
    "df_fix = df_final.drop_duplicates(subset='Nombre', keep='first')"
   ]
  },
  {
   "cell_type": "code",
   "execution_count": 11,
   "id": "3237fb95",
   "metadata": {},
   "outputs": [],
   "source": [
    "df_fix.to_csv('jugadores_fantasy_ultrainstinto.csv', index=False)"
   ]
  },
  {
   "cell_type": "code",
   "execution_count": 12,
   "id": "9b1fbaf3",
   "metadata": {},
   "outputs": [],
   "source": [
    "df_copy = df_fix.copy()\n",
    "df_copy = df_copy.fillna(0)"
   ]
  },
  {
   "cell_type": "code",
   "execution_count": 14,
   "id": "026ef54b",
   "metadata": {},
   "outputs": [
    {
     "name": "stdout",
     "output_type": "stream",
     "text": [
      "Nombre                 0\n",
      "Precio                 0\n",
      "Media                  0\n",
      "Total_puntos           0\n",
      "posicion               0\n",
      "equipo                 0\n",
      "Partidos               0\n",
      "Minutos                0\n",
      "Goles                  0\n",
      "Asistencias            0\n",
      "Asistencias sin Gol    0\n",
      "Centros                0\n",
      "Despejes               0\n",
      "Remates                0\n",
      "Tiros                  0\n",
      "Recuperaciones         0\n",
      "Perdidas               0\n",
      "Penaltis fallados      0\n",
      "Goles en contra        0\n",
      "Rojas                  0\n",
      "Paradas                0\n",
      "Penaltis cometidos     0\n",
      "Amarillas              0\n",
      "Seguna Amarilla        0\n",
      "Penaltis provocados    0\n",
      "Penaltis parados       0\n",
      "Goles en PP            0\n",
      "dtype: int64\n"
     ]
    }
   ],
   "source": [
    "print(df_copy.isnull().sum())"
   ]
  },
  {
   "cell_type": "code",
   "execution_count": 15,
   "id": "50ad3ed2",
   "metadata": {},
   "outputs": [],
   "source": [
    "df_copy.to_csv('jugadores_fantasy_migate.csv', index=False)"
   ]
  }
 ],
 "metadata": {
  "kernelspec": {
   "display_name": "Python 3 (ipykernel)",
   "language": "python",
   "name": "python3"
  },
  "language_info": {
   "codemirror_mode": {
    "name": "ipython",
    "version": 3
   },
   "file_extension": ".py",
   "mimetype": "text/x-python",
   "name": "python",
   "nbconvert_exporter": "python",
   "pygments_lexer": "ipython3",
   "version": "3.12.4"
  }
 },
 "nbformat": 4,
 "nbformat_minor": 5
}
