{
 "cells": [
  {
   "cell_type": "code",
   "execution_count": 31,
   "id": "8323c873",
   "metadata": {},
   "outputs": [],
   "source": [
    "import pandas as pd\n",
    "\n",
    "jugadores_fantasy_df = pd.read_csv(\"juadores_fantasy.csv.csv\")\n",
    "temporada2023_df = pd.read_csv(\"temporada2023.csv\")"
   ]
  },
  {
   "cell_type": "code",
   "execution_count": 32,
   "id": "7b365ae4",
   "metadata": {},
   "outputs": [],
   "source": [
    "# Para el archivo jugadores_fantasy_definitivo\n",
    "jugadores_fantasy_df['Apellido'] = jugadores_fantasy_df['Nombre'].apply(lambda x: x.split()[-1])\n",
    "\n",
    "# Para el archivo temporada2023 (suponiendo que la columna con los nombres es 'Jugador')\n",
    "temporada2023_df['Apellido'] = temporada2023_df['Nombre'].apply(lambda x: x.split()[-1])"
   ]
  },
  {
   "cell_type": "code",
   "execution_count": 33,
   "id": "0df9f080",
   "metadata": {},
   "outputs": [],
   "source": [
    "merged_df = pd.merge(jugadores_fantasy_df, temporada2023_df, on='Apellido', how='left')"
   ]
  },
  {
   "cell_type": "code",
   "execution_count": 34,
   "id": "c1117644",
   "metadata": {},
   "outputs": [],
   "source": [
    "merged_df.to_csv(\"jugadores_fantasy_definitivo.csv\", index=False)"
   ]
  },
  {
   "cell_type": "code",
   "execution_count": 35,
   "id": "467ab2c8",
   "metadata": {},
   "outputs": [],
   "source": [
    "# Elimina la columna \"ColumnaEliminar\"\n",
    "df = merged_df.drop(columns=['Apellido', 'Nombre_y', 'Equipo', 'Precio_y', 'Puntos'])"
   ]
  },
  {
   "cell_type": "code",
   "execution_count": 36,
   "id": "8248b60c",
   "metadata": {},
   "outputs": [],
   "source": [
    "# Sobrescribe el archivo original\n",
    "df.to_csv(\"jugadores_fantasy_final.csv\", index=False)"
   ]
  },
  {
   "cell_type": "code",
   "execution_count": 37,
   "id": "453081c3",
   "metadata": {},
   "outputs": [],
   "source": [
    "df_final = df.rename(columns={'Nombre_x': 'Nombre', 'Precio_x': 'Precio'})"
   ]
  },
  {
   "cell_type": "code",
   "execution_count": 38,
   "id": "8ee05035",
   "metadata": {},
   "outputs": [],
   "source": [
    "df_final.to_csv('jugadores_fantasy_ultrafinal.csv', index=False)"
   ]
  },
  {
   "cell_type": "code",
   "execution_count": 39,
   "id": "34197172",
   "metadata": {},
   "outputs": [],
   "source": [
    "df_fix = df_final.drop_duplicates(subset='Nombre', keep='first')"
   ]
  },
  {
   "cell_type": "code",
   "execution_count": 40,
   "id": "3237fb95",
   "metadata": {},
   "outputs": [],
   "source": [
    "df_fix.to_csv('jugadores_fantasy_ultrainstinto.csv', index=False)"
   ]
  },
  {
   "cell_type": "code",
   "execution_count": 41,
   "id": "387a2a53",
   "metadata": {},
   "outputs": [],
   "source": [
    "df_finalizima = pd.read_csv('jugadores_fantasy_ultrainstinto.csv')"
   ]
  }
 ],
 "metadata": {
  "kernelspec": {
   "display_name": "Python 3 (ipykernel)",
   "language": "python",
   "name": "python3"
  },
  "language_info": {
   "codemirror_mode": {
    "name": "ipython",
    "version": 3
   },
   "file_extension": ".py",
   "mimetype": "text/x-python",
   "name": "python",
   "nbconvert_exporter": "python",
   "pygments_lexer": "ipython3",
   "version": "3.12.4"
  }
 },
 "nbformat": 4,
 "nbformat_minor": 5
}
