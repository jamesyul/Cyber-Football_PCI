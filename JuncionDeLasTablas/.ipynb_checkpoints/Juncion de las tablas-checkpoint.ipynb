{
 "cells": [
  {
   "cell_type": "code",
   "execution_count": 95,
   "id": "495042d5",
   "metadata": {},
   "outputs": [],
   "source": [
    "import pandas as pd"
   ]
  },
  {
   "cell_type": "code",
   "execution_count": 96,
   "id": "ad0a54bf",
   "metadata": {},
   "outputs": [],
   "source": [
    "df1 = pd.read_csv(\"jugadores.csv\")\n",
    "df2 = pd.read_csv(\"temporada2020.csv\")\n",
    "df3 = pd.read_csv(\"temporada2021.csv\")\n",
    "df4 = pd.read_csv(\"temporada2022.csv\")\n",
    "df5 = pd.read_csv(\"temporada2023.csv\")"
   ]
  },
  {
   "cell_type": "code",
   "execution_count": 97,
   "id": "86635779",
   "metadata": {},
   "outputs": [
    {
     "name": "stdout",
     "output_type": "stream",
     "text": [
      "<class 'pandas.core.frame.DataFrame'>\n",
      "RangeIndex: 504 entries, 0 to 503\n",
      "Data columns (total 4 columns):\n",
      " #   Column        Non-Null Count  Dtype \n",
      "---  ------        --------------  ----- \n",
      " 0   Nombre        504 non-null    object\n",
      " 1   Precio        504 non-null    object\n",
      " 2   Media         504 non-null    object\n",
      " 3   Total_puntos  504 non-null    int64 \n",
      "dtypes: int64(1), object(3)\n",
      "memory usage: 15.9+ KB\n"
     ]
    }
   ],
   "source": [
    "df1.info()"
   ]
  },
  {
   "cell_type": "code",
   "execution_count": 98,
   "id": "8da30695",
   "metadata": {},
   "outputs": [],
   "source": [
    "# Suponiendo que df es tu DataFrame\n",
    "num_filas_con_nan = df1.isna().sum(axis=1)\n",
    "num_total_filas_con_nan = (num_filas_con_nan > 0).sum()"
   ]
  },
  {
   "cell_type": "code",
   "execution_count": 99,
   "id": "49962b78",
   "metadata": {},
   "outputs": [
    {
     "data": {
      "text/plain": [
       "0"
      ]
     },
     "execution_count": 99,
     "metadata": {},
     "output_type": "execute_result"
    }
   ],
   "source": [
    "num_total_filas_con_nan"
   ]
  },
  {
   "cell_type": "code",
   "execution_count": 101,
   "id": "1db8acd9",
   "metadata": {},
   "outputs": [],
   "source": [
    "# Suponiendo que df es tu DataFrame\n",
    "num_filas_con_nan = df2.isna().sum(axis=1)\n",
    "num_total_filas_con_nan2 = (num_filas_con_nan > 0).sum()"
   ]
  },
  {
   "cell_type": "code",
   "execution_count": 102,
   "id": "c7ee2b2e",
   "metadata": {},
   "outputs": [
    {
     "data": {
      "text/plain": [
       "0"
      ]
     },
     "execution_count": 102,
     "metadata": {},
     "output_type": "execute_result"
    }
   ],
   "source": [
    "num_total_filas_con_nan2"
   ]
  },
  {
   "cell_type": "code",
   "execution_count": 153,
   "id": "e8ef181c",
   "metadata": {},
   "outputs": [
    {
     "name": "stdout",
     "output_type": "stream",
     "text": [
      "<class 'pandas.core.frame.DataFrame'>\n",
      "RangeIndex: 509 entries, 0 to 508\n",
      "Data columns (total 25 columns):\n",
      " #   Column                    Non-Null Count  Dtype \n",
      "---  ------                    --------------  ----- \n",
      " 0   2020_Nombre               509 non-null    object\n",
      " 1   2020_Equipo               509 non-null    object\n",
      " 2   2020_Precio               509 non-null    object\n",
      " 3   2020_Puntos               509 non-null    int64 \n",
      " 4   2020_Partidos             509 non-null    int64 \n",
      " 5   2020_Minutos              509 non-null    int64 \n",
      " 6   2020_Goles                509 non-null    int64 \n",
      " 7   2020_Asistencias          509 non-null    int64 \n",
      " 8   2020_Asistencias sin Gol  509 non-null    int64 \n",
      " 9   2020_Centros              509 non-null    int64 \n",
      " 10  2020_Despejes             509 non-null    int64 \n",
      " 11  2020_Remates              509 non-null    int64 \n",
      " 12  2020_Tiros                509 non-null    int64 \n",
      " 13  2020_Recuperaciones       509 non-null    int64 \n",
      " 14  2020_Perdidas             509 non-null    int64 \n",
      " 15  2020_Penaltis fallados    509 non-null    int64 \n",
      " 16  2020_Goles en contra      509 non-null    int64 \n",
      " 17  2020_Rojas                509 non-null    int64 \n",
      " 18  2020_Paradas              509 non-null    int64 \n",
      " 19  2020_Penaltis cometidos   509 non-null    int64 \n",
      " 20  2020_Amarillas            509 non-null    int64 \n",
      " 21  2020_Seguna Amarilla      509 non-null    int64 \n",
      " 22  2020_Penaltis provocados  509 non-null    int64 \n",
      " 23  2020_Penaltis parados     509 non-null    int64 \n",
      " 24  2020_Goles en PP          509 non-null    int64 \n",
      "dtypes: int64(22), object(3)\n",
      "memory usage: 99.5+ KB\n"
     ]
    }
   ],
   "source": [
    "# Renombrar las columnas en cada DataFrame, excepto la columna \"Nombre\"\n",
    "df2 = df2.add_prefix('2020_') if 'Nombre' in df2.columns else df2\n",
    "\n",
    "df2.info()"
   ]
  },
  {
   "cell_type": "code",
   "execution_count": 104,
   "id": "b5b829bc",
   "metadata": {},
   "outputs": [],
   "source": [
    "# Suponiendo que df es tu DataFrame\n",
    "num_filas_con_nan = df3.isna().sum(axis=1)\n",
    "num_total_filas_con_nan3 = (num_filas_con_nan > 0).sum()"
   ]
  },
  {
   "cell_type": "code",
   "execution_count": 105,
   "id": "7f1dfd56",
   "metadata": {},
   "outputs": [
    {
     "data": {
      "text/plain": [
       "0"
      ]
     },
     "execution_count": 105,
     "metadata": {},
     "output_type": "execute_result"
    }
   ],
   "source": [
    "num_total_filas_con_nan3"
   ]
  },
  {
   "cell_type": "code",
   "execution_count": 154,
   "id": "f46469df",
   "metadata": {},
   "outputs": [
    {
     "name": "stdout",
     "output_type": "stream",
     "text": [
      "<class 'pandas.core.frame.DataFrame'>\n",
      "RangeIndex: 506 entries, 0 to 505\n",
      "Data columns (total 25 columns):\n",
      " #   Column                    Non-Null Count  Dtype \n",
      "---  ------                    --------------  ----- \n",
      " 0   2021_Nombre               506 non-null    object\n",
      " 1   2021_Equipo               506 non-null    object\n",
      " 2   2021_Precio               506 non-null    object\n",
      " 3   2021_Puntos               506 non-null    int64 \n",
      " 4   2021_Partidos             506 non-null    int64 \n",
      " 5   2021_Minutos              506 non-null    int64 \n",
      " 6   2021_Goles                506 non-null    int64 \n",
      " 7   2021_Asistencias          506 non-null    int64 \n",
      " 8   2021_Asistencias sin Gol  506 non-null    int64 \n",
      " 9   2021_Centros              506 non-null    int64 \n",
      " 10  2021_Despejes             506 non-null    int64 \n",
      " 11  2021_Remates              506 non-null    int64 \n",
      " 12  2021_Tiros                506 non-null    int64 \n",
      " 13  2021_Recuperaciones       506 non-null    int64 \n",
      " 14  2021_Perdidas             506 non-null    int64 \n",
      " 15  2021_Penaltis fallados    506 non-null    int64 \n",
      " 16  2021_Goles en contra      506 non-null    int64 \n",
      " 17  2021_Rojas                506 non-null    int64 \n",
      " 18  2021_Paradas              506 non-null    int64 \n",
      " 19  2021_Penaltis cometidos   506 non-null    int64 \n",
      " 20  2021_Amarillas            506 non-null    int64 \n",
      " 21  2021_Seguna Amarilla      506 non-null    int64 \n",
      " 22  2021_Penaltis provocados  506 non-null    int64 \n",
      " 23  2021_Penaltis parados     506 non-null    int64 \n",
      " 24  2021_Goles en PP          506 non-null    int64 \n",
      "dtypes: int64(22), object(3)\n",
      "memory usage: 99.0+ KB\n"
     ]
    }
   ],
   "source": [
    "# Renombrar las columnas en cada DataFrame, excepto la columna \"Nombre\"\n",
    "df3 = df3.add_prefix('2021_') if 'Nombre' in df3.columns else df3\n",
    "\n",
    "df3.info()"
   ]
  },
  {
   "cell_type": "code",
   "execution_count": 107,
   "id": "3810b0b7",
   "metadata": {},
   "outputs": [],
   "source": [
    "# Suponiendo que df es tu DataFrame\n",
    "num_filas_con_nan = df4.isna().sum(axis=1)\n",
    "num_total_filas_con_nan4 = (num_filas_con_nan > 0).sum()"
   ]
  },
  {
   "cell_type": "code",
   "execution_count": 108,
   "id": "18bbd404",
   "metadata": {},
   "outputs": [
    {
     "data": {
      "text/plain": [
       "0"
      ]
     },
     "execution_count": 108,
     "metadata": {},
     "output_type": "execute_result"
    }
   ],
   "source": [
    "num_total_filas_con_nan4"
   ]
  },
  {
   "cell_type": "code",
   "execution_count": 155,
   "id": "eec0fdd0",
   "metadata": {},
   "outputs": [
    {
     "name": "stdout",
     "output_type": "stream",
     "text": [
      "<class 'pandas.core.frame.DataFrame'>\n",
      "RangeIndex: 501 entries, 0 to 500\n",
      "Data columns (total 25 columns):\n",
      " #   Column                    Non-Null Count  Dtype \n",
      "---  ------                    --------------  ----- \n",
      " 0   2022_Nombre               501 non-null    object\n",
      " 1   2022_Equipo               501 non-null    object\n",
      " 2   2022_Precio               501 non-null    object\n",
      " 3   2022_Puntos               501 non-null    int64 \n",
      " 4   2022_Partidos             501 non-null    int64 \n",
      " 5   2022_Minutos              501 non-null    int64 \n",
      " 6   2022_Goles                501 non-null    int64 \n",
      " 7   2022_Asistencias          501 non-null    int64 \n",
      " 8   2022_Asistencias sin Gol  501 non-null    int64 \n",
      " 9   2022_Centros              501 non-null    int64 \n",
      " 10  2022_Despejes             501 non-null    int64 \n",
      " 11  2022_Remates              501 non-null    int64 \n",
      " 12  2022_Tiros                501 non-null    int64 \n",
      " 13  2022_Recuperaciones       501 non-null    int64 \n",
      " 14  2022_Perdidas             501 non-null    int64 \n",
      " 15  2022_Penaltis fallados    501 non-null    int64 \n",
      " 16  2022_Goles en contra      501 non-null    int64 \n",
      " 17  2022_Rojas                501 non-null    int64 \n",
      " 18  2022_Paradas              501 non-null    int64 \n",
      " 19  2022_Penaltis cometidos   501 non-null    int64 \n",
      " 20  2022_Amarillas            501 non-null    int64 \n",
      " 21  2022_Seguna Amarilla      501 non-null    int64 \n",
      " 22  2022_Penaltis provocados  501 non-null    int64 \n",
      " 23  2022_Penaltis parados     501 non-null    int64 \n",
      " 24  2022_Goles en PP          501 non-null    int64 \n",
      "dtypes: int64(22), object(3)\n",
      "memory usage: 98.0+ KB\n"
     ]
    }
   ],
   "source": [
    "# Renombrar las columnas en cada DataFrame, excepto la columna \"Nombre\"\n",
    "df4 = df4.add_prefix('2022_') if 'Nombre' in df4.columns else df4\n",
    "\n",
    "df4.info()"
   ]
  },
  {
   "cell_type": "code",
   "execution_count": 110,
   "id": "6686aadf",
   "metadata": {},
   "outputs": [],
   "source": [
    "# Suponiendo que df es tu DataFrame\n",
    "num_filas_con_nan = df5.isna().sum(axis=1)\n",
    "num_total_filas_con_nan5 = (num_filas_con_nan > 0).sum()"
   ]
  },
  {
   "cell_type": "code",
   "execution_count": 111,
   "id": "7e72a6e1",
   "metadata": {},
   "outputs": [
    {
     "data": {
      "text/plain": [
       "0"
      ]
     },
     "execution_count": 111,
     "metadata": {},
     "output_type": "execute_result"
    }
   ],
   "source": [
    "num_total_filas_con_nan5"
   ]
  },
  {
   "cell_type": "code",
   "execution_count": 156,
   "id": "3af30420",
   "metadata": {},
   "outputs": [
    {
     "name": "stdout",
     "output_type": "stream",
     "text": [
      "<class 'pandas.core.frame.DataFrame'>\n",
      "RangeIndex: 550 entries, 0 to 549\n",
      "Data columns (total 25 columns):\n",
      " #   Column                    Non-Null Count  Dtype \n",
      "---  ------                    --------------  ----- \n",
      " 0   2023_Nombre               550 non-null    object\n",
      " 1   2023_Equipo               550 non-null    object\n",
      " 2   2023_Precio               550 non-null    object\n",
      " 3   2023_Puntos               550 non-null    int64 \n",
      " 4   2023_Partidos             550 non-null    int64 \n",
      " 5   2023_Minutos              550 non-null    int64 \n",
      " 6   2023_Goles                550 non-null    int64 \n",
      " 7   2023_Asistencias          550 non-null    int64 \n",
      " 8   2023_Asistencias sin Gol  550 non-null    int64 \n",
      " 9   2023_Centros              550 non-null    int64 \n",
      " 10  2023_Despejes             550 non-null    int64 \n",
      " 11  2023_Remates              550 non-null    int64 \n",
      " 12  2023_Tiros                550 non-null    int64 \n",
      " 13  2023_Recuperaciones       550 non-null    int64 \n",
      " 14  2023_Perdidas             550 non-null    int64 \n",
      " 15  2023_Penaltis fallados    550 non-null    int64 \n",
      " 16  2023_Goles en contra      550 non-null    int64 \n",
      " 17  2023_Rojas                550 non-null    int64 \n",
      " 18  2023_Paradas              550 non-null    int64 \n",
      " 19  2023_Penaltis cometidos   550 non-null    int64 \n",
      " 20  2023_Amarillas            550 non-null    int64 \n",
      " 21  2023_Seguna Amarilla      550 non-null    int64 \n",
      " 22  2023_Penaltis provocados  550 non-null    int64 \n",
      " 23  2023_Penaltis parados     550 non-null    int64 \n",
      " 24  2023_Goles en PP          550 non-null    int64 \n",
      "dtypes: int64(22), object(3)\n",
      "memory usage: 107.6+ KB\n"
     ]
    }
   ],
   "source": [
    "# Renombrar las columnas en cada DataFrame, excepto la columna \"Nombre\"\n",
    "df5 = df5.add_prefix('2023_') if 'Nombre' in df5.columns else df5\n",
    "\n",
    "df5.info()"
   ]
  },
  {
   "cell_type": "code",
   "execution_count": 163,
   "id": "6df5c97a",
   "metadata": {},
   "outputs": [
    {
     "name": "stdout",
     "output_type": "stream",
     "text": [
      "             Nombre        Precio Media  Total_puntos\n",
      "0      A. Griezmann  ↑ 22.845.000   8,4           109\n",
      "1     J. Bellingham  ↑ 22.390.000  11,5           138\n",
      "2    R. Lewandowski  ↓ 21.249.000   5,8            69\n",
      "3           T. Kubo  ↓ 20.017.000   8,1           105\n",
      "4         V. Júnior  ↓ 18.945.000   5,4            54\n",
      "..              ...           ...   ...           ...\n",
      "499        M. Tejón     ↓ 160.000   0,0             0\n",
      "500      P. Cuéllar       160.000   0,0             0\n",
      "501      T. Fuidias       160.000   0,0             0\n",
      "502       U. García     ↓ 160.000   0,0             0\n",
      "503          Vitolo       160.000   0,0             0\n",
      "\n",
      "[497 rows x 4 columns]\n"
     ]
    }
   ],
   "source": [
    "# Fusionar DataFrames por nombres similares\n",
    "merged_df = df1.copy()\n",
    "\n",
    "for df in dfs:\n",
    "    try:\n",
    "        if 'Nombre' in df.columns and 'Nombre' in merged_df.columns:\n",
    "            for index, row in df.iterrows():\n",
    "                for index2, row2 in merged_df.iterrows():\n",
    "                    if len(row2['Nombre']) >= 4 and len(row['Nombre']) >= 4:\n",
    "                        if row2['Nombre'][-4:] == row['Nombre'][-4:]:\n",
    "                            merged_df.loc[index2, row.index.difference(['Nombre'])] = row[row.index.difference(['Nombre'])]\n",
    "    except KeyError:\n",
    "        pass\n",
    "\n",
    "# Eliminar filas duplicadas\n",
    "merged_df = merged_df.drop_duplicates(subset='Nombre')\n",
    "\n",
    "print(merged_df)\n"
   ]
  },
  {
   "cell_type": "code",
   "execution_count": 162,
   "id": "cb66c299",
   "metadata": {},
   "outputs": [
    {
     "name": "stdout",
     "output_type": "stream",
     "text": [
      "<class 'pandas.core.frame.DataFrame'>\n",
      "Index: 497 entries, 0 to 503\n",
      "Data columns (total 4 columns):\n",
      " #   Column        Non-Null Count  Dtype \n",
      "---  ------        --------------  ----- \n",
      " 0   Nombre        497 non-null    object\n",
      " 1   Precio        497 non-null    object\n",
      " 2   Media         497 non-null    object\n",
      " 3   Total_puntos  497 non-null    int64 \n",
      "dtypes: int64(1), object(3)\n",
      "memory usage: 19.4+ KB\n"
     ]
    }
   ],
   "source": [
    "merged_df.info()"
   ]
  },
  {
   "cell_type": "code",
   "execution_count": 149,
   "id": "90c50aaa",
   "metadata": {},
   "outputs": [],
   "source": []
  },
  {
   "cell_type": "code",
   "execution_count": null,
   "id": "b01b91b0",
   "metadata": {},
   "outputs": [],
   "source": []
  },
  {
   "cell_type": "code",
   "execution_count": null,
   "id": "bd62f881",
   "metadata": {},
   "outputs": [],
   "source": []
  },
  {
   "cell_type": "code",
   "execution_count": 113,
   "id": "9f417d42",
   "metadata": {},
   "outputs": [],
   "source": []
  },
  {
   "cell_type": "code",
   "execution_count": 14,
   "id": "a1919b67",
   "metadata": {},
   "outputs": [],
   "source": []
  },
  {
   "cell_type": "code",
   "execution_count": 15,
   "id": "356012ec",
   "metadata": {},
   "outputs": [],
   "source": []
  },
  {
   "cell_type": "code",
   "execution_count": 16,
   "id": "ed746cc1",
   "metadata": {},
   "outputs": [],
   "source": []
  },
  {
   "cell_type": "code",
   "execution_count": null,
   "id": "9e8b4479",
   "metadata": {},
   "outputs": [],
   "source": []
  },
  {
   "cell_type": "code",
   "execution_count": null,
   "id": "1265b7f9",
   "metadata": {},
   "outputs": [],
   "source": []
  },
  {
   "cell_type": "code",
   "execution_count": null,
   "id": "17fe5a9e",
   "metadata": {},
   "outputs": [],
   "source": []
  },
  {
   "cell_type": "code",
   "execution_count": null,
   "id": "8ec3f5c4",
   "metadata": {},
   "outputs": [],
   "source": []
  },
  {
   "cell_type": "code",
   "execution_count": null,
   "id": "d9298abc",
   "metadata": {},
   "outputs": [],
   "source": []
  }
 ],
 "metadata": {
  "kernelspec": {
   "display_name": "Python 3 (ipykernel)",
   "language": "python",
   "name": "python3"
  },
  "language_info": {
   "codemirror_mode": {
    "name": "ipython",
    "version": 3
   },
   "file_extension": ".py",
   "mimetype": "text/x-python",
   "name": "python",
   "nbconvert_exporter": "python",
   "pygments_lexer": "ipython3",
   "version": "3.11.5"
  }
 },
 "nbformat": 4,
 "nbformat_minor": 5
}
