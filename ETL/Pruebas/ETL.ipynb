{
 "cells": [
  {
   "cell_type": "markdown",
   "id": "9a04772d",
   "metadata": {},
   "source": [
    "# Web-Scraping MisterFantasy"
   ]
  },
  {
   "cell_type": "code",
   "execution_count": null,
   "id": "74d7c6cb",
   "metadata": {},
   "outputs": [],
   "source": [
    "from selenium import webdriver\n",
    "from selenium.webdriver.chrome.service import Service\n",
    "from selenium.webdriver.common.by import By\n",
    "from selenium.webdriver.common.keys import Keys\n",
    "from selenium.webdriver.chrome.options import Options\n",
    "from selenium.webdriver.support.ui import WebDriverWait\n",
    "from selenium.webdriver.support import expected_conditions as EC\n",
    "from selenium.webdriver.common.by import By\n",
    "import time"
   ]
  },
  {
   "cell_type": "code",
   "execution_count": null,
   "id": "2fd9436e",
   "metadata": {},
   "outputs": [],
   "source": [
    "#Opciones de navegación\n",
    "options_chrome=Options()\n",
    "options_chrome.add_argument('--start-maximized')\n",
    "options_chrome.add_argument('--disable-extensions')\n",
    "\n",
    "#Ruta al controlador de Chrome\n",
    "#driver_path=\"/Users/yulcardaso/Desktop/NUEVO_CURSO/IA/chromedriver-mac-arm64/chromedriver\"\n",
    "\n",
    "#Crear un objeto de servicio para el controlador de Chrome\n",
    "#service=Service(driver_path)\n",
    "\n",
    "#Crear una instancia del controloador de Chrome\n",
    "driver=webdriver.Chrome()#service=service, options=options_chrome)\n",
    "\n",
    "#Iniciar el navegador en la posición deseada\n",
    "driver.set_window_position(1000,0)\n",
    "driver.maximize_window()\n",
    "time.sleep(1)\n",
    "#print(driver_path)"
   ]
  },
  {
   "cell_type": "code",
   "execution_count": null,
   "id": "cc2edb4a",
   "metadata": {},
   "outputs": [],
   "source": [
    "#Iniciar el navegador e ir a una URL\n",
    "driver.get(\"https://mister.mundodeportivo.com/\")"
   ]
  },
  {
   "cell_type": "code",
   "execution_count": null,
   "id": "69b954e9",
   "metadata": {},
   "outputs": [],
   "source": [
    "#Ir a más información\n",
    "boton=driver.find_element(By.ID,\"didomi-notice-learn-more-button\")\n",
    "boton.click()"
   ]
  },
  {
   "cell_type": "code",
   "execution_count": null,
   "id": "c425d08c",
   "metadata": {},
   "outputs": [],
   "source": [
    "time.sleep(2)"
   ]
  },
  {
   "cell_type": "code",
   "execution_count": null,
   "id": "2ad00278",
   "metadata": {},
   "outputs": [],
   "source": [
    "#rachazar todos\n",
    "footer_element=driver.find_element(By.CLASS_NAME, \"didomi-consent-popup-footer\")\n",
    "\n",
    "#Luego, busca el botón dentro del elemento del footer por su clase\n",
    "boton=footer_element.find_element(By.CLASS_NAME, \"didomi-components-button\")\n",
    "\n",
    "#Ahora puedes hacer click en el botón\n",
    "boton.click()"
   ]
  },
  {
   "cell_type": "code",
   "execution_count": null,
   "id": "61c50c04",
   "metadata": {},
   "outputs": [],
   "source": [
    "for i in range(1,5):\n",
    "    boton=driver.find_element(By.CLASS_NAME, \"btn.btn--capsule.btn--primary\")\n",
    "    boton.click()"
   ]
  },
  {
   "cell_type": "code",
   "execution_count": null,
   "id": "50ffb5ed",
   "metadata": {},
   "outputs": [],
   "source": [
    "#Continuar con email:\n",
    "boton=driver.find_element(By.CLASS_NAME,\"btn.btn--capsule.btn--plain\")\n",
    "boton.click()"
   ]
  },
  {
   "cell_type": "code",
   "execution_count": null,
   "id": "90bfec49",
   "metadata": {},
   "outputs": [],
   "source": [
    "#Localiza el div que contine los campos de nombre de usuario y contraseña\n",
    "div_container=driver.find_element(By.CLASS_NAME, \"container.container--v-spaced.container--h-spaced.container-login\")"
   ]
  },
  {
   "cell_type": "code",
   "execution_count": null,
   "id": "c03745bf",
   "metadata": {},
   "outputs": [],
   "source": [
    "#Dentro del div, localiza el campo de nombre de usuario por su ID\n",
    "campo_nombre_usuario=div_container.find_element(By.ID, \"email\")"
   ]
  },
  {
   "cell_type": "code",
   "execution_count": null,
   "id": "f507a277",
   "metadata": {},
   "outputs": [],
   "source": [
    "#Luego, localiza el campo de contraseña por su atributo 'placeholder'\n",
    "campo_contrasena=div_container.find_element(By.XPATH, '//*[@id=\"app\"]/div/div[2]/div/form/div[2]/input')"
   ]
  },
  {
   "cell_type": "code",
   "execution_count": null,
   "id": "69d1a076",
   "metadata": {},
   "outputs": [],
   "source": [
    "#Introduce el nombre de usuario y la contraseña\n",
    "campo_nombre_usuario.send_keys(\"trabajosuem@outlook.es\")#aqui va el correo\n",
    "campo_contrasena.send_keys(\"UniversidadEuropeaMadrid2023\")#aqui va la contraseña"
   ]
  },
  {
   "cell_type": "code",
   "execution_count": null,
   "id": "620846da",
   "metadata": {},
   "outputs": [],
   "source": [
    "#Ahora click sobre continuar"
   ]
  },
  {
   "cell_type": "code",
   "execution_count": null,
   "id": "c483c2a0",
   "metadata": {},
   "outputs": [],
   "source": [
    "#Localiza el div con la clase \"container container--v-spaced container--h-spaced container-login\"\n",
    "div_container_login=driver.find_element(By.CLASS_NAME, \"container.container--v-spaced.container--h-spaced.container-login\")"
   ]
  },
  {
   "cell_type": "code",
   "execution_count": null,
   "id": "9f8c3488",
   "metadata": {},
   "outputs": [],
   "source": [
    "#Dentro de ese div, encuentro el formulario con la clase \"inputs\"\n",
    "form_inputs=div_container_login.find_element(By.CLASS_NAME, \"inputs\")"
   ]
  },
  {
   "cell_type": "code",
   "execution_count": null,
   "id": "0822a7cb",
   "metadata": {},
   "outputs": [],
   "source": [
    "#Ahora, dentro del formulario, encuentra el botón \"Container\" por su clase\n",
    "boton_continuar=form_inputs.find_element(By.CLASS_NAME, \"btn.btn--capsule.btn--primary\")"
   ]
  },
  {
   "cell_type": "code",
   "execution_count": null,
   "id": "c09001f4",
   "metadata": {},
   "outputs": [],
   "source": [
    "#Hacer clic en el boton \"Continuar\"\n",
    "boton_continuar.click()"
   ]
  },
  {
   "cell_type": "code",
   "execution_count": null,
   "id": "c70ba50d",
   "metadata": {},
   "outputs": [],
   "source": [
    "driver.implicitly_wait(3) #Espera hasta 3 segundos antes de lanzan una excepción"
   ]
  },
  {
   "cell_type": "code",
   "execution_count": null,
   "id": "a6b0b2f8",
   "metadata": {},
   "outputs": [],
   "source": [
    "#Encontrar el botón y hacer clic en él\n",
    "content_div=driver.find_element(By.ID, \"content\")"
   ]
  },
  {
   "cell_type": "code",
   "execution_count": null,
   "id": "be16e7ae",
   "metadata": {},
   "outputs": [],
   "source": [
    "lock_div=driver.find_element(By.ID, \"lock\")"
   ]
  },
  {
   "cell_type": "code",
   "execution_count": null,
   "id": "7403937c",
   "metadata": {},
   "outputs": [],
   "source": [
    "header_top_div=driver.find_element(By.CLASS_NAME, \"header-top\")"
   ]
  },
  {
   "cell_type": "code",
   "execution_count": null,
   "id": "b09b5bd3",
   "metadata": {},
   "outputs": [],
   "source": [
    "btn_omitir=driver.find_element(By.XPATH, '/html/body/div[3]/div[3]/div/div/div[3]/button[1]')"
   ]
  },
  {
   "cell_type": "code",
   "execution_count": null,
   "id": "bee940b9",
   "metadata": {},
   "outputs": [],
   "source": [
    "btn_omitir.click()"
   ]
  },
  {
   "cell_type": "code",
   "execution_count": null,
   "id": "bc129e5e",
   "metadata": {},
   "outputs": [],
   "source": [
    "elemento=driver.find_element(By.CSS_SELECTOR, \".header-top .header-top-right .btn.btn-sw.btn-search-players.btn-header-top\")"
   ]
  },
  {
   "cell_type": "code",
   "execution_count": null,
   "id": "b776fb50",
   "metadata": {},
   "outputs": [],
   "source": [
    "elemento.click()"
   ]
  },
  {
   "cell_type": "code",
   "execution_count": null,
   "id": "247888b1",
   "metadata": {},
   "outputs": [],
   "source": [
    "#FILTRAR POR VALORACION"
   ]
  },
  {
   "cell_type": "code",
   "execution_count": null,
   "id": "44feda17",
   "metadata": {},
   "outputs": [],
   "source": [
    "selector=\".sw-topbar .sw-top-bottom .buttons-players .btn.btn-border.search-players-sort\"\n",
    "elemento=driver.find_element(By.CSS_SELECTOR, selector)\n",
    "elemento.click()"
   ]
  },
  {
   "cell_type": "code",
   "execution_count": null,
   "id": "d533188a",
   "metadata": {},
   "outputs": [],
   "source": [
    "select_element=driver.find_element(By.XPATH, \"//option[@value='3']\") \n",
    "select_element.click() "
   ]
  },
  {
   "cell_type": "code",
   "execution_count": null,
   "id": "712e3241",
   "metadata": {},
   "outputs": [],
   "source": [
    "#Esperar 3 segundos antes de entrar en el bucle\n",
    "time.sleep(3)"
   ]
  },
  {
   "cell_type": "code",
   "execution_count": null,
   "id": "888af7c0",
   "metadata": {},
   "outputs": [],
   "source": [
    "#Darle a 'ver más' 11 veces para obtener los datos"
   ]
  },
  {
   "cell_type": "code",
   "execution_count": null,
   "id": "00fb421a",
   "metadata": {},
   "outputs": [],
   "source": [
    "for i in range(0,10):\n",
    "    selector=\".sw-content .btn-wrapper .btn.btn-grey.search-players-more\"\n",
    "    elemento=driver .find_element(By.CSS_SELECTOR, selector)\n",
    "    elemento.click()\n",
    "    time.sleep(1)"
   ]
  },
  {
   "cell_type": "code",
   "execution_count": null,
   "id": "20961a96",
   "metadata": {},
   "outputs": [],
   "source": [
    "#Esperar 2 segundos antes de entrar en el bucle\n",
    "time.sleep(2)"
   ]
  },
  {
   "cell_type": "code",
   "execution_count": null,
   "id": "3738a50b",
   "metadata": {},
   "outputs": [],
   "source": [
    "#Recopila todos los datos de los jugadores"
   ]
  },
  {
   "cell_type": "code",
   "execution_count": null,
   "id": "c6fbd5c4",
   "metadata": {},
   "outputs": [],
   "source": [
    "import csv\n",
    "import time\n",
    "from selenium.webdriver.common.by import By\n",
    "\n",
    "#Crea una lista para almacenar los datos de los jugadores\n",
    "jugadores=[]\n",
    "div_elements=driver.find_elements(By.CLASS_NAME, \"wrapper.sw-players\")\n",
    "ul_elements=div_elements[0].find_elements(By.CSS_SELECTOR, \"div.player-row\")\n",
    "print(f\"Total de elementos ul encontrados: {len(ul_elements)}\")\n",
    "\n",
    "#Encabezados del archivo CSV\n",
    "headers=[\"Nombre\", \"Precio\", \"Media\", \"Total_puntos\"]\n",
    "\n",
    "#Nombre del archivo CSV\n",
    "csv_file=\"jugadores.csv\"\n",
    "\n",
    "with open(csv_file, \"w\", newline=\"\", encoding=\"utf-8\") as csvfile:\n",
    "    writer=csv.DictWriter(csvfile, fieldnames=headers)\n",
    "    writer.writeheader()\n",
    "\n",
    "    for ul in ul_elements:\n",
    "        try:\n",
    "            jugador={\n",
    "                \"Nombre\":ul.find_element(By.CLASS_NAME, \"name\").text,\n",
    "                \"Precio\":ul.find_element(By.CLASS_NAME, \"underName\").text,\n",
    "                \"Media\":ul.find_element(By.CLASS_NAME, \"avg\").text,\n",
    "                \"Total_puntos\": ul.find_element(By.CLASS_NAME, \"points\").text\n",
    "                #\"Points_antepenultimate_match\": ul.find_element(By.CSS_SELECTOR, 'body > div.sw > div.sw-content > div.wrapper.sw-profile > div > div.box.box-scores > div:nth-child(1) > div.bar > div.score').text,\n",
    "            }\n",
    "\n",
    "            jugadores.append(jugador)\n",
    "            print(f\"Jugador procesado: {jugador}\")\n",
    "        except Exception as e:\n",
    "            print(f\"Error procesando jugador: {e}\")\n",
    "        time.sleep(1)"
   ]
  },
  {
   "cell_type": "code",
   "execution_count": null,
   "id": "d07b268c",
   "metadata": {},
   "outputs": [],
   "source": []
  },
  {
   "cell_type": "markdown",
   "id": "3e7dab73",
   "metadata": {},
   "source": [
    "# Web-Scraping AnaliticaFantasy"
   ]
  },
  {
   "cell_type": "code",
   "execution_count": null,
   "id": "7c731994",
   "metadata": {},
   "outputs": [],
   "source": [
    "from selenium import webdriver\n",
    "from selenium.webdriver.chrome.service import Service\n",
    "from webdriver_manager.chrome import ChromeDriverManager\n",
    "from selenium.webdriver.common.by import By\n",
    "from selenium.common.exceptions import NoSuchWindowException\n",
    "\n",
    "import pyautogui\n",
    "\n",
    "import csv\n",
    "import os\n",
    "import time\n",
    "\n",
    "driver = webdriver.Chrome()\n",
    "driver.maximize_window()\n",
    "url = \"https://www.analiticafantasy.com/fantasy-la-liga/estadisticas\"\n",
    "driver.get(url)\n",
    "time.sleep(8)\n",
    "\n",
    "#desktop = os.path.join(os.path.join(os.environ['USERPROFILE']), 'Desktop')\n",
    "#ruta_archivo_csv = os.path.join(desktop, 'temporada2020.csv')\n",
    "\n",
    "#//////////////\n",
    "# Obtiene la ruta al escritorio en macOS\n",
    "desktop = os.path.join(os.path.expanduser('~'), 'Desktop')\n",
    "\n",
    "# Crea la ruta al archivo CSV en el escritorio\n",
    "ruta_archivo_csv = os.path.join(desktop, 'temporada2020.csv')\n",
    "\n",
    "#//////////////\n",
    "\n",
    "\n",
    "btn_aceptar=driver.find_element(By.XPATH,'/html/body/div[1]/div/div/div/div[2]/div/button[2]')\n",
    "btn_aceptar.click()\n",
    "\n",
    "# Encuentra los elementos en la tabla\n",
    "# Asegúrate de ajustar el selector para que coincida con tu estructura HTML\n",
    "def obtener_datos_tabla():\n",
    "    elementos = driver.find_elements(By.CSS_SELECTOR,'div[data-tag=\"allowRowEvents\"] > div[data-tag=\"allowRowEvents\"]')\n",
    "    valores = [elemento.text for elemento in elementos]\n",
    "# Abre un archivo CSV para escribir los datos\n",
    "\n",
    "\n",
    "    segmentos = [valores[i:i + 22] for i in range(0, len(valores), 22)]\n",
    "    ruta_absoluta = \"/Users/usuario/Documents/Carreras/UEM/Informatica/3º año/Año(2023-2024)/1ºS/PC1/temporada2020.csv.xlsx\"\n",
    "    with open(ruta_archivo_csv, 'a', newline='', encoding='utf-8') as file:\n",
    "        writer = csv.writer(file)\n",
    "        for segmento in segmentos:\n",
    "            writer.writerow(segmento)\n",
    "            \n",
    "            \n",
    "for _ in range(54):\n",
    "    boton_actualizar = driver.find_element(By.XPATH,'//*[@id=\"pagination-next-page\"]')\n",
    "    time.sleep(2)\n",
    "    boton_actualizar.click()\n",
    "\n",
    "    # Espera un momento para que se cargue la nueva información (ajusta el tiempo según sea necesario)\n",
    "    time.sleep(3)\n",
    "\n",
    "    # Llama a la función para obtener y guardar los datos de la tabla\n",
    "    obtener_datos_tabla()\n",
    "# Cierra el navegador"
   ]
  },
  {
   "cell_type": "code",
   "execution_count": null,
   "id": "0654f10e",
   "metadata": {},
   "outputs": [],
   "source": [
    "from selenium import webdriver\n",
    "from selenium.webdriver.chrome.service import Service\n",
    "from webdriver_manager.chrome import ChromeDriverManager\n",
    "from selenium.webdriver.common.by import By\n",
    "import csv\n",
    "import os\n",
    "import time\n",
    "\n",
    "driver = webdriver.Chrome()\n",
    "driver.maximize_window()\n",
    "url = \"https://www.analiticafantasy.com/fantasy-la-liga/estadisticas\"\n",
    "driver.get(url)\n",
    "time.sleep(8)\n",
    "\n",
    "desktop = os.path.join(os.path.join(os.environ['USERPROFILE']), 'Desktop')\n",
    "ruta_archivo_csv = os.path.join(desktop, 'precios2022.csv')\n",
    "\n",
    "# Encuentra los elementos en la tabla\n",
    "# Asegúrate de ajustar el selector para que coincida con tu estructura HTML\n",
    "def obtener_datos_tabla():\n",
    "  elementos = driver.find_elements(By.CSS_SELECTOR, 'div.mercado-fantasy-table-column > span')\n",
    "  textos = [elemento.text for elemento in elementos]\n",
    "# Abre un archivo CSV para escribir los datos\n",
    "  ruta_absoluta = \"C:/Users/34633/Desktop/precios2022.csv.xlsx\"\n",
    "  ruta_archivo_csv = os.path.join(desktop, 'precios2022.csv')\n",
    "  with open(ruta_archivo_csv, 'a', newline='', encoding='utf-8') as file:\n",
    "    writer = csv.writer(file)\n",
    "    for texto in textos:\n",
    "        writer.writerow([texto])\n",
    "for _ in range(54):\n",
    "   boton_actualizar = driver.find_element(By.XPATH,'//*[@id=\"pagination-next-page\"]')\n",
    "   time.sleep(2)\n",
    "   boton_actualizar.click()\n",
    "\n",
    "    # Espera un momento para que se cargue la nueva información (ajusta el tiempo según sea necesario)\n",
    "   time.sleep(3)\n",
    "\n",
    "    # Llama a la función para obtener y guardar los datos de la tabla\n",
    "   obtener_datos_tabla()\n",
    "# Cierra el navegador"
   ]
  },
  {
   "cell_type": "markdown",
   "id": "c1ce7524",
   "metadata": {},
   "source": []
  }
 ],
 "metadata": {
  "kernelspec": {
   "display_name": "Python 3 (ipykernel)",
   "language": "python",
   "name": "python3"
  },
  "language_info": {
   "codemirror_mode": {
    "name": "ipython",
    "version": 3
   },
   "file_extension": ".py",
   "mimetype": "text/x-python",
   "name": "python",
   "nbconvert_exporter": "python",
   "pygments_lexer": "ipython3",
   "version": "3.11.5"
  }
 },
 "nbformat": 4,
 "nbformat_minor": 5
}
