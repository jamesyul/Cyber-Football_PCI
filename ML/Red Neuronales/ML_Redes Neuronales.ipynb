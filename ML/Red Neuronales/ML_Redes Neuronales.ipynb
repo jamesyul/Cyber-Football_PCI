{
 "cells": [
  {
   "cell_type": "code",
   "id": "8fa660a0",
   "metadata": {
    "ExecuteTime": {
     "end_time": "2024-06-28T19:59:46.642994Z",
     "start_time": "2024-06-28T19:59:46.638640Z"
    }
   },
   "source": [
    "# Importación de librerías\n",
    "import pandas as pd  # Para manipulación y análisis de datos\n",
    "from sklearn.model_selection import train_test_split  # Para dividir el conjunto de datos en entrenamiento y prueba\n",
    "from sklearn.preprocessing import StandardScaler  # Para estandarizar características\n",
    "from tensorflow.keras.models import Sequential  # Para inicializar modelos secuenciales\n",
    "from tensorflow.keras.layers import Dense, Input  # Para definir capas densamente conectadas en la red neuronal\n",
    "import joblib  # Para guardar y cargar modelos entrenados\n",
    "import numpy as np  # Para cálculos numéricos\n",
    "from sklearn.metrics import mean_squared_error, r2_score  # Para calcular métricas de rendimiento del modelo"
   ],
   "outputs": [],
   "execution_count": 7
  },
  {
   "metadata": {
    "ExecuteTime": {
     "end_time": "2024-06-28T20:01:23.489418Z",
     "start_time": "2024-06-28T20:01:23.447903Z"
    }
   },
   "cell_type": "code",
   "source": [
    "# Cargar datos\n",
    "df = pd.read_csv(\"juadores_fantasy.csv.csv\")\n",
    "\n",
    "#Impresion de las columnas existentes \n",
    "print(df.columns + \"/n\")\n",
    "print(df[\"posicion\"])\n",
    "\n"
   ],
   "id": "a6157ee9",
   "outputs": [
    {
     "name": "stdout",
     "output_type": "stream",
     "text": [
      "Index(['Nombre/n', 'Precio/n', 'Media/n', 'Total_puntos/n', 'posicion/n',\n",
      "       'equipo/n'],\n",
      "      dtype='object')\n",
      "0      mediocentro\n",
      "1      mediocentro\n",
      "2        delantero\n",
      "3        delantero\n",
      "4        delantero\n",
      "          ...     \n",
      "509        portero\n",
      "510        portero\n",
      "511    mediocentro\n",
      "512    mediocentro\n",
      "513        defensa\n",
      "Name: posicion, Length: 514, dtype: object\n"
     ]
    }
   ],
   "execution_count": 9
  },
  {
   "cell_type": "code",
   "id": "dd262c28",
   "metadata": {
    "ExecuteTime": {
     "end_time": "2024-06-28T12:49:45.533309Z",
     "start_time": "2024-06-28T12:49:45.517594Z"
    }
   },
   "source": [
    "# Dividir los datos en características (X) y el objetivo (y)\n",
    "X_puntos = df[['Precio', 'Media']]\n",
    "X_precio = df[['Total_puntos', 'Media']]\n",
    "X_Todo = df[['Precio', 'Media', 'Total_puntos']]\n",
    "y_puntos = df['Total_puntos']\n",
    "y_precio = df['Precio']\n",
    "\n",
    "# Dividir los datos en conjuntos de entrenamiento y prueba\n",
    "# X_train, X_test, y_puntos_train, y_puntos_test = train_test_split(X_puntos, y_puntos, test_size=0.2, random_state=42)\n",
    "# X_train, X_test, y_precio_train, y_precio_test = train_test_split(X_precio, y_precio, test_size=0.2, random_state=42)\n",
    "\n",
    "X_train, X_test, y_puntos_train, y_puntos_test = train_test_split(X_Todo, y_puntos, test_size=0.2, random_state=42)\n",
    "X_train, X_test, y_precio_train, y_precio_test = train_test_split(X_Todo, y_precio, test_size=0.2, random_state=42)\n",
    "\n",
    "# Escalar las características\n",
    "scaler = StandardScaler()\n",
    "X_train_scaled = scaler.fit_transform(X_train)\n",
    "X_test_scaled = scaler.transform(X_test)"
   ],
   "outputs": [],
   "execution_count": 129
  },
  {
   "cell_type": "code",
   "id": "2e66f1ab",
   "metadata": {
    "ExecuteTime": {
     "end_time": "2024-06-28T12:49:49.097814Z",
     "start_time": "2024-06-28T12:49:47.901765Z"
    }
   },
   "source": [
    "# Crear el modelo para predecir puntos\n",
    "model_puntos = Sequential([\n",
    "    Input(shape=(X_train.shape[1],)),  \n",
    "    Dense(32, activation='relu'),\n",
    "    Dense(16, activation='relu'),\n",
    "    Dense(1, activation='linear')\n",
    "])\n",
    "\n",
    "# Configuración del modelo para que utilice el algoritmo de optimización \n",
    "model_puntos.compile(optimizer='adam', loss='mean_squared_error')\n",
    "\n",
    "# Entrenar el modelo para predecir puntos\n",
    "model_puntos.fit(X_train_scaled, y_puntos_train, epochs=50, batch_size=32, verbose=0)\n"
   ],
   "outputs": [
    {
     "data": {
      "text/plain": [
       "<keras.src.callbacks.history.History at 0x14b812ca0>"
      ]
     },
     "execution_count": 130,
     "metadata": {},
     "output_type": "execute_result"
    }
   ],
   "execution_count": 130
  },
  {
   "cell_type": "code",
   "id": "e80f2106",
   "metadata": {
    "ExecuteTime": {
     "end_time": "2024-06-28T12:38:45.222164Z",
     "start_time": "2024-06-28T12:38:44.430332Z"
    }
   },
   "source": [
    "# Crear el modelo para predecir precio\n",
    "model_precio = Sequential([\n",
    "    Input(shape=(X_train.shape[1],)),\n",
    "    Dense(32, activation='relu'),\n",
    "    Dense(16, activation='relu'),\n",
    "    Dense(1, activation='linear')\n",
    "])\n",
    "\n",
    "# Configuración del modelo para que utilice el algoritmo de optimización \n",
    "model_precio.compile(optimizer='adam', loss='mean_squared_error')\n",
    "\n",
    "# Entrenar el modelo para predecir precio\n",
    "model_precio.fit(X_train_scaled, y_precio_train, epochs=50, batch_size=32, verbose=0)\n"
   ],
   "outputs": [
    {
     "data": {
      "text/plain": [
       "<keras.src.callbacks.history.History at 0x14a7c64f0>"
      ]
     },
     "execution_count": 113,
     "metadata": {},
     "output_type": "execute_result"
    }
   ],
   "execution_count": 113
  },
  {
   "cell_type": "code",
   "id": "203b4820",
   "metadata": {
    "ExecuteTime": {
     "end_time": "2024-06-28T12:38:45.323209Z",
     "start_time": "2024-06-28T12:38:45.222963Z"
    }
   },
   "source": [
    "# Hacer predicciones para puntos y precio\n",
    "puntos_predictions = model_puntos.predict(X_test_scaled)\n",
    "precio_predictions = model_precio.predict(X_test_scaled)\n",
    "\n",
    "# Obtener el jugador con más puntos y el jugador con el precio más alto\n",
    "indice_max_puntos = puntos_predictions.argmax()\n",
    "indice_max_precio = precio_predictions.argmax()\n",
    "\n",
    "jugador_mas_puntos = df.loc[indice_max_puntos, 'Nombre']\n",
    "jugador_mas_precio = df.loc[indice_max_precio, 'Nombre']\n",
    "\n",
    "print(f\"Jugador con más puntos predichos: {jugador_mas_puntos}\")\n",
    "print(f\"Jugador con precio más alto predicho: {jugador_mas_precio}\")\n"
   ],
   "outputs": [
    {
     "name": "stdout",
     "output_type": "stream",
     "text": [
      "\u001B[1m4/4\u001B[0m \u001B[32m━━━━━━━━━━━━━━━━━━━━\u001B[0m\u001B[37m\u001B[0m \u001B[1m0s\u001B[0m 5ms/step \n",
      "\u001B[1m4/4\u001B[0m \u001B[32m━━━━━━━━━━━━━━━━━━━━\u001B[0m\u001B[37m\u001B[0m \u001B[1m0s\u001B[0m 4ms/step \n",
      "Jugador con más puntos predichos: R. Alcaraz\n",
      "Jugador con precio más alto predicho: R. Alcaraz\n"
     ]
    }
   ],
   "execution_count": 114
  },
  {
   "cell_type": "code",
   "id": "014ec114",
   "metadata": {
    "ExecuteTime": {
     "end_time": "2024-06-28T12:38:45.385999Z",
     "start_time": "2024-06-28T12:38:45.324527Z"
    }
   },
   "source": [
    "# Hacer predicciones para puntos y precio\n",
    "puntos_predictions = model_puntos.predict(X_test_scaled)\n",
    "precio_predictions = model_precio.predict(X_test_scaled)\n",
    "\n",
    "# Obtener los 10 jugadores con más puntos predichos\n",
    "top_10_jugadores_puntos = df.nlargest(10, 'Total_puntos')\n",
    "\n",
    "# Obtener los 10 jugadores con los precios más altos predichos\n",
    "top_10_jugadores_precio = df.nlargest(10, 'Precio')\n",
    "\n",
    "# Impresion de los top 10 Jugadores con mayores puntos y precios \n",
    "print(\"Top 10 jugadores con más puntos predichos:\")\n",
    "print(top_10_jugadores_puntos[['Nombre', 'Total_puntos']])\n",
    "\n",
    "print(\"\\nTop 10 jugadores con precios más altos predichos:\")\n",
    "print(top_10_jugadores_precio[['Nombre', 'Precio']])\n",
    "\n"
   ],
   "outputs": [
    {
     "name": "stdout",
     "output_type": "stream",
     "text": [
      "\u001B[1m4/4\u001B[0m \u001B[32m━━━━━━━━━━━━━━━━━━━━\u001B[0m\u001B[37m\u001B[0m \u001B[1m0s\u001B[0m 775us/step\n",
      "\u001B[1m4/4\u001B[0m \u001B[32m━━━━━━━━━━━━━━━━━━━━\u001B[0m\u001B[37m\u001B[0m \u001B[1m0s\u001B[0m 741us/step\n",
      "Top 10 jugadores con más puntos predichos:\n",
      "          Nombre  Total_puntos\n",
      "0  J. Bellingham           173\n",
      "1        T. Kubo           147\n",
      "2   A. Griezmann           144\n",
      "3    I. Williams           139\n",
      "4     B. Mayoral           138\n",
      "5      A. García           137\n",
      "6      A. Dovbyk           130\n",
      "7      Á. Valles           128\n",
      "8         Pepelu           127\n",
      "9     A. Budimir           127\n",
      "\n",
      "Top 10 jugadores con precios más altos predichos:\n",
      "            Nombre    Precio\n",
      "2     A. Griezmann  24384000\n",
      "0    J. Bellingham  24262000\n",
      "56  R. Lewandowski  20994000\n",
      "1          T. Kubo  20904000\n",
      "5        A. García  20771000\n",
      "18     F. Valverde  20115000\n",
      "10            Isco  19605000\n",
      "13         Rodrygo  19338000\n",
      "3      I. Williams  18358000\n",
      "22       G. Moreno  18341000\n"
     ]
    }
   ],
   "execution_count": 115
  },
  {
   "cell_type": "code",
   "id": "ef6730ec",
   "metadata": {
    "ExecuteTime": {
     "end_time": "2024-06-28T12:38:45.439648Z",
     "start_time": "2024-06-28T12:38:45.387127Z"
    }
   },
   "source": [
    "# Hacer predicciones para puntos y precio\n",
    "puntos_predictions = model_puntos.predict(X_test_scaled)\n",
    "precio_predictions = model_precio.predict(X_test_scaled)\n",
    "\n",
    "# Calcular el Error Cuadrático Medio (MSE) para puntos y precio\n",
    "mse_puntos = mean_squared_error(y_puntos_test, puntos_predictions)\n",
    "mse_precio = mean_squared_error(y_precio_test, precio_predictions)\n",
    "\n",
    "# Calcular el coeficiente de determinación (R^2) para puntos y precio\n",
    "r2_puntos = r2_score(y_puntos_test, puntos_predictions)\n",
    "r2_precio = r2_score(y_precio_test, precio_predictions)\n",
    "\n",
    "print(f\"MSE para puntos: {mse_puntos:.2f}\")\n",
    "print(f\"R^2 para puntos: {r2_puntos:.2f}\")\n",
    "\n",
    "print(f\"MSE para precio: {mse_precio:.2f}\")\n",
    "print(f\"R^2 para precio: {r2_precio:.2f}\")\n"
   ],
   "outputs": [
    {
     "name": "stdout",
     "output_type": "stream",
     "text": [
      "\u001B[1m4/4\u001B[0m \u001B[32m━━━━━━━━━━━━━━━━━━━━\u001B[0m\u001B[37m\u001B[0m \u001B[1m0s\u001B[0m 512us/step\n",
      "\u001B[1m4/4\u001B[0m \u001B[32m━━━━━━━━━━━━━━━━━━━━\u001B[0m\u001B[37m\u001B[0m \u001B[1m0s\u001B[0m 528us/step\n",
      "MSE para puntos: 131.44\n",
      "R^2 para puntos: 0.90\n",
      "MSE para precio: 58069431360013.24\n",
      "R^2 para precio: -0.59\n"
     ]
    }
   ],
   "execution_count": 116
  },
  {
   "cell_type": "code",
   "id": "c11e2166",
   "metadata": {
    "ExecuteTime": {
     "end_time": "2024-06-28T12:38:45.444538Z",
     "start_time": "2024-06-28T12:38:45.440499Z"
    }
   },
   "source": [
    "# Crear un DataFrame con las predicciones\n",
    "# Obtener los 10 jugadores con las predicciones más altas de puntos\n",
    "top_10_puntos_predictions = pd.DataFrame({\n",
    "    'Nombre': df.iloc[X_test.index]['Nombre'],  # Recuperar los nombres de los jugadores\n",
    "    'Posicion': df.iloc[X_test.index]['posicion'],   # Utilizar la posición de los jugadores\n",
    "    'Predicciones_Puntos': puntos_predictions.flatten(),  # Aplanar el array de predicciones\n",
    "})\n",
    "\n",
    "top_10_precio_predictions = pd.DataFrame({\n",
    "    'Nombre': df.iloc[X_test.index]['Nombre'],  # Recuperar los nombres de los jugadores\n",
    "    'Posicion': df.iloc[X_test.index]['posicion'],   # Utilizar la posición de los jugadores\n",
    "    'Predicciones_Precio': precio_predictions.flatten()  # Aplanar el array de predicciones\n",
    "})\n"
   ],
   "outputs": [],
   "execution_count": 117
  },
  {
   "metadata": {
    "ExecuteTime": {
     "end_time": "2024-06-28T12:38:45.451517Z",
     "start_time": "2024-06-28T12:38:45.445219Z"
    }
   },
   "cell_type": "code",
   "source": [
    "# Ordenar el DataFrame por Predicciones_Puntos en orden descendente\n",
    "top_10_puntos_predictions = top_10_puntos_predictions.sort_values(by='Predicciones_Puntos', ascending=False)\n",
    "\n",
    "# Tomar solo las primeras 10 filas (los 10 jugadores con las predicciones más altas)\n",
    "top_10_puntos_predictions = top_10_puntos_predictions.head(10)\n",
    "\n",
    "# Cambiar el nombre de la columna 'Predicciones_Puntos' a 'Puntos'\n",
    "top_10_puntos_predictions = top_10_puntos_predictions.rename(columns={'Predicciones_Puntos': 'Puntos'})\n",
    "\n",
    "# Guardar el DataFrame en un archivo CSV\n",
    "top_10_puntos_predictions.to_csv('top_10_predicciones_puntos.csv', index=False)"
   ],
   "id": "91f5ec4e14c1c5df",
   "outputs": [],
   "execution_count": 118
  },
  {
   "metadata": {
    "ExecuteTime": {
     "end_time": "2024-06-28T12:38:45.456086Z",
     "start_time": "2024-06-28T12:38:45.452123Z"
    }
   },
   "cell_type": "code",
   "source": [
    "# Ordenar el DataFrame por Predicciones_Puntos en orden descendente\n",
    "top_10_precio_predictions = top_10_precio_predictions.sort_values(by='Predicciones_Precio', ascending=False)\n",
    "\n",
    "# Tomar solo las primeras 10 filas (los 10 jugadores con las predicciones más altas)\n",
    "top_10_precio_predictions = top_10_precio_predictions.head(10)\n",
    "\n",
    "# Cambiar el nombre de la columna 'Predicciones_Puntos' a 'Puntos'\n",
    "top_10_precio_predictions = top_10_precio_predictions.rename(columns={'Predicciones_Precio': 'Precio'})\n",
    "\n",
    "# Guardar el DataFrame en un archivo CSV\n",
    "top_10_precio_predictions.to_csv('top_10_precio_predictions.csv', index=False)"
   ],
   "id": "ce29bce145b843ac",
   "outputs": [],
   "execution_count": 119
  },
  {
   "cell_type": "code",
   "id": "a1470ad7",
   "metadata": {
    "ExecuteTime": {
     "end_time": "2024-06-28T12:38:45.461716Z",
     "start_time": "2024-06-28T12:38:45.457524Z"
    }
   },
   "source": "top_10_puntos_predictions",
   "outputs": [
    {
     "data": {
      "text/plain": [
       "            Nombre     Posicion      Puntos\n",
       "0    J. Bellingham  mediocentro  200.829010\n",
       "2     A. Griezmann    delantero  153.651382\n",
       "10            Isco  mediocentro  133.264725\n",
       "9       A. Budimir    delantero  130.904678\n",
       "11           Sávio    delantero  125.848274\n",
       "22       G. Moreno    delantero  112.683022\n",
       "18     F. Valverde  mediocentro  109.705879\n",
       "399        M. Guiu    delantero   99.215668\n",
       "72       V. Muriqi    delantero   98.902199\n",
       "30       B. Méndez  mediocentro   98.733788"
      ],
      "text/html": [
       "<div>\n",
       "<style scoped>\n",
       "    .dataframe tbody tr th:only-of-type {\n",
       "        vertical-align: middle;\n",
       "    }\n",
       "\n",
       "    .dataframe tbody tr th {\n",
       "        vertical-align: top;\n",
       "    }\n",
       "\n",
       "    .dataframe thead th {\n",
       "        text-align: right;\n",
       "    }\n",
       "</style>\n",
       "<table border=\"1\" class=\"dataframe\">\n",
       "  <thead>\n",
       "    <tr style=\"text-align: right;\">\n",
       "      <th></th>\n",
       "      <th>Nombre</th>\n",
       "      <th>Posicion</th>\n",
       "      <th>Puntos</th>\n",
       "    </tr>\n",
       "  </thead>\n",
       "  <tbody>\n",
       "    <tr>\n",
       "      <th>0</th>\n",
       "      <td>J. Bellingham</td>\n",
       "      <td>mediocentro</td>\n",
       "      <td>200.829010</td>\n",
       "    </tr>\n",
       "    <tr>\n",
       "      <th>2</th>\n",
       "      <td>A. Griezmann</td>\n",
       "      <td>delantero</td>\n",
       "      <td>153.651382</td>\n",
       "    </tr>\n",
       "    <tr>\n",
       "      <th>10</th>\n",
       "      <td>Isco</td>\n",
       "      <td>mediocentro</td>\n",
       "      <td>133.264725</td>\n",
       "    </tr>\n",
       "    <tr>\n",
       "      <th>9</th>\n",
       "      <td>A. Budimir</td>\n",
       "      <td>delantero</td>\n",
       "      <td>130.904678</td>\n",
       "    </tr>\n",
       "    <tr>\n",
       "      <th>11</th>\n",
       "      <td>Sávio</td>\n",
       "      <td>delantero</td>\n",
       "      <td>125.848274</td>\n",
       "    </tr>\n",
       "    <tr>\n",
       "      <th>22</th>\n",
       "      <td>G. Moreno</td>\n",
       "      <td>delantero</td>\n",
       "      <td>112.683022</td>\n",
       "    </tr>\n",
       "    <tr>\n",
       "      <th>18</th>\n",
       "      <td>F. Valverde</td>\n",
       "      <td>mediocentro</td>\n",
       "      <td>109.705879</td>\n",
       "    </tr>\n",
       "    <tr>\n",
       "      <th>399</th>\n",
       "      <td>M. Guiu</td>\n",
       "      <td>delantero</td>\n",
       "      <td>99.215668</td>\n",
       "    </tr>\n",
       "    <tr>\n",
       "      <th>72</th>\n",
       "      <td>V. Muriqi</td>\n",
       "      <td>delantero</td>\n",
       "      <td>98.902199</td>\n",
       "    </tr>\n",
       "    <tr>\n",
       "      <th>30</th>\n",
       "      <td>B. Méndez</td>\n",
       "      <td>mediocentro</td>\n",
       "      <td>98.733788</td>\n",
       "    </tr>\n",
       "  </tbody>\n",
       "</table>\n",
       "</div>"
      ]
     },
     "execution_count": 120,
     "metadata": {},
     "output_type": "execute_result"
    }
   ],
   "execution_count": 120
  },
  {
   "metadata": {
    "ExecuteTime": {
     "end_time": "2024-06-28T12:38:45.496285Z",
     "start_time": "2024-06-28T12:38:45.491812Z"
    }
   },
   "cell_type": "code",
   "source": "top_10_precio_predictions",
   "id": "e36988a2a8fb9cf1",
   "outputs": [
    {
     "data": {
      "text/plain": [
       "            Nombre     Posicion       Precio\n",
       "0    J. Bellingham  mediocentro  6258.558594\n",
       "2     A. Griezmann    delantero  5097.333008\n",
       "10            Isco  mediocentro  4235.049316\n",
       "11           Sávio    delantero  3908.049072\n",
       "9       A. Budimir    delantero  3814.063232\n",
       "22       G. Moreno    delantero  3654.022217\n",
       "18     F. Valverde  mediocentro  3642.411621\n",
       "101     F. De Jong  mediocentro  3210.067383\n",
       "30       B. Méndez  mediocentro  3032.261475\n",
       "72       V. Muriqi    delantero  2876.188477"
      ],
      "text/html": [
       "<div>\n",
       "<style scoped>\n",
       "    .dataframe tbody tr th:only-of-type {\n",
       "        vertical-align: middle;\n",
       "    }\n",
       "\n",
       "    .dataframe tbody tr th {\n",
       "        vertical-align: top;\n",
       "    }\n",
       "\n",
       "    .dataframe thead th {\n",
       "        text-align: right;\n",
       "    }\n",
       "</style>\n",
       "<table border=\"1\" class=\"dataframe\">\n",
       "  <thead>\n",
       "    <tr style=\"text-align: right;\">\n",
       "      <th></th>\n",
       "      <th>Nombre</th>\n",
       "      <th>Posicion</th>\n",
       "      <th>Precio</th>\n",
       "    </tr>\n",
       "  </thead>\n",
       "  <tbody>\n",
       "    <tr>\n",
       "      <th>0</th>\n",
       "      <td>J. Bellingham</td>\n",
       "      <td>mediocentro</td>\n",
       "      <td>6258.558594</td>\n",
       "    </tr>\n",
       "    <tr>\n",
       "      <th>2</th>\n",
       "      <td>A. Griezmann</td>\n",
       "      <td>delantero</td>\n",
       "      <td>5097.333008</td>\n",
       "    </tr>\n",
       "    <tr>\n",
       "      <th>10</th>\n",
       "      <td>Isco</td>\n",
       "      <td>mediocentro</td>\n",
       "      <td>4235.049316</td>\n",
       "    </tr>\n",
       "    <tr>\n",
       "      <th>11</th>\n",
       "      <td>Sávio</td>\n",
       "      <td>delantero</td>\n",
       "      <td>3908.049072</td>\n",
       "    </tr>\n",
       "    <tr>\n",
       "      <th>9</th>\n",
       "      <td>A. Budimir</td>\n",
       "      <td>delantero</td>\n",
       "      <td>3814.063232</td>\n",
       "    </tr>\n",
       "    <tr>\n",
       "      <th>22</th>\n",
       "      <td>G. Moreno</td>\n",
       "      <td>delantero</td>\n",
       "      <td>3654.022217</td>\n",
       "    </tr>\n",
       "    <tr>\n",
       "      <th>18</th>\n",
       "      <td>F. Valverde</td>\n",
       "      <td>mediocentro</td>\n",
       "      <td>3642.411621</td>\n",
       "    </tr>\n",
       "    <tr>\n",
       "      <th>101</th>\n",
       "      <td>F. De Jong</td>\n",
       "      <td>mediocentro</td>\n",
       "      <td>3210.067383</td>\n",
       "    </tr>\n",
       "    <tr>\n",
       "      <th>30</th>\n",
       "      <td>B. Méndez</td>\n",
       "      <td>mediocentro</td>\n",
       "      <td>3032.261475</td>\n",
       "    </tr>\n",
       "    <tr>\n",
       "      <th>72</th>\n",
       "      <td>V. Muriqi</td>\n",
       "      <td>delantero</td>\n",
       "      <td>2876.188477</td>\n",
       "    </tr>\n",
       "  </tbody>\n",
       "</table>\n",
       "</div>"
      ]
     },
     "execution_count": 121,
     "metadata": {},
     "output_type": "execute_result"
    }
   ],
   "execution_count": 121
  },
  {
   "cell_type": "code",
   "id": "2d45cae9",
   "metadata": {
    "ExecuteTime": {
     "end_time": "2024-06-28T12:38:45.764159Z",
     "start_time": "2024-06-28T12:38:45.761771Z"
    }
   },
   "source": [
    "# Guardar las predicciones en un archivo CSV\n",
    "#predicciones_df.to_csv('predicciones.csv', index=False)"
   ],
   "outputs": [],
   "execution_count": 122
  },
  {
   "cell_type": "code",
   "id": "2f2a6830",
   "metadata": {
    "ExecuteTime": {
     "end_time": "2024-06-28T12:38:46.218883Z",
     "start_time": "2024-06-28T12:38:46.217248Z"
    }
   },
   "source": [
    "#joblib.dump(model_puntos, 'redes_neuronales.pkl')"
   ],
   "outputs": [],
   "execution_count": 123
  },
  {
   "cell_type": "code",
   "id": "814da5be",
   "metadata": {
    "ExecuteTime": {
     "end_time": "2024-06-28T12:38:46.221258Z",
     "start_time": "2024-06-28T12:38:46.220006Z"
    }
   },
   "source": "####",
   "outputs": [],
   "execution_count": 124
  },
  {
   "cell_type": "code",
   "id": "c48000ed",
   "metadata": {
    "ExecuteTime": {
     "end_time": "2024-06-28T12:38:47.998078Z",
     "start_time": "2024-06-28T12:38:46.221800Z"
    }
   },
   "source": [
    "import pandas as pd\n",
    "from sklearn.model_selection import train_test_split\n",
    "from sklearn.preprocessing import StandardScaler\n",
    "from keras.models import Sequential\n",
    "from keras.layers import Dense, Input\n",
    "from sklearn.metrics import mean_squared_error\n",
    "\n",
    "# Cargar datos\n",
    "df = pd.read_csv(\"juadores_fantasy.csv.csv\")\n",
    "\n",
    "# Dividir los datos en características (X) y el objetivo (y) para el modelo general\n",
    "X_general = df[['Precio', 'Media']]\n",
    "y_puntos_general = df['Total_puntos']\n",
    "y_precio_general = df['Precio']\n",
    "\n",
    "# Función para crear y entrenar un modelo\n",
    "def entrenar_modelo(X_train, y_train):\n",
    "    scaler = StandardScaler()\n",
    "    X_train_scaled = scaler.fit_transform(X_train)\n",
    "    \n",
    "    model = Sequential([\n",
    "        Input(shape=(X_train.shape[1],)),  \n",
    "        Dense(32, activation='relu'),\n",
    "        Dense(16, activation='relu'),\n",
    "        Dense(1, activation='linear')\n",
    "    ])\n",
    "    model.compile(optimizer='adam', loss='mean_squared_error')\n",
    "    model.fit(X_train_scaled, y_train, epochs=50, batch_size=32, verbose=0)\n",
    "    return model, scaler\n",
    "\n",
    "# Diccionario para almacenar los modelos\n",
    "modelos_puntos = {}\n",
    "modelos_precio = {}\n",
    "\n",
    "# Lista de posiciones para modelos específicos\n",
    "posiciones = ['Delantero', 'Mediocentro', 'Portero', 'Defensa']\n",
    "\n",
    "# Entrenar un modelo para cada posición y uno general\n",
    "for posicion in posiciones + ['General']:\n",
    "    if posicion == 'General':\n",
    "        X_train, X_test, y_train_puntos, y_test_puntos = train_test_split(X_general, y_puntos_general, test_size=0.2, random_state=42)\n",
    "        X_train, X_test, y_train_precio, y_test_precio = train_test_split(X_general, y_precio_general, test_size=0.2, random_state=42)\n",
    "    else:\n",
    "        df_posicion = df[df['posicion'] == posicion]\n",
    "        if df_posicion.shape[0] < 2:\n",
    "            print(f\"Not enough data for position {posicion} to train a model.\")\n",
    "            continue\n",
    "        \n",
    "        X = df_posicion[['Precio', 'Media']]\n",
    "        y_puntos = df_posicion['Total_puntos']\n",
    "        y_precio = df_posicion['Precio']\n",
    "        X_train, X_test, y_train_puntos, y_test_puntos = train_test_split(X, y_puntos, test_size=0.2, random_state=42)\n",
    "        X_train, X_test, y_train_precio, y_test_precio = train_test_split(X, y_precio, test_size=0.2, random_state=42)\n",
    "    \n",
    "    if X_train.shape[0] > 0:\n",
    "        modelos_puntos[posicion], scaler_puntos = entrenar_modelo(X_train, y_train_puntos)\n",
    "        X_test_scaled_puntos = scaler_puntos.transform(X_test)\n",
    "        y_pred_puntos = modelos_puntos[posicion].predict(X_test_scaled_puntos)\n",
    "        mse_puntos = mean_squared_error(y_test_puntos, y_pred_puntos)\n",
    "        print(f\"MSE para puntos {posicion}: {mse_puntos:.2f}\")\n",
    "\n",
    "        modelos_precio[posicion], scaler_precio = entrenar_modelo(X_train, y_train_precio)\n",
    "        X_test_scaled_precio = scaler_precio.transform(X_test)\n",
    "        y_pred_precio = modelos_precio[posicion].predict(X_test_scaled_precio)\n",
    "        mse_precio = mean_squared_error(y_test_precio, y_pred_precio)\n",
    "        print(f\"MSE para precio {posicion}: {mse_precio:.2f}\")\n",
    "    else:\n",
    "        print(f\"Not enough data to train model for position {posicion}\")\n",
    "\n",
    "# Ejemplo de cómo usar el modelo específico de 'Delantero'\n",
    "# Asumiendo que necesitas hacer una nueva predicción para un delantero\n",
    "# Supongamos que tienes un nuevo delantero con Precio 10 y Media 7\n",
    "if 'Delantero' in modelos_puntos and 'Delantero' in modelos_precio:\n",
    "    nuevo_delantero = [[10, 7]]\n",
    "    nuevo_delantero_scaled_puntos = scaler_puntos.transform(nuevo_delantero)\n",
    "    puntos_predichos_delantero = modelos_puntos['Delantero'].predict(nuevo_delantero_scaled_puntos)\n",
    "    print(\"Puntos predichos para el delantero:\", puntos_predichos_delantero[0][0])\n",
    "\n",
    "    nuevo_delantero_scaled_precio = scaler_precio.transform(nuevo_delantero)\n",
    "    precio_predicho_delantero = modelos_precio['Delantero'].predict(nuevo_delantero_scaled_precio)\n",
    "    print(\"Precio predicho para el delantero:\", precio_predicho_delantero[0][0])\n",
    "else:\n",
    "    print(\"No hay modelo disponible para la posición 'Delantero'\")\n"
   ],
   "outputs": [
    {
     "name": "stdout",
     "output_type": "stream",
     "text": [
      "Not enough data for position Delantero to train a model.\n",
      "Not enough data for position Mediocentro to train a model.\n",
      "Not enough data for position Portero to train a model.\n",
      "Not enough data for position Defensa to train a model.\n",
      "\u001B[1m4/4\u001B[0m \u001B[32m━━━━━━━━━━━━━━━━━━━━\u001B[0m\u001B[37m\u001B[0m \u001B[1m0s\u001B[0m 4ms/step \n",
      "MSE para puntos General: 355.96\n",
      "\u001B[1m4/4\u001B[0m \u001B[32m━━━━━━━━━━━━━━━━━━━━\u001B[0m\u001B[37m\u001B[0m \u001B[1m0s\u001B[0m 4ms/step \n",
      "MSE para precio General: 58079706847464.95\n",
      "No hay modelo disponible para la posición 'Delantero'\n"
     ]
    }
   ],
   "execution_count": 125
  },
  {
   "metadata": {
    "ExecuteTime": {
     "end_time": "2024-06-28T12:40:09.176274Z",
     "start_time": "2024-06-28T12:40:09.172452Z"
    }
   },
   "cell_type": "code",
   "source": "",
   "id": "37e80a327c249612",
   "outputs": [],
   "execution_count": 126
  },
  {
   "metadata": {},
   "cell_type": "code",
   "outputs": [],
   "execution_count": null,
   "source": "",
   "id": "997713ed9e27b476"
  }
 ],
 "metadata": {
  "kernelspec": {
   "display_name": "Python 3 (ipykernel)",
   "language": "python",
   "name": "python3"
  },
  "language_info": {
   "codemirror_mode": {
    "name": "ipython",
    "version": 3
   },
   "file_extension": ".py",
   "mimetype": "text/x-python",
   "name": "python",
   "nbconvert_exporter": "python",
   "pygments_lexer": "ipython3",
   "version": "3.11.2"
  }
 },
 "nbformat": 4,
 "nbformat_minor": 5
}
