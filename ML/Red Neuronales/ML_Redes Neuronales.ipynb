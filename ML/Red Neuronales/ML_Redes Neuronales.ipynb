{
 "cells": [
  {
   "cell_type": "code",
   "execution_count": 1,
   "id": "8fa660a0",
   "metadata": {},
   "outputs": [
    {
     "name": "stderr",
     "output_type": "stream",
     "text": [
      "2024-01-19 17:51:42.085751: I tensorflow/core/platform/cpu_feature_guard.cc:182] This TensorFlow binary is optimized to use available CPU instructions in performance-critical operations.\n",
      "To enable the following instructions: AVX2 FMA, in other operations, rebuild TensorFlow with the appropriate compiler flags.\n"
     ]
    }
   ],
   "source": [
    "import pandas as pd\n",
    "from sklearn.model_selection import train_test_split\n",
    "from sklearn.preprocessing import StandardScaler\n",
    "from tensorflow.keras.models import Sequential\n",
    "from tensorflow.keras.layers import Dense\n",
    "import joblib\n",
    "import numpy as np\n",
    "from sklearn.metrics import mean_squared_error, r2_score"
   ]
  },
  {
   "cell_type": "code",
   "execution_count": 2,
   "id": "a6157ee9",
   "metadata": {},
   "outputs": [
    {
     "name": "stdout",
     "output_type": "stream",
     "text": [
      "Index(['Nombre', 'Precio', 'Media', 'Total_puntos', 'posicion', 'equipo'], dtype='object')\n"
     ]
    }
   ],
   "source": [
    "# Cargar datos\n",
    "df = pd.read_csv(\"juadores_fantasy.csv.csv\")\n",
    "\n",
    "print(df.columns)\n",
    "\n"
   ]
  },
  {
   "cell_type": "code",
   "execution_count": 3,
   "id": "dd262c28",
   "metadata": {},
   "outputs": [],
   "source": [
    "# Dividir los datos en características (X) y el objetivo (y)\n",
    "X = df[['Precio', 'Media']]\n",
    "y_puntos = df['Total_puntos']\n",
    "y_precio = df['Precio']\n",
    "\n",
    "# Dividir los datos en conjuntos de entrenamiento y prueba\n",
    "X_train, X_test, y_puntos_train, y_puntos_test = train_test_split(X, y_puntos, test_size=0.2, random_state=42)\n",
    "X_train, X_test, y_precio_train, y_precio_test = train_test_split(X, y_precio, test_size=0.2, random_state=42)\n",
    "\n",
    "# Escalar las características\n",
    "scaler = StandardScaler()\n",
    "X_train_scaled = scaler.fit_transform(X_train)\n",
    "X_test_scaled = scaler.transform(X_test)"
   ]
  },
  {
   "cell_type": "code",
   "execution_count": 4,
   "id": "2e66f1ab",
   "metadata": {},
   "outputs": [
    {
     "data": {
      "text/plain": [
       "<keras.src.callbacks.History at 0x133c9d510>"
      ]
     },
     "execution_count": 4,
     "metadata": {},
     "output_type": "execute_result"
    }
   ],
   "source": [
    "# Crear el modelo para predecir puntos\n",
    "model_puntos = Sequential([\n",
    "    Dense(32, activation='relu', input_shape=(X_train.shape[1],)),\n",
    "    Dense(16, activation='relu'),\n",
    "    Dense(1, activation='linear')\n",
    "])\n",
    "\n",
    "model_puntos.compile(optimizer='adam', loss='mean_squared_error')\n",
    "\n",
    "# Entrenar el modelo para predecir puntos\n",
    "model_puntos.fit(X_train_scaled, y_puntos_train, epochs=50, batch_size=32, verbose=0)\n"
   ]
  },
  {
   "cell_type": "code",
   "execution_count": 5,
   "id": "e80f2106",
   "metadata": {},
   "outputs": [
    {
     "data": {
      "text/plain": [
       "<keras.src.callbacks.History at 0x133d2a550>"
      ]
     },
     "execution_count": 5,
     "metadata": {},
     "output_type": "execute_result"
    }
   ],
   "source": [
    "# Crear el modelo para predecir precio\n",
    "model_precio = Sequential([\n",
    "    Dense(32, activation='relu', input_shape=(X_train.shape[1],)),\n",
    "    Dense(16, activation='relu'),\n",
    "    Dense(1, activation='linear')\n",
    "])\n",
    "\n",
    "model_precio.compile(optimizer='adam', loss='mean_squared_error')\n",
    "\n",
    "# Entrenar el modelo para predecir precio\n",
    "model_precio.fit(X_train_scaled, y_precio_train, epochs=50, batch_size=32, verbose=0)\n"
   ]
  },
  {
   "cell_type": "code",
   "execution_count": 6,
   "id": "203b4820",
   "metadata": {},
   "outputs": [
    {
     "name": "stdout",
     "output_type": "stream",
     "text": [
      "4/4 [==============================] - 0s 1ms/step\n",
      "4/4 [==============================] - 0s 2ms/step\n",
      "Jugador con más puntos predichos: R. Alcaraz\n",
      "Jugador con precio más alto predicho: R. Alcaraz\n"
     ]
    }
   ],
   "source": [
    "# Hacer predicciones para puntos y precio\n",
    "puntos_predictions = model_puntos.predict(X_test_scaled)\n",
    "precio_predictions = model_precio.predict(X_test_scaled)\n",
    "\n",
    "# Obtener el jugador con más puntos y el jugador con el precio más alto\n",
    "indice_max_puntos = puntos_predictions.argmax()\n",
    "indice_max_precio = precio_predictions.argmax()\n",
    "\n",
    "jugador_mas_puntos = df.loc[indice_max_puntos, 'Nombre']\n",
    "jugador_mas_precio = df.loc[indice_max_precio, 'Nombre']\n",
    "\n",
    "print(f\"Jugador con más puntos predichos: {jugador_mas_puntos}\")\n",
    "print(f\"Jugador con precio más alto predicho: {jugador_mas_precio}\")\n"
   ]
  },
  {
   "cell_type": "code",
   "execution_count": 7,
   "id": "014ec114",
   "metadata": {},
   "outputs": [
    {
     "name": "stdout",
     "output_type": "stream",
     "text": [
      "4/4 [==============================] - 0s 1ms/step\n",
      "4/4 [==============================] - 0s 2ms/step\n",
      "Top 10 jugadores con más puntos predichos:\n",
      "          Nombre  Total_puntos\n",
      "0  J. Bellingham           173\n",
      "1        T. Kubo           147\n",
      "2   A. Griezmann           144\n",
      "3    I. Williams           139\n",
      "4     B. Mayoral           138\n",
      "5      A. García           137\n",
      "6      A. Dovbyk           130\n",
      "7      Á. Valles           128\n",
      "8         Pepelu           127\n",
      "9     A. Budimir           127\n",
      "\n",
      "Top 10 jugadores con precios más altos predichos:\n",
      "            Nombre    Precio\n",
      "2     A. Griezmann  24384000\n",
      "0    J. Bellingham  24262000\n",
      "56  R. Lewandowski  20994000\n",
      "1          T. Kubo  20904000\n",
      "5        A. García  20771000\n",
      "18     F. Valverde  20115000\n",
      "10            Isco  19605000\n",
      "13         Rodrygo  19338000\n",
      "3      I. Williams  18358000\n",
      "22       G. Moreno  18341000\n"
     ]
    }
   ],
   "source": [
    "# Hacer predicciones para puntos y precio\n",
    "puntos_predictions = model_puntos.predict(X_test_scaled)\n",
    "precio_predictions = model_precio.predict(X_test_scaled)\n",
    "\n",
    "# Obtener los 10 jugadores con más puntos predichos\n",
    "top_10_jugadores_puntos = df.nlargest(10, 'Total_puntos')\n",
    "\n",
    "# Obtener los 10 jugadores con los precios más altos predichos\n",
    "top_10_jugadores_precio = df.nlargest(10, 'Precio')\n",
    "\n",
    "print(\"Top 10 jugadores con más puntos predichos:\")\n",
    "print(top_10_jugadores_puntos[['Nombre', 'Total_puntos']])\n",
    "\n",
    "print(\"\\nTop 10 jugadores con precios más altos predichos:\")\n",
    "print(top_10_jugadores_precio[['Nombre', 'Precio']])\n",
    "\n"
   ]
  },
  {
   "cell_type": "code",
   "execution_count": 8,
   "id": "ef6730ec",
   "metadata": {},
   "outputs": [
    {
     "name": "stdout",
     "output_type": "stream",
     "text": [
      "4/4 [==============================] - 0s 2ms/step\n",
      "4/4 [==============================] - 0s 8ms/step\n",
      "MSE para puntos: 388.33\n",
      "R^2 para puntos: 0.69\n",
      "MSE para precio: 58078977408543.36\n",
      "R^2 para precio: -0.59\n"
     ]
    }
   ],
   "source": [
    "# Hacer predicciones para puntos y precio\n",
    "puntos_predictions = model_puntos.predict(X_test_scaled)\n",
    "precio_predictions = model_precio.predict(X_test_scaled)\n",
    "\n",
    "# Calcular el Error Cuadrático Medio (MSE) para puntos y precio\n",
    "mse_puntos = mean_squared_error(y_puntos_test, puntos_predictions)\n",
    "mse_precio = mean_squared_error(y_precio_test, precio_predictions)\n",
    "\n",
    "# Calcular el coeficiente de determinación (R^2) para puntos y precio\n",
    "r2_puntos = r2_score(y_puntos_test, puntos_predictions)\n",
    "r2_precio = r2_score(y_precio_test, precio_predictions)\n",
    "\n",
    "print(f\"MSE para puntos: {mse_puntos:.2f}\")\n",
    "print(f\"R^2 para puntos: {r2_puntos:.2f}\")\n",
    "\n",
    "print(f\"MSE para precio: {mse_precio:.2f}\")\n",
    "print(f\"R^2 para precio: {r2_precio:.2f}\")\n"
   ]
  },
  {
   "cell_type": "code",
   "execution_count": 9,
   "id": "c11e2166",
   "metadata": {},
   "outputs": [],
   "source": [
    "# Crear un DataFrame con las predicciones\n",
    "predicciones_df = pd.DataFrame({\n",
    "    'Nombre': df.iloc[X_test.index]['Nombre'],  # Recuperar los nombres de los jugadores\n",
    "    'Posición': df['Posición'][y_train],   # Utilizar la posici\n",
    "    'Predicciones_Puntos': puntos_predictions.flatten(),  # Aplanar el array de predicciones\n",
    "    'Predicciones_Precio': precio_predictions.flatten()  # Aplanar el array de predicciones\n",
    "})"
   ]
  },
  {
   "cell_type": "code",
   "execution_count": 12,
   "id": "a1470ad7",
   "metadata": {},
   "outputs": [
    {
     "data": {
      "text/html": [
       "<div>\n",
       "<style scoped>\n",
       "    .dataframe tbody tr th:only-of-type {\n",
       "        vertical-align: middle;\n",
       "    }\n",
       "\n",
       "    .dataframe tbody tr th {\n",
       "        vertical-align: top;\n",
       "    }\n",
       "\n",
       "    .dataframe thead th {\n",
       "        text-align: right;\n",
       "    }\n",
       "</style>\n",
       "<table border=\"1\" class=\"dataframe\">\n",
       "  <thead>\n",
       "    <tr style=\"text-align: right;\">\n",
       "      <th></th>\n",
       "      <th>Nombre</th>\n",
       "      <th>Predicciones_Puntos</th>\n",
       "      <th>Predicciones_Precio</th>\n",
       "    </tr>\n",
       "  </thead>\n",
       "  <tbody>\n",
       "    <tr>\n",
       "      <th>304</th>\n",
       "      <td>M. Morlanes</td>\n",
       "      <td>20.198320</td>\n",
       "      <td>152.637390</td>\n",
       "    </tr>\n",
       "    <tr>\n",
       "      <th>497</th>\n",
       "      <td>M. Tejón</td>\n",
       "      <td>-1.837716</td>\n",
       "      <td>144.140076</td>\n",
       "    </tr>\n",
       "    <tr>\n",
       "      <th>440</th>\n",
       "      <td>F. Coquelin</td>\n",
       "      <td>16.766140</td>\n",
       "      <td>148.604401</td>\n",
       "    </tr>\n",
       "    <tr>\n",
       "      <th>153</th>\n",
       "      <td>Á. Berenguer</td>\n",
       "      <td>44.402699</td>\n",
       "      <td>604.990051</td>\n",
       "    </tr>\n",
       "    <tr>\n",
       "      <th>499</th>\n",
       "      <td>A. López</td>\n",
       "      <td>-1.836936</td>\n",
       "      <td>144.151184</td>\n",
       "    </tr>\n",
       "    <tr>\n",
       "      <th>...</th>\n",
       "      <td>...</td>\n",
       "      <td>...</td>\n",
       "      <td>...</td>\n",
       "    </tr>\n",
       "    <tr>\n",
       "      <th>397</th>\n",
       "      <td>R. Fernández</td>\n",
       "      <td>36.473633</td>\n",
       "      <td>271.145355</td>\n",
       "    </tr>\n",
       "    <tr>\n",
       "      <th>167</th>\n",
       "      <td>A. Suárez</td>\n",
       "      <td>46.842648</td>\n",
       "      <td>534.593323</td>\n",
       "    </tr>\n",
       "    <tr>\n",
       "      <th>275</th>\n",
       "      <td>L. Hernández</td>\n",
       "      <td>54.690594</td>\n",
       "      <td>581.942383</td>\n",
       "    </tr>\n",
       "    <tr>\n",
       "      <th>505</th>\n",
       "      <td>J. Doménech</td>\n",
       "      <td>-1.835376</td>\n",
       "      <td>144.173370</td>\n",
       "    </tr>\n",
       "    <tr>\n",
       "      <th>509</th>\n",
       "      <td>P. Reina</td>\n",
       "      <td>-1.835375</td>\n",
       "      <td>144.173386</td>\n",
       "    </tr>\n",
       "  </tbody>\n",
       "</table>\n",
       "<p>103 rows × 3 columns</p>\n",
       "</div>"
      ],
      "text/plain": [
       "           Nombre  Predicciones_Puntos  Predicciones_Precio\n",
       "304   M. Morlanes            20.198320           152.637390\n",
       "497      M. Tejón            -1.837716           144.140076\n",
       "440   F. Coquelin            16.766140           148.604401\n",
       "153  Á. Berenguer            44.402699           604.990051\n",
       "499      A. López            -1.836936           144.151184\n",
       "..            ...                  ...                  ...\n",
       "397  R. Fernández            36.473633           271.145355\n",
       "167     A. Suárez            46.842648           534.593323\n",
       "275  L. Hernández            54.690594           581.942383\n",
       "505   J. Doménech            -1.835376           144.173370\n",
       "509      P. Reina            -1.835375           144.173386\n",
       "\n",
       "[103 rows x 3 columns]"
      ]
     },
     "execution_count": 12,
     "metadata": {},
     "output_type": "execute_result"
    }
   ],
   "source": [
    "predicciones_df"
   ]
  },
  {
   "cell_type": "code",
   "execution_count": 10,
   "id": "2d45cae9",
   "metadata": {},
   "outputs": [],
   "source": [
    "# Guardar las predicciones en un archivo CSV\n",
    "predicciones_df.to_csv('predicciones.csv', index=False)"
   ]
  },
  {
   "cell_type": "code",
   "execution_count": 11,
   "id": "2f2a6830",
   "metadata": {},
   "outputs": [
    {
     "data": {
      "text/plain": [
       "['redes_neuronales.pkl']"
      ]
     },
     "execution_count": 11,
     "metadata": {},
     "output_type": "execute_result"
    }
   ],
   "source": [
    "joblib.dump(model_puntos, 'redes_neuronales.pkl')"
   ]
  }
 ],
 "metadata": {
  "kernelspec": {
   "display_name": "Python 3 (ipykernel)",
   "language": "python",
   "name": "python3"
  },
  "language_info": {
   "codemirror_mode": {
    "name": "ipython",
    "version": 3
   },
   "file_extension": ".py",
   "mimetype": "text/x-python",
   "name": "python",
   "nbconvert_exporter": "python",
   "pygments_lexer": "ipython3",
   "version": "3.11.2"
  }
 },
 "nbformat": 4,
 "nbformat_minor": 5
}
