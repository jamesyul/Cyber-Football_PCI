{
 "cells": [
  {
   "cell_type": "code",
   "execution_count": 84,
   "id": "2f2a6830",
   "metadata": {},
   "outputs": [
    {
     "data": {
      "text/plain": [
       "['redes_neuronales.pkl']"
      ]
     },
     "execution_count": 84,
     "metadata": {},
     "output_type": "execute_result"
    }
   ],
   "source": [
    "joblib.dump(model_puntos, 'redes_neuronales.pkl')"
   ]
  },
  {
   "cell_type": "code",
   "execution_count": 76,
   "id": "8fa660a0",
   "metadata": {},
   "outputs": [],
   "source": [
    "import pandas as pd\n",
    "from sklearn.model_selection import train_test_split\n",
    "from sklearn.preprocessing import StandardScaler\n",
    "from tensorflow.keras.models import Sequential\n",
    "from tensorflow.keras.layers import Dense\n",
    "import joblib\n",
    "import numpy as np\n",
    "from sklearn.metrics import mean_squared_error, r2_score"
   ]
  },
  {
   "cell_type": "code",
   "execution_count": 77,
   "id": "a6157ee9",
   "metadata": {},
   "outputs": [
    {
     "name": "stdout",
     "output_type": "stream",
     "text": [
      "Index(['Nombre', 'Precio', 'Media', 'Total_puntos', 'posicion', 'equipo'], dtype='object')\n"
     ]
    }
   ],
   "source": [
    "# Cargar datos\n",
    "df = pd.read_csv(\"juadores_fantasy.csv.csv\")\n",
    "\n",
    "print(df.columns)\n",
    "\n"
   ]
  },
  {
   "cell_type": "code",
   "execution_count": 78,
   "id": "dd262c28",
   "metadata": {},
   "outputs": [],
   "source": [
    "# Dividir los datos en características (X) y el objetivo (y)\n",
    "X = df[['Precio', 'Media']]\n",
    "y_puntos = df['Total_puntos']\n",
    "y_precio = df['Precio']\n",
    "\n",
    "# Dividir los datos en conjuntos de entrenamiento y prueba\n",
    "X_train, X_test, y_puntos_train, y_puntos_test = train_test_split(X, y_puntos, test_size=0.2, random_state=42)\n",
    "X_train, X_test, y_precio_train, y_precio_test = train_test_split(X, y_precio, test_size=0.2, random_state=42)\n",
    "\n",
    "# Escalar las características\n",
    "scaler = StandardScaler()\n",
    "X_train_scaled = scaler.fit_transform(X_train)\n",
    "X_test_scaled = scaler.transform(X_test)"
   ]
  },
  {
   "cell_type": "code",
   "execution_count": 79,
   "id": "2e66f1ab",
   "metadata": {},
   "outputs": [
    {
     "data": {
      "text/plain": [
       "<keras.src.callbacks.History at 0x135dd9990>"
      ]
     },
     "execution_count": 79,
     "metadata": {},
     "output_type": "execute_result"
    }
   ],
   "source": [
    "# Crear el modelo para predecir puntos\n",
    "model_puntos = Sequential([\n",
    "    Dense(32, activation='relu', input_shape=(X_train.shape[1],)),\n",
    "    Dense(16, activation='relu'),\n",
    "    Dense(1, activation='linear')\n",
    "])\n",
    "\n",
    "model_puntos.compile(optimizer='adam', loss='mean_squared_error')\n",
    "\n",
    "# Entrenar el modelo para predecir puntos\n",
    "model_puntos.fit(X_train_scaled, y_puntos_train, epochs=50, batch_size=32, verbose=0)\n"
   ]
  },
  {
   "cell_type": "code",
   "execution_count": 80,
   "id": "e80f2106",
   "metadata": {},
   "outputs": [
    {
     "data": {
      "text/plain": [
       "<keras.src.callbacks.History at 0x135d62f90>"
      ]
     },
     "execution_count": 80,
     "metadata": {},
     "output_type": "execute_result"
    }
   ],
   "source": [
    "# Crear el modelo para predecir precio\n",
    "model_precio = Sequential([\n",
    "    Dense(32, activation='relu', input_shape=(X_train.shape[1],)),\n",
    "    Dense(16, activation='relu'),\n",
    "    Dense(1, activation='linear')\n",
    "])\n",
    "\n",
    "model_precio.compile(optimizer='adam', loss='mean_squared_error')\n",
    "\n",
    "# Entrenar el modelo para predecir precio\n",
    "model_precio.fit(X_train_scaled, y_precio_train, epochs=50, batch_size=32, verbose=0)\n"
   ]
  },
  {
   "cell_type": "code",
   "execution_count": 81,
   "id": "203b4820",
   "metadata": {},
   "outputs": [
    {
     "name": "stdout",
     "output_type": "stream",
     "text": [
      "4/4 [==============================] - 0s 2ms/step\n",
      "4/4 [==============================] - 0s 4ms/step\n",
      "Jugador con más puntos predichos: R. Alcaraz\n",
      "Jugador con precio más alto predicho: R. Alcaraz\n"
     ]
    }
   ],
   "source": [
    "# Hacer predicciones para puntos y precio\n",
    "puntos_predictions = model_puntos.predict(X_test_scaled)\n",
    "precio_predictions = model_precio.predict(X_test_scaled)\n",
    "\n",
    "# Obtener el jugador con más puntos y el jugador con el precio más alto\n",
    "indice_max_puntos = puntos_predictions.argmax()\n",
    "indice_max_precio = precio_predictions.argmax()\n",
    "\n",
    "jugador_mas_puntos = df.loc[indice_max_puntos, 'Nombre']\n",
    "jugador_mas_precio = df.loc[indice_max_precio, 'Nombre']\n",
    "\n",
    "print(f\"Jugador con más puntos predichos: {jugador_mas_puntos}\")\n",
    "print(f\"Jugador con precio más alto predicho: {jugador_mas_precio}\")\n"
   ]
  },
  {
   "cell_type": "code",
   "execution_count": 82,
   "id": "014ec114",
   "metadata": {},
   "outputs": [
    {
     "name": "stdout",
     "output_type": "stream",
     "text": [
      "4/4 [==============================] - 0s 2ms/step\n",
      "4/4 [==============================] - 0s 1ms/step\n",
      "Top 10 jugadores con más puntos predichos:\n",
      "          Nombre  Total_puntos\n",
      "0  J. Bellingham           173\n",
      "1        T. Kubo           147\n",
      "2   A. Griezmann           144\n",
      "3    I. Williams           139\n",
      "4     B. Mayoral           138\n",
      "5      A. García           137\n",
      "6      A. Dovbyk           130\n",
      "7      Á. Valles           128\n",
      "8         Pepelu           127\n",
      "9     A. Budimir           127\n",
      "\n",
      "Top 10 jugadores con precios más altos predichos:\n",
      "            Nombre    Precio\n",
      "2     A. Griezmann  24384000\n",
      "0    J. Bellingham  24262000\n",
      "56  R. Lewandowski  20994000\n",
      "1          T. Kubo  20904000\n",
      "5        A. García  20771000\n",
      "18     F. Valverde  20115000\n",
      "10            Isco  19605000\n",
      "13         Rodrygo  19338000\n",
      "3      I. Williams  18358000\n",
      "22       G. Moreno  18341000\n"
     ]
    }
   ],
   "source": [
    "# Hacer predicciones para puntos y precio\n",
    "puntos_predictions = model_puntos.predict(X_test_scaled)\n",
    "precio_predictions = model_precio.predict(X_test_scaled)\n",
    "\n",
    "# Obtener los 10 jugadores con más puntos predichos\n",
    "top_10_jugadores_puntos = df.nlargest(10, 'Total_puntos')\n",
    "\n",
    "# Obtener los 10 jugadores con los precios más altos predichos\n",
    "top_10_jugadores_precio = df.nlargest(10, 'Precio')\n",
    "\n",
    "print(\"Top 10 jugadores con más puntos predichos:\")\n",
    "print(top_10_jugadores_puntos[['Nombre', 'Total_puntos']])\n",
    "\n",
    "print(\"\\nTop 10 jugadores con precios más altos predichos:\")\n",
    "print(top_10_jugadores_precio[['Nombre', 'Precio']])\n",
    "\n"
   ]
  },
  {
   "cell_type": "code",
   "execution_count": 74,
   "id": "ef6730ec",
   "metadata": {},
   "outputs": [
    {
     "name": "stdout",
     "output_type": "stream",
     "text": [
      "4/4 [==============================] - 0s 2ms/step\n",
      "4/4 [==============================] - 0s 1ms/step\n",
      "MSE para puntos: 448.18\n",
      "R^2 para puntos: 0.65\n",
      "MSE para precio: 58069562888694.19\n",
      "R^2 para precio: -0.59\n"
     ]
    }
   ],
   "source": [
    "# Hacer predicciones para puntos y precio\n",
    "puntos_predictions = model_puntos.predict(X_test_scaled)\n",
    "precio_predictions = model_precio.predict(X_test_scaled)\n",
    "\n",
    "# Calcular el Error Cuadrático Medio (MSE) para puntos y precio\n",
    "mse_puntos = mean_squared_error(y_puntos_test, puntos_predictions)\n",
    "mse_precio = mean_squared_error(y_precio_test, precio_predictions)\n",
    "\n",
    "# Calcular el coeficiente de determinación (R^2) para puntos y precio\n",
    "r2_puntos = r2_score(y_puntos_test, puntos_predictions)\n",
    "r2_precio = r2_score(y_precio_test, precio_predictions)\n",
    "\n",
    "print(f\"MSE para puntos: {mse_puntos:.2f}\")\n",
    "print(f\"R^2 para puntos: {r2_puntos:.2f}\")\n",
    "\n",
    "print(f\"MSE para precio: {mse_precio:.2f}\")\n",
    "print(f\"R^2 para precio: {r2_precio:.2f}\")\n"
   ]
  },
  {
   "cell_type": "code",
   "execution_count": 83,
   "id": "c11e2166",
   "metadata": {},
   "outputs": [
    {
     "ename": "SyntaxError",
     "evalue": "unmatched '}' (1480614945.py, line 15)",
     "output_type": "error",
     "traceback": [
      "\u001b[0;36m  Cell \u001b[0;32mIn[83], line 15\u001b[0;36m\u001b[0m\n\u001b[0;31m    })\u001b[0m\n\u001b[0m    ^\u001b[0m\n\u001b[0;31mSyntaxError\u001b[0m\u001b[0;31m:\u001b[0m unmatched '}'\n"
     ]
    }
   ],
   "source": [
    "# Obtener los 10 jugadores con las predicciones más altas de puntos\n",
    "top_10_puntos_predictions = pd.DataFrame({\n",
    "    'Nombre': df.iloc[X_test.index]['Nombre'],  # Recuperar los nombres de los jugadores\n",
    "    'Predicciones_Puntos': puntos_predictions.flatten()  # Aplanar el array de predicciones\n",
    "})\n",
    "\n",
    "# Ordenar el DataFrame por Predicciones_Puntos en orden descendente\n",
    "top_10_puntos_predictions = top_10_puntos_predictions.sort_values(by='Predicciones_Puntos', ascending=False)\n",
    "\n",
    "# Tomar solo las primeras 10 filas (los 10 jugadores con las predicciones más altas)\n",
    "top_10_puntos_predictions = top_10_puntos_predictions.head(10)\n",
    "\n",
    "# Guardar el DataFrame en un archivo CSV\n",
    "top_10_puntos_predictions.to_csv('top_10_predicciones_puntos.csv', index=False)ones de precio\n",
    "})\n",
    "\n",
    "# Ordenar el DataFrame por puntaje en orden descendente y seleccionar los 10 mejores\n",
    "top_10_jugadores = predicciones_df.sort_values(by='Puntos', ascending=False).head(10)\n",
    "\n",
    "# Guardar el DataFrame en un archivo CSV\n",
    "top_10_jugadores.to_csv('top_10_predicciones.csv', index=False)\n"
   ]
  },
  {
   "cell_type": "code",
   "execution_count": null,
   "id": "a363a449",
   "metadata": {},
   "outputs": [],
   "source": []
  },
  {
   "cell_type": "markdown",
   "id": "42481d05",
   "metadata": {},
   "source": []
  },
  {
   "cell_type": "code",
   "execution_count": null,
   "id": "dcb0e438",
   "metadata": {},
   "outputs": [],
   "source": []
  },
  {
   "cell_type": "code",
   "execution_count": null,
   "id": "5f49d66a",
   "metadata": {},
   "outputs": [],
   "source": []
  },
  {
   "cell_type": "code",
   "execution_count": null,
   "id": "e030c78d",
   "metadata": {},
   "outputs": [],
   "source": []
  },
  {
   "cell_type": "code",
   "execution_count": null,
   "id": "499ad133",
   "metadata": {},
   "outputs": [],
   "source": []
  },
  {
   "cell_type": "code",
   "execution_count": null,
   "id": "547f15d9",
   "metadata": {},
   "outputs": [],
   "source": []
  },
  {
   "cell_type": "code",
   "execution_count": null,
   "id": "a1470ad7",
   "metadata": {},
   "outputs": [],
   "source": [
    "top_10_puntos_predictions"
   ]
  },
  {
   "cell_type": "code",
   "execution_count": null,
   "id": "e411ad4d",
   "metadata": {},
   "outputs": [],
   "source": []
  },
  {
   "cell_type": "code",
   "execution_count": null,
   "id": "2d45cae9",
   "metadata": {},
   "outputs": [],
   "source": [
    "# Guardar las predicciones en un archivo CSV\n",
    "predicciones_df.to_csv('predicciones.csv', index=False)"
   ]
<<<<<<< HEAD
  },
  {
   "cell_type": "code",
   "execution_count": 28,
   "id": "2f2a6830",
   "metadata": {},
   "outputs": [],
   "source": [
    "#joblib.dump(model_puntos, 'redes_neuronales.pkl')"
   ]
  },
  {
   "cell_type": "code",
   "execution_count": 29,
   "id": "814da5be",
   "metadata": {},
   "outputs": [],
   "source": [
    "####"
   ]
  },
  {
   "cell_type": "code",
   "execution_count": null,
   "id": "c48000ed",
   "metadata": {},
   "outputs": [],
   "source": []
=======
>>>>>>> 8b4c439d11748d7a5d32704c2c44e84951cd1ee7
  }
 ],
 "metadata": {
  "kernelspec": {
   "display_name": "Python 3 (ipykernel)",
   "language": "python",
   "name": "python3"
  },
  "language_info": {
   "codemirror_mode": {
    "name": "ipython",
    "version": 3
   },
   "file_extension": ".py",
   "mimetype": "text/x-python",
   "name": "python",
   "nbconvert_exporter": "python",
   "pygments_lexer": "ipython3",
   "version": "3.11.2"
  }
 },
 "nbformat": 4,
 "nbformat_minor": 5
}
