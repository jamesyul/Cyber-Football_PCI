{
 "cells": [
  {
   "cell_type": "code",
   "id": "8fa660a0",
   "metadata": {
    "ExecuteTime": {
     "end_time": "2024-06-24T18:38:56.859374Z",
     "start_time": "2024-06-24T18:38:56.851997Z"
    }
   },
   "source": [
    "# Importación de librerías\n",
    "import pandas as pd  # Para manipulación y análisis de datos\n",
    "from sklearn.model_selection import train_test_split  # Para dividir el conjunto de datos en entrenamiento y prueba\n",
    "from sklearn.preprocessing import StandardScaler  # Para estandarizar características\n",
    "from tensorflow.keras.models import Sequential  # Para inicializar modelos secuenciales\n",
    "from tensorflow.keras.layers import Dense, Input  # Para definir capas densamente conectadas en la red neuronal\n",
    "import joblib  # Para guardar y cargar modelos entrenados\n",
    "import numpy as np  # Para cálculos numéricos\n",
    "from sklearn.metrics import mean_squared_error, r2_score  # Para calcular métricas de rendimiento del modelo"
   ],
   "outputs": [],
   "execution_count": 20
  },
  {
   "cell_type": "code",
   "id": "a6157ee9",
   "metadata": {
    "ExecuteTime": {
     "end_time": "2024-06-24T18:38:59.217252Z",
     "start_time": "2024-06-24T18:38:59.193147Z"
    }
   },
   "source": [
    "# Cargar datos\n",
    "df = pd.read_csv(\"juadores_fantasy.csv.csv\")\n",
    "\n",
    "#Impresion de las columnas existentes \n",
    "print(df.columns)\n",
    "\n"
   ],
   "outputs": [
    {
     "name": "stdout",
     "output_type": "stream",
     "text": [
      "Index(['Nombre', 'Precio', 'Media', 'Total_puntos', 'posicion', 'equipo'], dtype='object')\n"
     ]
    }
   ],
   "execution_count": 21
  },
  {
   "cell_type": "code",
   "id": "dd262c28",
   "metadata": {
    "ExecuteTime": {
     "end_time": "2024-06-24T18:39:00.760930Z",
     "start_time": "2024-06-24T18:39:00.745554Z"
    }
   },
   "source": [
    "# Dividir los datos en características (X) y el objetivo (y)\n",
    "X = df[['Precio', 'Media']]\n",
    "y_puntos = df['Total_puntos']\n",
    "y_precio = df['Precio']\n",
    "\n",
    "# Dividir los datos en conjuntos de entrenamiento y prueba\n",
    "X_train, X_test, y_puntos_train, y_puntos_test = train_test_split(X, y_puntos, test_size=0.2, random_state=42)\n",
    "X_train, X_test, y_precio_train, y_precio_test = train_test_split(X, y_precio, test_size=0.2, random_state=42)\n",
    "\n",
    "# Escalar las características\n",
    "scaler = StandardScaler()\n",
    "X_train_scaled = scaler.fit_transform(X_train)\n",
    "X_test_scaled = scaler.transform(X_test)"
   ],
   "outputs": [],
   "execution_count": 22
  },
  {
   "cell_type": "code",
   "id": "2e66f1ab",
   "metadata": {
    "ExecuteTime": {
     "end_time": "2024-06-24T18:39:02.512316Z",
     "start_time": "2024-06-24T18:39:01.543384Z"
    }
   },
   "source": [
    "# Crear el modelo para predecir puntos\n",
    "model_puntos = Sequential([\n",
    "    Input(shape=(X_train.shape[1],)),  \n",
    "    Dense(32, activation='relu'),\n",
    "    Dense(16, activation='relu'),\n",
    "    Dense(1, activation='linear')\n",
    "])\n",
    "\n",
    "# Configuración del modelo para que utilice el algoritmo de optimización \n",
    "model_puntos.compile(optimizer='adam', loss='mean_squared_error')\n",
    "\n",
    "# Entrenar el modelo para predecir puntos\n",
    "model_puntos.fit(X_train_scaled, y_puntos_train, epochs=50, batch_size=32, verbose=0)\n"
   ],
   "outputs": [
    {
     "data": {
      "text/plain": [
       "<keras.src.callbacks.history.History at 0x304820ee0>"
      ]
     },
     "execution_count": 23,
     "metadata": {},
     "output_type": "execute_result"
    }
   ],
   "execution_count": 23
  },
  {
   "cell_type": "code",
   "id": "e80f2106",
   "metadata": {
    "ExecuteTime": {
     "end_time": "2024-06-24T18:39:03.331043Z",
     "start_time": "2024-06-24T18:39:02.513654Z"
    }
   },
   "source": [
    "# Crear el modelo para predecir precio\n",
    "model_precio = Sequential([\n",
    "    Input(shape=(X_train.shape[1],)),\n",
    "    Dense(32, activation='relu'),\n",
    "    Dense(16, activation='relu'),\n",
    "    Dense(1, activation='linear')\n",
    "])\n",
    "\n",
    "# Configuración del modelo para que utilice el algoritmo de optimización \n",
    "model_precio.compile(optimizer='adam', loss='mean_squared_error')\n",
    "\n",
    "# Entrenar el modelo para predecir precio\n",
    "model_precio.fit(X_train_scaled, y_precio_train, epochs=50, batch_size=32, verbose=0)\n"
   ],
   "outputs": [
    {
     "data": {
      "text/plain": [
       "<keras.src.callbacks.history.History at 0x305788c70>"
      ]
     },
     "execution_count": 24,
     "metadata": {},
     "output_type": "execute_result"
    }
   ],
   "execution_count": 24
  },
  {
   "cell_type": "code",
   "id": "203b4820",
   "metadata": {
    "ExecuteTime": {
     "end_time": "2024-06-24T18:39:03.333643Z",
     "start_time": "2024-06-24T18:39:03.331838Z"
    }
   },
   "source": [
    "# Hacer predicciones para puntos y precio\n",
    "#puntos_predictions = model_puntos.predict(X_test_scaled)\n",
    "#precio_predictions = model_precio.predict(X_test_scaled)\n",
    "\n",
    "# Obtener el jugador con más puntos y el jugador con el precio más alto\n",
    "#indice_max_puntos = puntos_predictions.argmax()\n",
    "#indice_max_precio = precio_predictions.argmax()\n",
    "\n",
    "#jugador_mas_puntos = df.loc[indice_max_puntos, 'Nombre']\n",
    "#jugador_mas_precio = df.loc[indice_max_precio, 'Nombre']\n",
    "\n",
    "#print(f\"Jugador con más puntos predichos: {jugador_mas_puntos}\")\n",
    "#print(f\"Jugador con precio más alto predicho: {jugador_mas_precio}\")\n"
   ],
   "outputs": [],
   "execution_count": 25
  },
  {
   "cell_type": "code",
   "id": "014ec114",
   "metadata": {
    "ExecuteTime": {
     "end_time": "2024-06-24T18:39:03.432233Z",
     "start_time": "2024-06-24T18:39:03.334979Z"
    }
   },
   "source": [
    "# Hacer predicciones para puntos y precio\n",
    "puntos_predictions = model_puntos.predict(X_test_scaled)\n",
    "precio_predictions = model_precio.predict(X_test_scaled)\n",
    "\n",
    "# Obtener los 10 jugadores con más puntos predichos\n",
    "top_10_jugadores_puntos = df.nlargest(10, 'Total_puntos')\n",
    "\n",
    "# Obtener los 10 jugadores con los precios más altos predichos\n",
    "top_10_jugadores_precio = df.nlargest(10, 'Precio')\n",
    "\n",
    "# Impresion de los top 10 Jugadores con mayores puntos y precios \n",
    "print(\"Top 10 jugadores con más puntos predichos:\")\n",
    "print(top_10_jugadores_puntos[['Nombre', 'Total_puntos']])\n",
    "\n",
    "print(\"\\nTop 10 jugadores con precios más altos predichos:\")\n",
    "print(top_10_jugadores_precio[['Nombre', 'Precio']])\n",
    "\n"
   ],
   "outputs": [
    {
     "name": "stdout",
     "output_type": "stream",
     "text": [
      "\u001B[1m4/4\u001B[0m \u001B[32m━━━━━━━━━━━━━━━━━━━━\u001B[0m\u001B[37m\u001B[0m \u001B[1m0s\u001B[0m 4ms/step \n",
      "\u001B[1m1/4\u001B[0m \u001B[32m━━━━━\u001B[0m\u001B[37m━━━━━━━━━━━━━━━\u001B[0m \u001B[1m0s\u001B[0m 16ms/stepWARNING:tensorflow:5 out of the last 17 calls to <function TensorFlowTrainer.make_predict_function.<locals>.one_step_on_data_distributed at 0x3083ceee0> triggered tf.function retracing. Tracing is expensive and the excessive number of tracings could be due to (1) creating @tf.function repeatedly in a loop, (2) passing tensors with different shapes, (3) passing Python objects instead of tensors. For (1), please define your @tf.function outside of the loop. For (2), @tf.function has reduce_retracing=True option that can avoid unnecessary retracing. For (3), please refer to https://www.tensorflow.org/guide/function#controlling_retracing and https://www.tensorflow.org/api_docs/python/tf/function for  more details.\n",
      "\u001B[1m4/4\u001B[0m \u001B[32m━━━━━━━━━━━━━━━━━━━━\u001B[0m\u001B[37m\u001B[0m \u001B[1m0s\u001B[0m 4ms/step \n",
      "Top 10 jugadores con más puntos predichos:\n",
      "          Nombre  Total_puntos\n",
      "0  J. Bellingham           173\n",
      "1        T. Kubo           147\n",
      "2   A. Griezmann           144\n",
      "3    I. Williams           139\n",
      "4     B. Mayoral           138\n",
      "5      A. García           137\n",
      "6      A. Dovbyk           130\n",
      "7      Á. Valles           128\n",
      "8         Pepelu           127\n",
      "9     A. Budimir           127\n",
      "\n",
      "Top 10 jugadores con precios más altos predichos:\n",
      "            Nombre    Precio\n",
      "2     A. Griezmann  24384000\n",
      "0    J. Bellingham  24262000\n",
      "56  R. Lewandowski  20994000\n",
      "1          T. Kubo  20904000\n",
      "5        A. García  20771000\n",
      "18     F. Valverde  20115000\n",
      "10            Isco  19605000\n",
      "13         Rodrygo  19338000\n",
      "3      I. Williams  18358000\n",
      "22       G. Moreno  18341000\n"
     ]
    }
   ],
   "execution_count": 26
  },
  {
   "cell_type": "code",
   "id": "ef6730ec",
   "metadata": {
    "ExecuteTime": {
     "end_time": "2024-06-24T18:39:03.489951Z",
     "start_time": "2024-06-24T18:39:03.432996Z"
    }
   },
   "source": [
    "# Hacer predicciones para puntos y precio\n",
    "puntos_predictions = model_puntos.predict(X_test_scaled)\n",
    "precio_predictions = model_precio.predict(X_test_scaled)\n",
    "\n",
    "# Calcular el Error Cuadrático Medio (MSE) para puntos y precio\n",
    "mse_puntos = mean_squared_error(y_puntos_test, puntos_predictions)\n",
    "mse_precio = mean_squared_error(y_precio_test, precio_predictions)\n",
    "\n",
    "# Calcular el coeficiente de determinación (R^2) para puntos y precio\n",
    "r2_puntos = r2_score(y_puntos_test, puntos_predictions)\n",
    "r2_precio = r2_score(y_precio_test, precio_predictions)\n",
    "\n",
    "print(f\"MSE para puntos: {mse_puntos:.2f}\")\n",
    "print(f\"R^2 para puntos: {r2_puntos:.2f}\")\n",
    "\n",
    "print(f\"MSE para precio: {mse_precio:.2f}\")\n",
    "print(f\"R^2 para precio: {r2_precio:.2f}\")\n"
   ],
   "outputs": [
    {
     "name": "stdout",
     "output_type": "stream",
     "text": [
      "\u001B[1m4/4\u001B[0m \u001B[32m━━━━━━━━━━━━━━━━━━━━\u001B[0m\u001B[37m\u001B[0m \u001B[1m0s\u001B[0m 523us/step\n",
      "\u001B[1m4/4\u001B[0m \u001B[32m━━━━━━━━━━━━━━━━━━━━\u001B[0m\u001B[37m\u001B[0m \u001B[1m0s\u001B[0m 553us/step\n",
      "MSE para puntos: 388.37\n",
      "R^2 para puntos: 0.69\n",
      "MSE para precio: 58077826879423.29\n",
      "R^2 para precio: -0.59\n"
     ]
    }
   ],
   "execution_count": 27
  },
  {
   "cell_type": "code",
   "id": "c11e2166",
   "metadata": {
    "ExecuteTime": {
     "end_time": "2024-06-24T18:39:03.497981Z",
     "start_time": "2024-06-24T18:39:03.491299Z"
    }
   },
   "source": [
    "# Crear un DataFrame con las predicciones\n",
    "# Obtener los 10 jugadores con las predicciones más altas de puntos\n",
    "top_10_puntos_predictions = pd.DataFrame({\n",
    "    'Nombre': df.iloc[X_test.index]['Nombre'],  # Recuperar los nombres de los jugadores\n",
    "    'Posicion': df.iloc[X_test.index]['posicion'],   # Utilizar la posición de los jugadores\n",
    "    'Predicciones_Puntos': puntos_predictions.flatten(),  # Aplanar el array de predicciones\n",
    "    'Predicciones_Precio': precio_predictions.flatten()  # Aplanar el array de predicciones\n",
    "})\n",
    "\n",
    "# Ordenar el DataFrame por Predicciones_Puntos en orden descendente\n",
    "top_10_puntos_predictions = top_10_puntos_predictions.sort_values(by='Predicciones_Puntos', ascending=False)\n",
    "\n",
    "# Tomar solo las primeras 10 filas (los 10 jugadores con las predicciones más altas)\n",
    "top_10_puntos_predictions = top_10_puntos_predictions.head(10)\n",
    "\n",
    "# Cambiar el nombre de la columna 'Predicciones_Puntos' a 'Puntos'\n",
    "top_10_puntos_predictions = top_10_puntos_predictions.rename(columns={'Predicciones_Puntos': 'Puntos', 'Predicciones_Precio': 'Precio'})\n",
    "\n",
    "# Guardar el DataFrame en un archivo CSV\n",
    "top_10_puntos_predictions.to_csv('top_10_predicciones_puntos.csv', index=False)\n"
   ],
   "outputs": [],
   "execution_count": 28
  },
  {
   "cell_type": "code",
   "id": "a1470ad7",
   "metadata": {
    "ExecuteTime": {
     "end_time": "2024-06-24T18:39:03.504528Z",
     "start_time": "2024-06-24T18:39:03.498704Z"
    }
   },
   "source": [
    "top_10_puntos_predictions"
   ],
   "outputs": [
    {
     "data": {
      "text/plain": [
       "            Nombre     Posicion      Puntos       Precio\n",
       "0    J. Bellingham  mediocentro  189.221313  3781.593750\n",
       "2     A. Griezmann    delantero  153.410156  3126.486572\n",
       "399        M. Guiu    delantero  148.611725  2272.332275\n",
       "10            Isco  mediocentro  130.884979  2619.285400\n",
       "101     F. De Jong  mediocentro  121.836952  2403.360107\n",
       "22       G. Moreno    delantero  120.425453  2398.980469\n",
       "11           Sávio    delantero  119.647682  2376.213623\n",
       "9       A. Budimir    delantero  117.139397  2255.192627\n",
       "18     F. Valverde  mediocentro  115.941048  2325.386719\n",
       "72       V. Muriqi    delantero  111.182152  2050.604492"
      ],
      "text/html": [
       "<div>\n",
       "<style scoped>\n",
       "    .dataframe tbody tr th:only-of-type {\n",
       "        vertical-align: middle;\n",
       "    }\n",
       "\n",
       "    .dataframe tbody tr th {\n",
       "        vertical-align: top;\n",
       "    }\n",
       "\n",
       "    .dataframe thead th {\n",
       "        text-align: right;\n",
       "    }\n",
       "</style>\n",
       "<table border=\"1\" class=\"dataframe\">\n",
       "  <thead>\n",
       "    <tr style=\"text-align: right;\">\n",
       "      <th></th>\n",
       "      <th>Nombre</th>\n",
       "      <th>Posicion</th>\n",
       "      <th>Puntos</th>\n",
       "      <th>Precio</th>\n",
       "    </tr>\n",
       "  </thead>\n",
       "  <tbody>\n",
       "    <tr>\n",
       "      <th>0</th>\n",
       "      <td>J. Bellingham</td>\n",
       "      <td>mediocentro</td>\n",
       "      <td>189.221313</td>\n",
       "      <td>3781.593750</td>\n",
       "    </tr>\n",
       "    <tr>\n",
       "      <th>2</th>\n",
       "      <td>A. Griezmann</td>\n",
       "      <td>delantero</td>\n",
       "      <td>153.410156</td>\n",
       "      <td>3126.486572</td>\n",
       "    </tr>\n",
       "    <tr>\n",
       "      <th>399</th>\n",
       "      <td>M. Guiu</td>\n",
       "      <td>delantero</td>\n",
       "      <td>148.611725</td>\n",
       "      <td>2272.332275</td>\n",
       "    </tr>\n",
       "    <tr>\n",
       "      <th>10</th>\n",
       "      <td>Isco</td>\n",
       "      <td>mediocentro</td>\n",
       "      <td>130.884979</td>\n",
       "      <td>2619.285400</td>\n",
       "    </tr>\n",
       "    <tr>\n",
       "      <th>101</th>\n",
       "      <td>F. De Jong</td>\n",
       "      <td>mediocentro</td>\n",
       "      <td>121.836952</td>\n",
       "      <td>2403.360107</td>\n",
       "    </tr>\n",
       "    <tr>\n",
       "      <th>22</th>\n",
       "      <td>G. Moreno</td>\n",
       "      <td>delantero</td>\n",
       "      <td>120.425453</td>\n",
       "      <td>2398.980469</td>\n",
       "    </tr>\n",
       "    <tr>\n",
       "      <th>11</th>\n",
       "      <td>Sávio</td>\n",
       "      <td>delantero</td>\n",
       "      <td>119.647682</td>\n",
       "      <td>2376.213623</td>\n",
       "    </tr>\n",
       "    <tr>\n",
       "      <th>9</th>\n",
       "      <td>A. Budimir</td>\n",
       "      <td>delantero</td>\n",
       "      <td>117.139397</td>\n",
       "      <td>2255.192627</td>\n",
       "    </tr>\n",
       "    <tr>\n",
       "      <th>18</th>\n",
       "      <td>F. Valverde</td>\n",
       "      <td>mediocentro</td>\n",
       "      <td>115.941048</td>\n",
       "      <td>2325.386719</td>\n",
       "    </tr>\n",
       "    <tr>\n",
       "      <th>72</th>\n",
       "      <td>V. Muriqi</td>\n",
       "      <td>delantero</td>\n",
       "      <td>111.182152</td>\n",
       "      <td>2050.604492</td>\n",
       "    </tr>\n",
       "  </tbody>\n",
       "</table>\n",
       "</div>"
      ]
     },
     "execution_count": 29,
     "metadata": {},
     "output_type": "execute_result"
    }
   ],
   "execution_count": 29
  },
  {
   "cell_type": "code",
   "id": "2d45cae9",
   "metadata": {
    "ExecuteTime": {
     "end_time": "2024-06-24T18:39:03.939950Z",
     "start_time": "2024-06-24T18:39:03.937138Z"
    }
   },
   "source": [
    "# Guardar las predicciones en un archivo CSV\n",
    "#predicciones_df.to_csv('predicciones.csv', index=False)"
   ],
   "outputs": [],
   "execution_count": 30
  },
  {
   "cell_type": "code",
   "id": "2f2a6830",
   "metadata": {
    "ExecuteTime": {
     "end_time": "2024-06-24T18:39:04.127385Z",
     "start_time": "2024-06-24T18:39:04.124585Z"
    }
   },
   "source": [
    "#joblib.dump(model_puntos, 'redes_neuronales.pkl')"
   ],
   "outputs": [],
   "execution_count": 31
  },
  {
   "cell_type": "code",
   "id": "814da5be",
   "metadata": {
    "ExecuteTime": {
     "end_time": "2024-06-24T18:39:04.898059Z",
     "start_time": "2024-06-24T18:39:04.894451Z"
    }
   },
   "source": [
    "####"
   ],
   "outputs": [],
   "execution_count": 32
  },
  {
   "cell_type": "code",
   "execution_count": null,
   "id": "c48000ed",
   "metadata": {},
   "outputs": [],
   "source": []
  }
 ],
 "metadata": {
  "kernelspec": {
   "display_name": "Python 3 (ipykernel)",
   "language": "python",
   "name": "python3"
  },
  "language_info": {
   "codemirror_mode": {
    "name": "ipython",
    "version": 3
   },
   "file_extension": ".py",
   "mimetype": "text/x-python",
   "name": "python",
   "nbconvert_exporter": "python",
   "pygments_lexer": "ipython3",
   "version": "3.11.2"
  }
 },
 "nbformat": 4,
 "nbformat_minor": 5
}
