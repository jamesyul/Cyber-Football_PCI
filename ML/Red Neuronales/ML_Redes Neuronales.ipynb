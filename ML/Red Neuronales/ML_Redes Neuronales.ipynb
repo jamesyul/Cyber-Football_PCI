{
 "cells": [
  {
   "cell_type": "code",
   "id": "8fa660a0",
   "metadata": {
    "ExecuteTime": {
     "end_time": "2024-06-12T17:35:56.191674Z",
     "start_time": "2024-06-12T17:35:56.181153Z"
    }
   },
   "source": [
    "# Importación de librerías\n",
    "import pandas as pd  # Para manipulación y análisis de datos\n",
    "from sklearn.model_selection import train_test_split  # Para dividir el conjunto de datos en entrenamiento y prueba\n",
    "from sklearn.preprocessing import StandardScaler  # Para estandarizar características\n",
    "from tensorflow.keras.models import Sequential  # Para inicializar modelos secuenciales\n",
    "from tensorflow.keras.layers import Dense, Input  # Para definir capas densamente conectadas en la red neuronal\n",
    "import joblib  # Para guardar y cargar modelos entrenados\n",
    "import numpy as np  # Para cálculos numéricos\n",
    "from sklearn.metrics import mean_squared_error, r2_score  # Para calcular métricas de rendimiento del modelo"
   ],
   "outputs": [],
   "execution_count": 25
  },
  {
   "cell_type": "code",
   "id": "a6157ee9",
   "metadata": {
    "ExecuteTime": {
     "end_time": "2024-06-12T17:33:43.161030Z",
     "start_time": "2024-06-12T17:33:43.150671Z"
    }
   },
   "source": [
    "# Cargar datos\n",
    "df = pd.read_csv(\"juadores_fantasy.csv.csv\")\n",
    "\n",
    "#Impresion de las columnas existentes \n",
    "print(df.columns)\n",
    "\n"
   ],
   "outputs": [
    {
     "name": "stdout",
     "output_type": "stream",
     "text": [
      "Index(['Nombre', 'Precio', 'Media', 'Total_puntos', 'posicion', 'equipo'], dtype='object')\n"
     ]
    }
   ],
   "execution_count": 14
  },
  {
   "cell_type": "code",
   "id": "dd262c28",
   "metadata": {
    "ExecuteTime": {
     "end_time": "2024-06-12T17:33:43.310106Z",
     "start_time": "2024-06-12T17:33:43.296730Z"
    }
   },
   "source": [
    "# Dividir los datos en características (X) y el objetivo (y)\n",
    "X = df[['Precio', 'Media']]\n",
    "y_puntos = df['Total_puntos']\n",
    "y_precio = df['Precio']\n",
    "\n",
    "# Dividir los datos en conjuntos de entrenamiento y prueba\n",
    "X_train, X_test, y_puntos_train, y_puntos_test = train_test_split(X, y_puntos, test_size=0.2, random_state=42)\n",
    "X_train, X_test, y_precio_train, y_precio_test = train_test_split(X, y_precio, test_size=0.2, random_state=42)\n",
    "\n",
    "# Escalar las características\n",
    "scaler = StandardScaler()\n",
    "X_train_scaled = scaler.fit_transform(X_train)\n",
    "X_test_scaled = scaler.transform(X_test)"
   ],
   "outputs": [],
   "execution_count": 15
  },
  {
   "cell_type": "code",
   "id": "2e66f1ab",
   "metadata": {
    "ExecuteTime": {
     "end_time": "2024-06-12T17:33:44.506089Z",
     "start_time": "2024-06-12T17:33:43.459059Z"
    }
   },
   "source": [
    "# Crear el modelo para predecir puntos\n",
    "model_puntos = Sequential([\n",
    "    Input(shape=(X_train.shape[1],)),  \n",
    "    Dense(32, activation='relu'),\n",
    "    Dense(16, activation='relu'),\n",
    "    Dense(1, activation='linear')\n",
    "])\n",
    "\n",
    "# Configuración del modelo para que utilice el algoritmo de optimización \n",
    "model_puntos.compile(optimizer='adam', loss='mean_squared_error')\n",
    "\n",
    "# Entrenar el modelo para predecir puntos\n",
    "model_puntos.fit(X_train_scaled, y_puntos_train, epochs=50, batch_size=32, verbose=0)\n"
   ],
   "outputs": [
    {
     "data": {
      "text/plain": [
       "<keras.src.callbacks.history.History at 0x30696e760>"
      ]
     },
     "execution_count": 16,
     "metadata": {},
     "output_type": "execute_result"
    }
   ],
   "execution_count": 16
  },
  {
   "cell_type": "code",
   "id": "e80f2106",
   "metadata": {
    "ExecuteTime": {
     "end_time": "2024-06-12T17:33:45.699270Z",
     "start_time": "2024-06-12T17:33:44.507752Z"
    }
   },
   "source": [
    "# Crear el modelo para predecir precio\n",
    "model_precio = Sequential([\n",
    "    Input(shape=(X_train.shape[1],)),\n",
    "    Dense(32, activation='relu'),\n",
    "    Dense(16, activation='relu'),\n",
    "    Dense(1, activation='linear')\n",
    "])\n",
    "\n",
    "# Configuración del modelo para que utilice el algoritmo de optimización \n",
    "model_precio.compile(optimizer='adam', loss='mean_squared_error')\n",
    "\n",
    "# Entrenar el modelo para predecir precio\n",
    "model_precio.fit(X_train_scaled, y_precio_train, epochs=50, batch_size=32, verbose=0)\n"
   ],
   "outputs": [
    {
     "data": {
      "text/plain": [
       "<keras.src.callbacks.history.History at 0x30a3c5ca0>"
      ]
     },
     "execution_count": 17,
     "metadata": {},
     "output_type": "execute_result"
    }
   ],
   "execution_count": 17
  },
  {
   "cell_type": "code",
   "id": "203b4820",
   "metadata": {
    "ExecuteTime": {
     "end_time": "2024-06-12T17:33:45.703399Z",
     "start_time": "2024-06-12T17:33:45.700553Z"
    }
   },
   "source": [
    "# Hacer predicciones para puntos y precio\n",
    "#puntos_predictions = model_puntos.predict(X_test_scaled)\n",
    "#precio_predictions = model_precio.predict(X_test_scaled)\n",
    "\n",
    "# Obtener el jugador con más puntos y el jugador con el precio más alto\n",
    "#indice_max_puntos = puntos_predictions.argmax()\n",
    "#indice_max_precio = precio_predictions.argmax()\n",
    "\n",
    "#jugador_mas_puntos = df.loc[indice_max_puntos, 'Nombre']\n",
    "#jugador_mas_precio = df.loc[indice_max_precio, 'Nombre']\n",
    "\n",
    "#print(f\"Jugador con más puntos predichos: {jugador_mas_puntos}\")\n",
    "#print(f\"Jugador con precio más alto predicho: {jugador_mas_precio}\")\n"
   ],
   "outputs": [],
   "execution_count": 18
  },
  {
   "cell_type": "code",
   "id": "014ec114",
   "metadata": {
    "ExecuteTime": {
     "end_time": "2024-06-12T17:33:45.809220Z",
     "start_time": "2024-06-12T17:33:45.704710Z"
    }
   },
   "source": [
    "# Hacer predicciones para puntos y precio\n",
    "puntos_predictions = model_puntos.predict(X_test_scaled)\n",
    "precio_predictions = model_precio.predict(X_test_scaled)\n",
    "\n",
    "# Obtener los 10 jugadores con más puntos predichos\n",
    "top_10_jugadores_puntos = df.nlargest(10, 'Total_puntos')\n",
    "\n",
    "# Obtener los 10 jugadores con los precios más altos predichos\n",
    "top_10_jugadores_precio = df.nlargest(10, 'Precio')\n",
    "\n",
    "print(\"Top 10 jugadores con más puntos predichos:\")\n",
    "print(top_10_jugadores_puntos[['Nombre', 'Total_puntos']])\n",
    "\n",
    "print(\"\\nTop 10 jugadores con precios más altos predichos:\")\n",
    "print(top_10_jugadores_precio[['Nombre', 'Precio']])\n",
    "\n"
   ],
   "outputs": [
    {
     "name": "stdout",
     "output_type": "stream",
     "text": [
      "\u001B[1m4/4\u001B[0m \u001B[32m━━━━━━━━━━━━━━━━━━━━\u001B[0m\u001B[37m\u001B[0m \u001B[1m0s\u001B[0m 4ms/step \n",
      "\u001B[1m1/4\u001B[0m \u001B[32m━━━━━\u001B[0m\u001B[37m━━━━━━━━━━━━━━━\u001B[0m \u001B[1m0s\u001B[0m 15ms/stepWARNING:tensorflow:5 out of the last 17 calls to <function TensorFlowTrainer.make_predict_function.<locals>.one_step_on_data_distributed at 0x30b9958b0> triggered tf.function retracing. Tracing is expensive and the excessive number of tracings could be due to (1) creating @tf.function repeatedly in a loop, (2) passing tensors with different shapes, (3) passing Python objects instead of tensors. For (1), please define your @tf.function outside of the loop. For (2), @tf.function has reduce_retracing=True option that can avoid unnecessary retracing. For (3), please refer to https://www.tensorflow.org/guide/function#controlling_retracing and https://www.tensorflow.org/api_docs/python/tf/function for  more details.\n",
      "\u001B[1m4/4\u001B[0m \u001B[32m━━━━━━━━━━━━━━━━━━━━\u001B[0m\u001B[37m\u001B[0m \u001B[1m0s\u001B[0m 4ms/step \n",
      "Top 10 jugadores con más puntos predichos:\n",
      "          Nombre  Total_puntos\n",
      "0  J. Bellingham           173\n",
      "1        T. Kubo           147\n",
      "2   A. Griezmann           144\n",
      "3    I. Williams           139\n",
      "4     B. Mayoral           138\n",
      "5      A. García           137\n",
      "6      A. Dovbyk           130\n",
      "7      Á. Valles           128\n",
      "8         Pepelu           127\n",
      "9     A. Budimir           127\n",
      "\n",
      "Top 10 jugadores con precios más altos predichos:\n",
      "            Nombre    Precio\n",
      "2     A. Griezmann  24384000\n",
      "0    J. Bellingham  24262000\n",
      "56  R. Lewandowski  20994000\n",
      "1          T. Kubo  20904000\n",
      "5        A. García  20771000\n",
      "18     F. Valverde  20115000\n",
      "10            Isco  19605000\n",
      "13         Rodrygo  19338000\n",
      "3      I. Williams  18358000\n",
      "22       G. Moreno  18341000\n"
     ]
    }
   ],
   "execution_count": 19
  },
  {
   "cell_type": "code",
   "id": "ef6730ec",
   "metadata": {
    "ExecuteTime": {
     "end_time": "2024-06-12T17:33:45.859122Z",
     "start_time": "2024-06-12T17:33:45.809914Z"
    }
   },
   "source": [
    "# Hacer predicciones para puntos y precio\n",
    "puntos_predictions = model_puntos.predict(X_test_scaled)\n",
    "precio_predictions = model_precio.predict(X_test_scaled)\n",
    "\n",
    "# Calcular el Error Cuadrático Medio (MSE) para puntos y precio\n",
    "mse_puntos = mean_squared_error(y_puntos_test, puntos_predictions)\n",
    "mse_precio = mean_squared_error(y_precio_test, precio_predictions)\n",
    "\n",
    "# Calcular el coeficiente de determinación (R^2) para puntos y precio\n",
    "r2_puntos = r2_score(y_puntos_test, puntos_predictions)\n",
    "r2_precio = r2_score(y_precio_test, precio_predictions)\n",
    "\n",
    "print(f\"MSE para puntos: {mse_puntos:.2f}\")\n",
    "print(f\"R^2 para puntos: {r2_puntos:.2f}\")\n",
    "\n",
    "print(f\"MSE para precio: {mse_precio:.2f}\")\n",
    "print(f\"R^2 para precio: {r2_precio:.2f}\")\n"
   ],
   "outputs": [
    {
     "name": "stdout",
     "output_type": "stream",
     "text": [
      "\u001B[1m4/4\u001B[0m \u001B[32m━━━━━━━━━━━━━━━━━━━━\u001B[0m\u001B[37m\u001B[0m \u001B[1m0s\u001B[0m 464us/step\n",
      "\u001B[1m4/4\u001B[0m \u001B[32m━━━━━━━━━━━━━━━━━━━━\u001B[0m\u001B[37m\u001B[0m \u001B[1m0s\u001B[0m 462us/step\n",
      "MSE para puntos: 356.91\n",
      "R^2 para puntos: 0.72\n",
      "MSE para precio: 58074619576198.56\n",
      "R^2 para precio: -0.59\n"
     ]
    }
   ],
   "execution_count": 20
  },
  {
   "cell_type": "code",
   "id": "c11e2166",
   "metadata": {
    "ExecuteTime": {
     "end_time": "2024-06-12T17:33:45.867137Z",
     "start_time": "2024-06-12T17:33:45.859906Z"
    }
   },
   "source": [
    "# Crear un DataFrame con las predicciones\n",
    "# Obtener los 10 jugadores con las predicciones más altas de puntos\n",
    "top_10_puntos_predictions = pd.DataFrame({\n",
    "    'Nombre': df.iloc[X_test.index]['Nombre'],  # Recuperar los nombres de los jugadores\n",
    "    'Posicion': df.iloc[X_test.index]['posicion'],   # Utilizar la posición de los jugadores\n",
    "    'Predicciones_Puntos': puntos_predictions.flatten(),  # Aplanar el array de predicciones\n",
    "    'Predicciones_Precio': precio_predictions.flatten()  # Aplanar el array de predicciones\n",
    "})\n",
    "\n",
    "# Ordenar el DataFrame por Predicciones_Puntos en orden descendente\n",
    "top_10_puntos_predictions = top_10_puntos_predictions.sort_values(by='Predicciones_Puntos', ascending=False)\n",
    "\n",
    "# Tomar solo las primeras 10 filas (los 10 jugadores con las predicciones más altas)\n",
    "top_10_puntos_predictions = top_10_puntos_predictions.head(10)\n",
    "\n",
    "# Cambiar el nombre de la columna 'Predicciones_Puntos' a 'Puntos'\n",
    "top_10_puntos_predictions = top_10_puntos_predictions.rename(columns={'Predicciones_Puntos': 'Puntos', 'Predicciones_Precio': 'Precio'})\n",
    "\n",
    "# Guardar el DataFrame en un archivo CSV\n",
    "top_10_puntos_predictions.to_csv('top_10_predicciones_puntos.csv', index=False)\n"
   ],
   "outputs": [],
   "execution_count": 21
  },
  {
   "cell_type": "code",
   "id": "a1470ad7",
   "metadata": {
    "ExecuteTime": {
     "end_time": "2024-06-12T17:33:45.872126Z",
     "start_time": "2024-06-12T17:33:45.868018Z"
    }
   },
   "source": [
    "top_10_puntos_predictions"
   ],
   "outputs": [
    {
     "data": {
      "text/plain": [
       "            Nombre     Posicion      Puntos       Precio\n",
       "0    J. Bellingham  mediocentro  190.903473  4635.955078\n",
       "2     A. Griezmann    delantero  155.401627  3861.041748\n",
       "399        M. Guiu    delantero  137.993454  2555.461914\n",
       "10            Isco  mediocentro  133.258652  3218.134521\n",
       "101     F. De Jong  mediocentro  123.624512  2944.033691\n",
       "22       G. Moreno    delantero  122.681366  2944.821533\n",
       "11           Sávio    delantero  121.784904  2914.797852\n",
       "9       A. Budimir    delantero  117.745255  2746.513672\n",
       "18     F. Valverde  mediocentro  117.449188  2874.024414\n",
       "72       V. Muriqi    delantero  110.051697  2467.264893"
      ],
      "text/html": [
       "<div>\n",
       "<style scoped>\n",
       "    .dataframe tbody tr th:only-of-type {\n",
       "        vertical-align: middle;\n",
       "    }\n",
       "\n",
       "    .dataframe tbody tr th {\n",
       "        vertical-align: top;\n",
       "    }\n",
       "\n",
       "    .dataframe thead th {\n",
       "        text-align: right;\n",
       "    }\n",
       "</style>\n",
       "<table border=\"1\" class=\"dataframe\">\n",
       "  <thead>\n",
       "    <tr style=\"text-align: right;\">\n",
       "      <th></th>\n",
       "      <th>Nombre</th>\n",
       "      <th>Posicion</th>\n",
       "      <th>Puntos</th>\n",
       "      <th>Precio</th>\n",
       "    </tr>\n",
       "  </thead>\n",
       "  <tbody>\n",
       "    <tr>\n",
       "      <th>0</th>\n",
       "      <td>J. Bellingham</td>\n",
       "      <td>mediocentro</td>\n",
       "      <td>190.903473</td>\n",
       "      <td>4635.955078</td>\n",
       "    </tr>\n",
       "    <tr>\n",
       "      <th>2</th>\n",
       "      <td>A. Griezmann</td>\n",
       "      <td>delantero</td>\n",
       "      <td>155.401627</td>\n",
       "      <td>3861.041748</td>\n",
       "    </tr>\n",
       "    <tr>\n",
       "      <th>399</th>\n",
       "      <td>M. Guiu</td>\n",
       "      <td>delantero</td>\n",
       "      <td>137.993454</td>\n",
       "      <td>2555.461914</td>\n",
       "    </tr>\n",
       "    <tr>\n",
       "      <th>10</th>\n",
       "      <td>Isco</td>\n",
       "      <td>mediocentro</td>\n",
       "      <td>133.258652</td>\n",
       "      <td>3218.134521</td>\n",
       "    </tr>\n",
       "    <tr>\n",
       "      <th>101</th>\n",
       "      <td>F. De Jong</td>\n",
       "      <td>mediocentro</td>\n",
       "      <td>123.624512</td>\n",
       "      <td>2944.033691</td>\n",
       "    </tr>\n",
       "    <tr>\n",
       "      <th>22</th>\n",
       "      <td>G. Moreno</td>\n",
       "      <td>delantero</td>\n",
       "      <td>122.681366</td>\n",
       "      <td>2944.821533</td>\n",
       "    </tr>\n",
       "    <tr>\n",
       "      <th>11</th>\n",
       "      <td>Sávio</td>\n",
       "      <td>delantero</td>\n",
       "      <td>121.784904</td>\n",
       "      <td>2914.797852</td>\n",
       "    </tr>\n",
       "    <tr>\n",
       "      <th>9</th>\n",
       "      <td>A. Budimir</td>\n",
       "      <td>delantero</td>\n",
       "      <td>117.745255</td>\n",
       "      <td>2746.513672</td>\n",
       "    </tr>\n",
       "    <tr>\n",
       "      <th>18</th>\n",
       "      <td>F. Valverde</td>\n",
       "      <td>mediocentro</td>\n",
       "      <td>117.449188</td>\n",
       "      <td>2874.024414</td>\n",
       "    </tr>\n",
       "    <tr>\n",
       "      <th>72</th>\n",
       "      <td>V. Muriqi</td>\n",
       "      <td>delantero</td>\n",
       "      <td>110.051697</td>\n",
       "      <td>2467.264893</td>\n",
       "    </tr>\n",
       "  </tbody>\n",
       "</table>\n",
       "</div>"
      ]
     },
     "execution_count": 22,
     "metadata": {},
     "output_type": "execute_result"
    }
   ],
   "execution_count": 22
  },
  {
   "cell_type": "code",
   "id": "2d45cae9",
   "metadata": {
    "ExecuteTime": {
     "end_time": "2024-06-12T17:33:45.875261Z",
     "start_time": "2024-06-12T17:33:45.872999Z"
    }
   },
   "source": [
    "# Guardar las predicciones en un archivo CSV\n",
    "#predicciones_df.to_csv('predicciones.csv', index=False)"
   ],
   "outputs": [],
   "execution_count": 23
  },
  {
   "cell_type": "code",
   "id": "2f2a6830",
   "metadata": {
    "ExecuteTime": {
     "end_time": "2024-06-12T17:33:45.877358Z",
     "start_time": "2024-06-12T17:33:45.875913Z"
    }
   },
   "source": [
    "#joblib.dump(model_puntos, 'redes_neuronales.pkl')"
   ],
   "outputs": [],
   "execution_count": 24
  },
  {
   "cell_type": "code",
   "id": "814da5be",
   "metadata": {
    "ExecuteTime": {
     "end_time": "2024-06-12T16:38:15.198145Z",
     "start_time": "2024-06-12T16:38:15.195769Z"
    }
   },
   "source": [
    "####"
   ],
   "outputs": [],
   "execution_count": 15
  },
  {
   "cell_type": "code",
   "execution_count": null,
   "id": "c48000ed",
   "metadata": {},
   "outputs": [],
   "source": []
  }
 ],
 "metadata": {
  "kernelspec": {
   "display_name": "Python 3 (ipykernel)",
   "language": "python",
   "name": "python3"
  },
  "language_info": {
   "codemirror_mode": {
    "name": "ipython",
    "version": 3
   },
   "file_extension": ".py",
   "mimetype": "text/x-python",
   "name": "python",
   "nbconvert_exporter": "python",
   "pygments_lexer": "ipython3",
   "version": "3.11.2"
  }
 },
 "nbformat": 4,
 "nbformat_minor": 5
}
