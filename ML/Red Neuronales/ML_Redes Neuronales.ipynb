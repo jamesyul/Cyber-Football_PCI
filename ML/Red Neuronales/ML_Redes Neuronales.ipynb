{
 "cells": [
  {
   "cell_type": "code",
   "execution_count": 17,
   "id": "8fa660a0",
   "metadata": {},
   "outputs": [],
   "source": [
    "import pandas as pd\n",
    "from sklearn.model_selection import train_test_split\n",
    "from sklearn.preprocessing import StandardScaler\n",
    "from tensorflow.keras.models import Sequential\n",
    "from tensorflow.keras.layers import Dense\n",
    "import joblib\n",
    "import numpy as np\n",
    "from sklearn.metrics import mean_squared_error, r2_score"
   ]
  },
  {
   "cell_type": "code",
   "execution_count": 18,
   "id": "a6157ee9",
   "metadata": {},
   "outputs": [
    {
     "name": "stdout",
     "output_type": "stream",
     "text": [
      "Index(['Nombre', 'Precio', 'Media', 'Total_puntos', 'posicion', 'equipo'], dtype='object')\n"
     ]
    }
   ],
   "source": [
    "# Cargar datos\n",
    "df = pd.read_csv(\"juadores_fantasy.csv.csv\")\n",
    "\n",
    "print(df.columns)\n",
    "\n"
   ]
  },
  {
   "cell_type": "code",
   "execution_count": 19,
   "id": "dd262c28",
   "metadata": {},
   "outputs": [],
   "source": [
    "# Dividir los datos en características (X) y el objetivo (y)\n",
    "X = df[['Precio', 'Media']]\n",
    "y_puntos = df['Total_puntos']\n",
    "y_precio = df['Precio']\n",
    "\n",
    "# Dividir los datos en conjuntos de entrenamiento y prueba\n",
    "X_train, X_test, y_puntos_train, y_puntos_test = train_test_split(X, y_puntos, test_size=0.2, random_state=42)\n",
    "X_train, X_test, y_precio_train, y_precio_test = train_test_split(X, y_precio, test_size=0.2, random_state=42)\n",
    "\n",
    "# Escalar las características\n",
    "scaler = StandardScaler()\n",
    "X_train_scaled = scaler.fit_transform(X_train)\n",
    "X_test_scaled = scaler.transform(X_test)"
   ]
  },
  {
   "cell_type": "code",
   "execution_count": 20,
   "id": "2e66f1ab",
   "metadata": {},
   "outputs": [
    {
     "data": {
      "text/plain": [
       "<keras.src.callbacks.History at 0x16edc0dd0>"
      ]
     },
     "execution_count": 20,
     "metadata": {},
     "output_type": "execute_result"
    }
   ],
   "source": [
    "# Crear el modelo para predecir puntos\n",
    "model_puntos = Sequential([\n",
    "    Dense(32, activation='relu', input_shape=(X_train.shape[1],)),\n",
    "    Dense(16, activation='relu'),\n",
    "    Dense(1, activation='linear')\n",
    "])\n",
    "\n",
    "model_puntos.compile(optimizer='adam', loss='mean_squared_error')\n",
    "\n",
    "# Entrenar el modelo para predecir puntos\n",
    "model_puntos.fit(X_train_scaled, y_puntos_train, epochs=50, batch_size=32, verbose=0)\n"
   ]
  },
  {
   "cell_type": "code",
   "execution_count": 21,
   "id": "e80f2106",
   "metadata": {},
   "outputs": [
    {
     "data": {
      "text/plain": [
       "<keras.src.callbacks.History at 0x16eefa090>"
      ]
     },
     "execution_count": 21,
     "metadata": {},
     "output_type": "execute_result"
    }
   ],
   "source": [
    "# Crear el modelo para predecir precio\n",
    "model_precio = Sequential([\n",
    "    Dense(32, activation='relu', input_shape=(X_train.shape[1],)),\n",
    "    Dense(16, activation='relu'),\n",
    "    Dense(1, activation='linear')\n",
    "])\n",
    "\n",
    "model_precio.compile(optimizer='adam', loss='mean_squared_error')\n",
    "\n",
    "# Entrenar el modelo para predecir precio\n",
    "model_precio.fit(X_train_scaled, y_precio_train, epochs=50, batch_size=32, verbose=0)\n"
   ]
  },
  {
   "cell_type": "code",
   "execution_count": 22,
   "id": "203b4820",
   "metadata": {},
   "outputs": [],
   "source": [
    "# Hacer predicciones para puntos y precio\n",
    "#puntos_predictions = model_puntos.predict(X_test_scaled)\n",
    "#precio_predictions = model_precio.predict(X_test_scaled)\n",
    "\n",
    "# Obtener el jugador con más puntos y el jugador con el precio más alto\n",
    "#indice_max_puntos = puntos_predictions.argmax()\n",
    "#indice_max_precio = precio_predictions.argmax()\n",
    "\n",
    "#jugador_mas_puntos = df.loc[indice_max_puntos, 'Nombre']\n",
    "#jugador_mas_precio = df.loc[indice_max_precio, 'Nombre']\n",
    "\n",
    "#print(f\"Jugador con más puntos predichos: {jugador_mas_puntos}\")\n",
    "#print(f\"Jugador con precio más alto predicho: {jugador_mas_precio}\")\n"
   ]
  },
  {
   "cell_type": "code",
   "execution_count": 23,
   "id": "014ec114",
   "metadata": {},
   "outputs": [
    {
     "name": "stdout",
     "output_type": "stream",
     "text": [
      "4/4 [==============================] - 0s 4ms/step\n",
      "4/4 [==============================] - 0s 3ms/step\n",
      "Top 10 jugadores con más puntos predichos:\n",
      "          Nombre  Total_puntos\n",
      "0  J. Bellingham           173\n",
      "1        T. Kubo           147\n",
      "2   A. Griezmann           144\n",
      "3    I. Williams           139\n",
      "4     B. Mayoral           138\n",
      "5      A. García           137\n",
      "6      A. Dovbyk           130\n",
      "7      Á. Valles           128\n",
      "8         Pepelu           127\n",
      "9     A. Budimir           127\n",
      "\n",
      "Top 10 jugadores con precios más altos predichos:\n",
      "            Nombre    Precio\n",
      "2     A. Griezmann  24384000\n",
      "0    J. Bellingham  24262000\n",
      "56  R. Lewandowski  20994000\n",
      "1          T. Kubo  20904000\n",
      "5        A. García  20771000\n",
      "18     F. Valverde  20115000\n",
      "10            Isco  19605000\n",
      "13         Rodrygo  19338000\n",
      "3      I. Williams  18358000\n",
      "22       G. Moreno  18341000\n"
     ]
    }
   ],
   "source": [
    "# Hacer predicciones para puntos y precio\n",
    "puntos_predictions = model_puntos.predict(X_test_scaled)\n",
    "precio_predictions = model_precio.predict(X_test_scaled)\n",
    "\n",
    "# Obtener los 10 jugadores con más puntos predichos\n",
    "top_10_jugadores_puntos = df.nlargest(10, 'Total_puntos')\n",
    "\n",
    "# Obtener los 10 jugadores con los precios más altos predichos\n",
    "top_10_jugadores_precio = df.nlargest(10, 'Precio')\n",
    "\n",
    "print(\"Top 10 jugadores con más puntos predichos:\")\n",
    "print(top_10_jugadores_puntos[['Nombre', 'Total_puntos']])\n",
    "\n",
    "print(\"\\nTop 10 jugadores con precios más altos predichos:\")\n",
    "print(top_10_jugadores_precio[['Nombre', 'Precio']])\n",
    "\n"
   ]
  },
  {
   "cell_type": "code",
   "execution_count": 24,
   "id": "ef6730ec",
   "metadata": {},
   "outputs": [
    {
     "name": "stdout",
     "output_type": "stream",
     "text": [
      "4/4 [==============================] - 0s 4ms/step\n",
      "4/4 [==============================] - 0s 2ms/step\n",
      "MSE para puntos: 407.87\n",
      "R^2 para puntos: 0.68\n",
      "MSE para precio: 58077615067297.45\n",
      "R^2 para precio: -0.59\n"
     ]
    }
   ],
   "source": [
    "# Hacer predicciones para puntos y precio\n",
    "puntos_predictions = model_puntos.predict(X_test_scaled)\n",
    "precio_predictions = model_precio.predict(X_test_scaled)\n",
    "\n",
    "# Calcular el Error Cuadrático Medio (MSE) para puntos y precio\n",
    "mse_puntos = mean_squared_error(y_puntos_test, puntos_predictions)\n",
    "mse_precio = mean_squared_error(y_precio_test, precio_predictions)\n",
    "\n",
    "# Calcular el coeficiente de determinación (R^2) para puntos y precio\n",
    "r2_puntos = r2_score(y_puntos_test, puntos_predictions)\n",
    "r2_precio = r2_score(y_precio_test, precio_predictions)\n",
    "\n",
    "print(f\"MSE para puntos: {mse_puntos:.2f}\")\n",
    "print(f\"R^2 para puntos: {r2_puntos:.2f}\")\n",
    "\n",
    "print(f\"MSE para precio: {mse_precio:.2f}\")\n",
    "print(f\"R^2 para precio: {r2_precio:.2f}\")\n"
   ]
  },
  {
   "cell_type": "code",
   "execution_count": 25,
   "id": "c11e2166",
   "metadata": {},
   "outputs": [],
   "source": [
    "# Crear un DataFrame con las predicciones\n",
    "# Obtener los 10 jugadores con las predicciones más altas de puntos\n",
    "top_10_puntos_predictions = pd.DataFrame({\n",
    "    'Nombre': df.iloc[X_test.index]['Nombre'],  # Recuperar los nombres de los jugadores\n",
    "    'posicion': df.iloc[X_test.index]['posicion'],   # Utilizar la posición de los jugadores\n",
    "    'Predicciones_Puntos': puntos_predictions.flatten(),  # Aplanar el array de predicciones\n",
    "    'Predicciones_Precio': precio_predictions.flatten()  # Aplanar el array de predicciones\n",
    "})\n",
    "\n",
    "# Ordenar el DataFrame por Predicciones_Puntos en orden descendente\n",
    "top_10_puntos_predictions = top_10_puntos_predictions.sort_values(by='Predicciones_Puntos', ascending=False)\n",
    "\n",
    "# Tomar solo las primeras 10 filas (los 10 jugadores con las predicciones más altas)\n",
    "top_10_puntos_predictions = top_10_puntos_predictions.head(10)\n",
    "\n",
    "# Guardar el DataFrame en un archivo CSV\n",
    "top_10_puntos_predictions.to_csv('top_10_predicciones_puntos.csv', index=False)\n"
   ]
  },
  {
   "cell_type": "code",
   "execution_count": 26,
   "id": "a1470ad7",
   "metadata": {},
   "outputs": [
    {
     "data": {
      "text/html": [
       "<div>\n",
       "<style scoped>\n",
       "    .dataframe tbody tr th:only-of-type {\n",
       "        vertical-align: middle;\n",
       "    }\n",
       "\n",
       "    .dataframe tbody tr th {\n",
       "        vertical-align: top;\n",
       "    }\n",
       "\n",
       "    .dataframe thead th {\n",
       "        text-align: right;\n",
       "    }\n",
       "</style>\n",
       "<table border=\"1\" class=\"dataframe\">\n",
       "  <thead>\n",
       "    <tr style=\"text-align: right;\">\n",
       "      <th></th>\n",
       "      <th>Nombre</th>\n",
       "      <th>posicion</th>\n",
       "      <th>Predicciones_Puntos</th>\n",
       "      <th>Predicciones_Precio</th>\n",
       "    </tr>\n",
       "  </thead>\n",
       "  <tbody>\n",
       "    <tr>\n",
       "      <th>0</th>\n",
       "      <td>J. Bellingham</td>\n",
       "      <td>mediocentro</td>\n",
       "      <td>197.907471</td>\n",
       "      <td>3899.967041</td>\n",
       "    </tr>\n",
       "    <tr>\n",
       "      <th>2</th>\n",
       "      <td>A. Griezmann</td>\n",
       "      <td>delantero</td>\n",
       "      <td>155.770462</td>\n",
       "      <td>3202.837402</td>\n",
       "    </tr>\n",
       "    <tr>\n",
       "      <th>399</th>\n",
       "      <td>M. Guiu</td>\n",
       "      <td>delantero</td>\n",
       "      <td>152.403488</td>\n",
       "      <td>2319.546631</td>\n",
       "    </tr>\n",
       "    <tr>\n",
       "      <th>10</th>\n",
       "      <td>Isco</td>\n",
       "      <td>mediocentro</td>\n",
       "      <td>133.678680</td>\n",
       "      <td>2682.386475</td>\n",
       "    </tr>\n",
       "    <tr>\n",
       "      <th>101</th>\n",
       "      <td>F. De Jong</td>\n",
       "      <td>mediocentro</td>\n",
       "      <td>124.002060</td>\n",
       "      <td>2458.850586</td>\n",
       "    </tr>\n",
       "    <tr>\n",
       "      <th>22</th>\n",
       "      <td>G. Moreno</td>\n",
       "      <td>delantero</td>\n",
       "      <td>122.427994</td>\n",
       "      <td>2452.021240</td>\n",
       "    </tr>\n",
       "    <tr>\n",
       "      <th>11</th>\n",
       "      <td>Sávio</td>\n",
       "      <td>delantero</td>\n",
       "      <td>121.653595</td>\n",
       "      <td>2428.758545</td>\n",
       "    </tr>\n",
       "    <tr>\n",
       "      <th>9</th>\n",
       "      <td>A. Budimir</td>\n",
       "      <td>delantero</td>\n",
       "      <td>118.907455</td>\n",
       "      <td>2305.810303</td>\n",
       "    </tr>\n",
       "    <tr>\n",
       "      <th>18</th>\n",
       "      <td>F. Valverde</td>\n",
       "      <td>mediocentro</td>\n",
       "      <td>114.826630</td>\n",
       "      <td>2367.407227</td>\n",
       "    </tr>\n",
       "    <tr>\n",
       "      <th>72</th>\n",
       "      <td>V. Muriqi</td>\n",
       "      <td>delantero</td>\n",
       "      <td>112.502014</td>\n",
       "      <td>2093.165039</td>\n",
       "    </tr>\n",
       "  </tbody>\n",
       "</table>\n",
       "</div>"
      ],
      "text/plain": [
       "            Nombre     posicion  Predicciones_Puntos  Predicciones_Precio\n",
       "0    J. Bellingham  mediocentro           197.907471          3899.967041\n",
       "2     A. Griezmann    delantero           155.770462          3202.837402\n",
       "399        M. Guiu    delantero           152.403488          2319.546631\n",
       "10            Isco  mediocentro           133.678680          2682.386475\n",
       "101     F. De Jong  mediocentro           124.002060          2458.850586\n",
       "22       G. Moreno    delantero           122.427994          2452.021240\n",
       "11           Sávio    delantero           121.653595          2428.758545\n",
       "9       A. Budimir    delantero           118.907455          2305.810303\n",
       "18     F. Valverde  mediocentro           114.826630          2367.407227\n",
       "72       V. Muriqi    delantero           112.502014          2093.165039"
      ]
     },
     "execution_count": 26,
     "metadata": {},
     "output_type": "execute_result"
    }
   ],
   "source": [
    "top_10_puntos_predictions"
   ]
  },
  {
   "cell_type": "code",
   "execution_count": 27,
   "id": "2d45cae9",
   "metadata": {},
   "outputs": [],
   "source": [
    "# Guardar las predicciones en un archivo CSV\n",
    "#predicciones_df.to_csv('predicciones.csv', index=False)"
   ]
  },
  {
   "cell_type": "code",
   "execution_count": 28,
   "id": "2f2a6830",
   "metadata": {},
   "outputs": [],
   "source": [
    "#joblib.dump(model_puntos, 'redes_neuronales.pkl')"
   ]
  },
  {
   "cell_type": "code",
   "execution_count": 29,
   "id": "814da5be",
   "metadata": {},
   "outputs": [],
   "source": [
    "####"
   ]
  },
  {
   "cell_type": "code",
   "execution_count": null,
   "id": "c48000ed",
   "metadata": {},
   "outputs": [],
   "source": []
  }
 ],
 "metadata": {
  "kernelspec": {
   "display_name": "Python 3 (ipykernel)",
   "language": "python",
   "name": "python3"
  },
  "language_info": {
   "codemirror_mode": {
    "name": "ipython",
    "version": 3
   },
   "file_extension": ".py",
   "mimetype": "text/x-python",
   "name": "python",
   "nbconvert_exporter": "python",
   "pygments_lexer": "ipython3",
   "version": "3.11.5"
  }
 },
 "nbformat": 4,
 "nbformat_minor": 5
}
