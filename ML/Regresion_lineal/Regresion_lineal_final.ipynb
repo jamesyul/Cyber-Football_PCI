{
 "cells": [
  {
   "cell_type": "code",
   "execution_count": 5,
   "id": "d988d605",
   "metadata": {},
   "outputs": [],
   "source": [
    "#imports\n",
    "import pandas as pd\n",
    "from sklearn.model_selection import train_test_split\n",
    "from sklearn.linear_model import LinearRegression\n",
    "from sklearn.metrics import mean_squared_error, r2_score\n",
    "#ruta al CSV con los jugadores\n",
    "ruta_archivo = \"jugadores_fantasy_migate.csv\"\n",
    "df = pd.read_csv(ruta_archivo)"
   ]
  },
  {
   "cell_type": "code",
   "execution_count": 6,
   "id": "ee58e29b",
   "metadata": {},
   "outputs": [
    {
     "name": "stdout",
     "output_type": "stream",
     "text": [
      "Predicción de puntos\n",
      "Error Cuadrático Medio (MSE): 207.72377527805668\n",
      "Coeficiente de Determinación (R²): 0.8530335965369809\n",
      "Los CSV con los top 10 jugadores por posición y en general han sido guardados con el formato deseado.\n"
     ]
    }
   ],
   "source": [
    "# Variables objetivo y características\n",
    "X_puntos = df[['Media', 'Partidos', 'Minutos', 'Goles','Asistencias','Asistencias sin Gol','Despejes','Remates','Tiros','Recuperaciones','Perdidas','Penaltis fallados','Goles en contra','Rojas','Paradas','Penaltis cometidos','Amarillas','Seguna Amarilla','Penaltis provocados','Penaltis parados','Goles en PP']]\n",
    "y_puntos = df['Total_puntos']\n",
    "\n",
    "# División en conjuntos de entrenamiento y prueba\n",
    "X_train_p, X_test_p, y_train_p, y_test_p = train_test_split(X_puntos, y_puntos, test_size=0.2, random_state=42)\n",
    "\n",
    "# Modelo de regresión lineal\n",
    "modelo_puntos = LinearRegression()\n",
    "\n",
    "# Entrenamiento\n",
    "modelo_puntos.fit(X_train_p, y_train_p)\n",
    "\n",
    "# Prueba\n",
    "y_pred_p = modelo_puntos.predict(X_test_p)\n",
    "\n",
    "# Evaluaciones\n",
    "mse_p = mean_squared_error(y_test_p, y_pred_p)\n",
    "r2_p = r2_score(y_test_p, y_pred_p)\n",
    "\n",
    "print(\"Predicción de puntos\")\n",
    "print(\"Error Cuadrático Medio (MSE):\", mse_p)\n",
    "print(\"Coeficiente de Determinación (R²):\", r2_p)\n",
    "\n",
    "# Aplicar modelo a todo el df\n",
    "df['puntos_predichos'] = modelo_puntos.predict(X_puntos)\n",
    "\n",
    "# Redondear puntos_predichos a enteros\n",
    "df['puntos_predichos'] = df['puntos_predichos'].round(0).astype(int)\n",
    "\n",
    "# Modificar la parte de guardar los CSV\n",
    "posiciones = ['delantero', 'mediocentro', 'defensa', 'portero', 'general']\n",
    "ruta_guardado = \"/Users/yulcardenas/Desktop/2023_24/PCI_EXTRA/Cyber-Football_PCI/ML/Regresion_lineal/jugadores_top_{}_puntos_predicciones.csv\"\n",
    "\n",
    "for posicion in posiciones:\n",
    "    if posicion == 'general':\n",
    "        top_jugadores = df.nlargest(10, 'puntos_predichos')\n",
    "    else:\n",
    "        top_jugadores = df[df['posicion'] == posicion].nlargest(10, 'puntos_predichos')\n",
    "    \n",
    "    # Seleccionar y renombrar las columnas deseadas\n",
    "    resultado = top_jugadores[['Nombre', 'puntos_predichos', 'posicion', 'Precio']]\n",
    "    resultado = resultado.rename(columns={\n",
    "        'puntos_predichos': 'Puntos',\n",
    "        'posicion': 'Posicion',\n",
    "        'Precio': 'Precio'\n",
    "    })\n",
    "    \n",
    "    # Guardar el CSV con las columnas seleccionadas\n",
    "    resultado.to_csv(ruta_guardado.format(posicion), index=False)\n",
    "\n",
    "print(\"Los CSV con los top 10 jugadores por posición y en general han sido guardados con el formato deseado.\")"
   ]
  },
  {
   "cell_type": "code",
   "execution_count": null,
   "id": "861b0d97",
   "metadata": {},
   "outputs": [],
   "source": []
  }
 ],
 "metadata": {
  "kernelspec": {
   "display_name": "Python 3 (ipykernel)",
   "language": "python",
   "name": "python3"
  },
  "language_info": {
   "codemirror_mode": {
    "name": "ipython",
    "version": 3
   },
   "file_extension": ".py",
   "mimetype": "text/x-python",
   "name": "python",
   "nbconvert_exporter": "python",
   "pygments_lexer": "ipython3",
   "version": "3.12.4"
  }
 },
 "nbformat": 4,
 "nbformat_minor": 5
}
