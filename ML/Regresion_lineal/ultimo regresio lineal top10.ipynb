{
 "cells": [
  {
   "cell_type": "code",
   "execution_count": 1,
   "id": "d988d605",
   "metadata": {},
   "outputs": [],
   "source": [
    "#imports\n",
    "import pandas as pd\n",
    "from sklearn.model_selection import train_test_split\n",
    "from sklearn.linear_model import LinearRegression\n",
    "from sklearn.metrics import mean_squared_error, r2_score\n",
    "#ruta al CSV con los jugadores\n",
    "ruta_archivo = \"C:/Users/34633/Desktop/jugadores_fantasy.csv.csv\"\n",
    "df = pd.read_csv(ruta_archivo)"
   ]
  },
  {
   "cell_type": "code",
   "execution_count": 2,
   "id": "4854503c",
   "metadata": {},
   "outputs": [
    {
     "name": "stdout",
     "output_type": "stream",
     "text": [
      "Prediccion de puntos\n",
      "Error Cuadrático Medio (MSE): 293.4719686172824\n",
      "Coeficiente de Determinación (R²): 0.7680458767776827\n",
      "Los CSV con los top 10 jugadores por posición han sido guardados.\n"
     ]
    }
   ],
   "source": [
    "#Regresion lineal para predecir los Puntos\n",
    "\n",
    "#variable objetivos y carateristicas\n",
    "X_puntos = df.drop(['Total_puntos', 'Nombre', 'equipo', 'posicion'], axis=1)  \n",
    "y_puntos = df['Total_puntos']  \n",
    "\n",
    "#entrenamiento y prueba\n",
    "X_train_p, X_test_p, y_train_p, y_test_p = train_test_split(X_puntos, y_puntos, test_size=0.2, random_state=42)\n",
    "\n",
    "#modelo de regresión lineal\n",
    "modelo_puntos = LinearRegression()\n",
    "\n",
    "#training\n",
    "modelo_puntos.fit(X_train_p, y_train_p)\n",
    "\n",
    "#test\n",
    "y_pred_p = modelo_puntos.predict(X_test_p)\n",
    "\n",
    "#evaluaciones\n",
    "mse_p = mean_squared_error(y_test_p, y_pred_p)\n",
    "r2_p = r2_score(y_test_p, y_pred_p)\n",
    "\n",
    "print(\"Prediccion de puntos\")\n",
    "print(\"Error Cuadrático Medio (MSE):\", mse_p)\n",
    "print(\"Coeficiente de Determinación (R²):\", r2_p)\n",
    "\n",
    "#aplicar modelo a todo el df\n",
    "df['puntos_predichos'] = modelo_puntos.predict(X_puntos)\n",
    "\n",
    "posiciones = ['delantero', 'centrocampista', 'defensa', 'portero']\n",
    "ruta_guardado = \"C:/Users/34633/Desktop/jugadores_top_{}_puntos_predicciones.csv\"\n",
    "\n",
    "for posicion in posiciones:\n",
    "    top_jugadores = df[df['posicion'] == posicion].nlargest(10, 'puntos_predichos')\n",
    "    top_jugadores.to_csv(ruta_guardado.format(posicion), index=False)\n",
    "\n",
    "print(\"Los CSV con los top 10 jugadores por posición han sido guardados.\")\n"
   ]
  },
  {
   "cell_type": "code",
   "execution_count": 3,
   "id": "639f346b",
   "metadata": {},
   "outputs": [
    {
     "name": "stdout",
     "output_type": "stream",
     "text": [
      "Modelo para predecir precio\n",
      "Error Cuadrático Medio (MSE): 1.4336600062117485e-17\n",
      "Coeficiente de Determinación (R²): 1.0\n",
      "Los CSV con los top 10 jugadores por posición han sido guardados.\n"
     ]
    }
   ],
   "source": [
    "# Asume que 'Precio' es tu variable objetivo y el resto son características\n",
    "X_precio = df.drop(['Precio', 'Nombre', 'equipo', 'posicion', 'Total_puntos'], axis=1)  # Características\n",
    "y_precio = df['Precio']  # Variable objetivo\n",
    "\n",
    "# Dividir los datos en entrenamiento y prueba\n",
    "X_train_pr, X_test_pr, y_train_pr, y_test_pr = train_test_split(X_precio, y_precio, test_size=0.2, random_state=42)\n",
    "\n",
    "# Crear el modelo de regresión lineal\n",
    "modelo_precio = LinearRegression()\n",
    "\n",
    "# Entrenar el modelo\n",
    "modelo_precio.fit(X_train_pr, y_train_pr)\n",
    "\n",
    "# Hacer predicciones en el conjunto de prueba\n",
    "y_pred_pr = modelo_precio.predict(X_test_pr)\n",
    "\n",
    "# Evaluar el modelo\n",
    "mse_pr = mean_squared_error(y_test_pr, y_pred_pr)\n",
    "r2_pr = r2_score(y_test_pr, y_pred_pr)\n",
    "\n",
    "print(\"Modelo para predecir precio\")\n",
    "print(\"Error Cuadrático Medio (MSE):\", mse_pr)\n",
    "print(\"Coeficiente de Determinación (R²):\", r2_pr)\n",
    "\n",
    "# Realizar las predicciones para todo el DataFrame\n",
    "df['precio_predicho'] = modelo_precio.predict(X_precio)\n",
    "\n",
    "# Filtrar por posición y guardar CSVs\n",
    "posiciones = ['delantero', 'centrocampista', 'defensa', 'portero']\n",
    "ruta_guardado = \"C:/Users/34633/Desktop/jugadores_top_{}_precio_predicciones.csv\"\n",
    "\n",
    "for posicion in posiciones:\n",
    "    top_jugadores = df[df['posicion'] == posicion].nlargest(10, 'precio_predicho')\n",
    "    top_jugadores['precio_predicho'] = top_jugadores['precio_predicho'].apply(lambda x: f\"{x:,.2f} €\")\n",
    "    top_jugadores.to_csv(ruta_guardado.format(posicion), index=False)\n",
    "\n",
    "print(\"Los CSV con los top 10 jugadores por posición han sido guardados.\")\n"
   ]
  },
  {
   "cell_type": "code",
   "execution_count": null,
   "id": "6b6af899",
   "metadata": {},
   "outputs": [],
   "source": [
    "# Ordenar los jugadores por precio predicho y seleccionar los 10 primeros\n",
    "jugadores_top_precio = df.nlargest(10, 'precio_predicho')[['Nombre', 'precio_predicho', 'Total_puntos', 'equipo', 'posicion']]\n",
    "\n",
    "# Formatear la columna precio_predicho para añadir el símbolo del euro\n",
    "jugadores_top_precio['precio_predicho'] = jugadores_top_precio['precio_predicho'].apply(lambda x: f\"{x:,.2f} €\")\n",
    "\n",
    "# Guardar los resultados en un archivo CSV\n",
    "ruta_guardado_precio = \"C:/Users/34633/Desktop/jugadores_top_precio_predicciones.csv\"\n",
    "jugadores_top_precio.to_csv(ruta_guardado_precio, index=False)\n",
    "\n",
    "print(\"Los 10 jugadores con el precio predicho más alto son:\")\n",
    "print(jugadores_top_precio[['Nombre', 'precio_predicho']])\n"
   ]
  }
 ],
 "metadata": {
  "kernelspec": {
   "display_name": "Python 3 (ipykernel)",
   "language": "python",
   "name": "python3"
  },
  "language_info": {
   "codemirror_mode": {
    "name": "ipython",
    "version": 3
   },
   "file_extension": ".py",
   "mimetype": "text/x-python",
   "name": "python",
   "nbconvert_exporter": "python",
   "pygments_lexer": "ipython3",
   "version": "3.11.4"
  }
 },
 "nbformat": 4,
 "nbformat_minor": 5
}
