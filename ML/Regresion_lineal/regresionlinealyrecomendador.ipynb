{
 "cells": [
  {
   "cell_type": "code",
   "execution_count": null,
   "id": "53e39f69",
   "metadata": {},
   "outputs": [],
   "source": [
    "import pandas as pd\n",
    "from sklearn.model_selection import train_test_split\n",
    "from sklearn.linear_model import LinearRegression\n",
    "from sklearn.tree import DecisionTreeRegressor\n",
    "from sklearn.metrics import mean_squared_error, r2_score\n",
    "\n",
    "# Cargar datos\n",
    "df = pd.read_csv(\"C:/Users/34633/Desktop/juadores_fantasy.csv.csv\")\n",
    "# Preparar los datos (asumiendo que 'puntos' es tu variable objetivo)\n",
    "X = df.drop(['Total_puntos','Nombre','posicion','equipo'], axis=1)  # características\n",
    "y = df['Total_puntos']  # variable objetivo\n",
    "\n",
    "# Dividir los datos\n",
    "X_train, X_test, y_train, y_test = train_test_split(X, y, test_size=0.2, random_state=42)\n",
    "\n",
    "# Inicializar y entrenar el modelo de regresión lineal\n",
    "modelo = LinearRegression()\n",
    "modelo.fit(X_train, y_train)\n",
    "\n",
    "# Realizar predicciones y evaluar\n",
    "predicciones_lineal = modelo.predict(X_test)\n",
    "print(\"Regresión Lineal - MSE:\", mean_squared_error(y_test, predicciones_lineal))\n",
    "print(\"Regresión Lineal - R²:\", r2_score(y_test, predicciones_lineal))\n",
    "\n",
    "def predecir_puntos(nombre_jugador):\n",
    "    jugador = df[df['Nombre'] == nombre_jugador]  # Reemplaza 'nombre' con el nombre de la columna de nombres de jugadores\n",
    "    if jugador.empty:\n",
    "        return \"Jugador no encontrado.\"\n",
    "    \n",
    "    caracteristicas_jugador = jugador[['Precio', 'Media']]\n",
    "    puntos_predichos = modelo.predict(caracteristicas_jugador)\n",
    "    posicion_jugador = jugador['posicion'].iloc[0]\n",
    "    precio_jugador = jugador['Precio'].iloc[0]\n",
    "    \n",
    "    return nombre_jugador, puntos_predichos[0], posicion_jugador, precio_jugador\n",
    "\n",
    "\n",
    "nombre_jugador = input(\"Introduce el nombre del jugador para predecir sus puntos: \")\n",
    "nombre_jugador, puntos_predichos, posicion_jugador, precio_jugador = predecir_puntos(nombre_jugador)\n",
    "\n"
   ]
  },
  {
   "cell_type": "code",
   "execution_count": null,
   "id": "d52a45d9",
   "metadata": {},
   "outputs": [],
   "source": [
    "predicciones_df = pd.DataFrame(columns=['Nombre', 'Puntos_Predichos', 'Posicion', 'Precio'])\n",
    "\n",
    "nombre_jugador, puntos_predichos, posicion_jugador, precio_jugador  = predecir_puntos(nombre_jugador)\n",
    "predicciones_df = predicciones_df.append({'Nombre': nombre_jugador, 'Puntos_Predichos': puntos_predichos, 'Posicion': posicion_jugador, 'Precio': precio_jugador}, ignore_index=True)\n",
    "\n",
    "predicciones_df.to_csv(\"predicciones_jugadores_RL.csv\", index=False)\n"
   ]
  }
 ],
 "metadata": {
  "kernelspec": {
   "display_name": "Python 3 (ipykernel)",
   "language": "python",
   "name": "python3"
  },
  "language_info": {
   "codemirror_mode": {
    "name": "ipython",
    "version": 3
   },
   "file_extension": ".py",
   "mimetype": "text/x-python",
   "name": "python",
   "nbconvert_exporter": "python",
   "pygments_lexer": "ipython3",
   "version": "3.11.4"
  }
 },
 "nbformat": 4,
 "nbformat_minor": 5
}
