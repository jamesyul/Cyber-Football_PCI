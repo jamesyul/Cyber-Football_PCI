{
 "cells": [
  {
   "cell_type": "code",
   "execution_count": 10,
   "id": "0a8792f2",
   "metadata": {},
   "outputs": [
    {
     "name": "stdout",
     "output_type": "stream",
     "text": [
      "Regresión Lineal - MSE: 293.4719686172824\n",
      "Regresión Lineal - R²: 0.7680458767776827\n",
      "Introduce el nombre del jugador para predecir sus puntos: J. Bellingham\n",
      "Puntos predichos para J. Bellingham: 176.2516480183629\n"
     ]
    }
   ],
   "source": [
    "import pandas as pd\n",
    "from sklearn.model_selection import train_test_split\n",
    "from sklearn.linear_model import LinearRegression\n",
    "from sklearn.tree import DecisionTreeRegressor\n",
    "from sklearn.metrics import mean_squared_error, r2_score\n",
    "\n",
    "# Cargar datos\n",
    "df = pd.read_csv(\"C:/Users/34633/Desktop/juadores_fantasy.csv.csv\")\n",
    "# Preparar los datos (asumiendo que 'puntos' es tu variable objetivo)\n",
    "X = df.drop(['Total_puntos','Nombre','posicion','equipo'], axis=1)  # características\n",
    "y = df['Total_puntos']  # variable objetivo\n",
    "\n",
    "# Dividir los datos\n",
    "X_train, X_test, y_train, y_test = train_test_split(X, y, test_size=0.2, random_state=42)\n",
    "\n",
    "# Inicializar y entrenar el modelo de regresión lineal\n",
    "modelo_lineal = LinearRegression()\n",
    "modelo_lineal.fit(X_train, y_train)\n",
    "\n",
    "# Realizar predicciones y evaluar\n",
    "predicciones_lineal = modelo_lineal.predict(X_test)\n",
    "print(\"Regresión Lineal - MSE:\", mean_squared_error(y_test, predicciones_lineal))\n",
    "print(\"Regresión Lineal - R²:\", r2_score(y_test, predicciones_lineal))\n",
    "\n",
    "def predecir_puntos(nombre_jugador):\n",
    "    jugador = df[df['Nombre'] == nombre_jugador]  # Reemplaza 'nombre' con el nombre de la columna de nombres de jugadores\n",
    "    if jugador.empty:\n",
    "        return \"Jugador no encontrado.\"\n",
    "    \n",
    "    caracteristicas_jugador = jugador[['Precio', 'Media']]\n",
    "    puntos_predichos = modelo.predict(caracteristicas_jugador)\n",
    "    return puntos_predichos[0]\n",
    "nombre_jugador = input(\"Introduce el nombre del jugador para predecir sus puntos: \")\n",
    "puntos_predichos = predecir_puntos(nombre_jugador)\n",
    "print(f\"Puntos predichos para {nombre_jugador}: {puntos_predichos}\")"
   ]
  },
  {
   "cell_type": "code",
   "execution_count": null,
   "id": "53e39f69",
   "metadata": {},
   "outputs": [
    {
     "name": "stdout",
     "output_type": "stream",
     "text": [
      "Regresión Lineal - MSE: 293.4719686172824\n",
      "Regresión Lineal - R²: 0.7680458767776827\n"
     ]
    }
   ],
   "source": [
    "import pandas as pd\n",
    "from sklearn.model_selection import train_test_split\n",
    "from sklearn.linear_model import LinearRegression\n",
    "from sklearn.tree import DecisionTreeRegressor\n",
    "from sklearn.metrics import mean_squared_error, r2_score\n",
    "\n",
    "# Cargar datos\n",
    "df = pd.read_csv(\"C:/Users/34633/Desktop/juadores_fantasy.csv.csv\")\n",
    "# Preparar los datos (asumiendo que 'puntos' es tu variable objetivo)\n",
    "X = df.drop(['Total_puntos','Nombre','posicion','equipo'], axis=1)  # características\n",
    "y = df['Total_puntos']  # variable objetivo\n",
    "\n",
    "# Dividir los datos\n",
    "X_train, X_test, y_train, y_test = train_test_split(X, y, test_size=0.2, random_state=42)\n",
    "\n",
    "# Inicializar y entrenar el modelo de regresión lineal\n",
    "modelo = LinearRegression()\n",
    "modelo.fit(X_train, y_train)\n",
    "\n",
    "# Realizar predicciones y evaluar\n",
    "predicciones_lineal = modelo_lineal.predict(X_test)\n",
    "print(\"Regresión Lineal - MSE:\", mean_squared_error(y_test, predicciones_lineal))\n",
    "print(\"Regresión Lineal - R²:\", r2_score(y_test, predicciones_lineal))\n",
    "\n",
    "def encontrar_jugador_top(posicion, precio_maximo):\n",
    "    # Filtra el DataFrame por posición y precio\n",
    "    jugadores_filtrados = df[(df['posicion'] == posicion) & (df['Precio'] <= precio_maximo)]\n",
    "\n",
    "    if jugadores_filtrados.empty:\n",
    "        return \"No se encontraron jugadores que cumplan con los criterios.\"\n",
    "\n",
    "    # Encuentra al jugador con más puntos\n",
    "    jugador_top = jugadores_filtrados.loc[jugadores_filtrados['Total_puntos'].idxmax()]\n",
    "\n",
    "    return jugador_top['Nombre'], jugador_top['Total_puntos']\n",
    "\n",
    "# Pedir información al usuario\n",
    "posicion = input(\"Introduce la posición deseada: \")\n",
    "precio_maximo = float(input(\"Introduce el precio máximo: \"))\n",
    "\n",
    "# Llamar a la función con los parámetros del usuario\n",
    "nombre_jugador, puntos = encontrar_jugador_top(posicion, precio_maximo)\n",
    "print(f\"El jugador con más puntos en la posición '{posicion}' y con un precio máximo de {precio_maximo} es {nombre_jugador} con {puntos} puntos.\")"
   ]
  },
  {
   "cell_type": "code",
   "execution_count": null,
   "id": "d52a45d9",
   "metadata": {},
   "outputs": [],
   "source": []
  }
 ],
 "metadata": {
  "kernelspec": {
   "display_name": "Python 3 (ipykernel)",
   "language": "python",
   "name": "python3"
  },
  "language_info": {
   "codemirror_mode": {
    "name": "ipython",
    "version": 3
   },
   "file_extension": ".py",
   "mimetype": "text/x-python",
   "name": "python",
   "nbconvert_exporter": "python",
   "pygments_lexer": "ipython3",
   "version": "3.11.4"
  }
 },
 "nbformat": 4,
 "nbformat_minor": 5
}
