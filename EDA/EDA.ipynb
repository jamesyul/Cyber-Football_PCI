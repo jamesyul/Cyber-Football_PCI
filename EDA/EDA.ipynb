{
 "cells": [
  {
   "cell_type": "markdown",
   "metadata": {},
   "source": [
    "Exploración de Datos - Mr Fantasy"
   ]
  },
  {
   "cell_type": "code",
   "execution_count": 21,
   "metadata": {},
   "outputs": [],
   "source": [
    "import pandas as pd\n",
    "import matplotlib.pyplot as plt\n",
    "import seaborn as sns\n",
    "import numpy as np"
   ]
  },
  {
   "cell_type": "markdown",
   "metadata": {},
   "source": [
    "Carga y examinación de datos"
   ]
  },
  {
   "cell_type": "code",
   "execution_count": 3,
   "metadata": {},
   "outputs": [],
   "source": [
    "df = pd.read_csv('jugadores_fantasy_ultrainstinto.csv')"
   ]
  },
  {
   "cell_type": "code",
   "execution_count": 5,
   "metadata": {},
   "outputs": [
    {
     "name": "stdout",
     "output_type": "stream",
     "text": [
      "<class 'pandas.core.frame.DataFrame'>\n",
      "RangeIndex: 506 entries, 0 to 505\n",
      "Data columns (total 27 columns):\n",
      " #   Column               Non-Null Count  Dtype  \n",
      "---  ------               --------------  -----  \n",
      " 0   Nombre               506 non-null    object \n",
      " 1   Precio               506 non-null    int64  \n",
      " 2   Media                506 non-null    float64\n",
      " 3   Total_puntos         506 non-null    int64  \n",
      " 4   posicion             506 non-null    object \n",
      " 5   equipo               506 non-null    object \n",
      " 6   Partidos             382 non-null    float64\n",
      " 7   Minutos              382 non-null    float64\n",
      " 8   Goles                382 non-null    float64\n",
      " 9   Asistencias          382 non-null    float64\n",
      " 10  Asistencias sin Gol  382 non-null    float64\n",
      " 11  Centros              382 non-null    float64\n",
      " 12  Despejes             382 non-null    float64\n",
      " 13  Remates              382 non-null    float64\n",
      " 14  Tiros                382 non-null    float64\n",
      " 15  Recuperaciones       382 non-null    float64\n",
      " 16  Perdidas             382 non-null    float64\n",
      " 17  Penaltis fallados    382 non-null    float64\n",
      " 18  Goles en contra      382 non-null    float64\n",
      " 19  Rojas                382 non-null    float64\n",
      " 20  Paradas              382 non-null    float64\n",
      " 21  Penaltis cometidos   382 non-null    float64\n",
      " 22  Amarillas            382 non-null    float64\n",
      " 23  Seguna Amarilla      382 non-null    float64\n",
      " 24  Penaltis provocados  382 non-null    float64\n",
      " 25  Penaltis parados     382 non-null    float64\n",
      " 26  Goles en PP          382 non-null    float64\n",
      "dtypes: float64(22), int64(2), object(3)\n",
      "memory usage: 106.9+ KB\n"
     ]
    }
   ],
   "source": [
    "df_head = df.head()\n",
    "df_info = df.info()"
   ]
  },
  {
   "cell_type": "code",
   "execution_count": 6,
   "metadata": {},
   "outputs": [
    {
     "data": {
      "text/plain": [
       "(          Nombre    Precio  Media  Total_puntos     posicion  \\\n",
       " 0  J. Bellingham  24262000   10.2           173  mediocentro   \n",
       " 1        T. Kubo  20904000    8.2           147  mediocentro   \n",
       " 2   A. Griezmann  24384000    7.6           144    delantero   \n",
       " 3    I. Williams  18358000    7.7           139    delantero   \n",
       " 4     B. Mayoral  16992000    7.3           138    delantero   \n",
       " \n",
       "                        equipo  Partidos  Minutos  Goles  Asistencias  ...  \\\n",
       " 0  Real Madrid Club de Fútbol      13.0   1025.0   11.0          2.0  ...   \n",
       " 1     Real Sociedad de Fútbol      14.0    970.0    5.0          2.0  ...   \n",
       " 2     Club Atlético de Madrid      13.0   1071.0    9.0          1.0  ...   \n",
       " 3               Athletic Club      15.0   1233.0    6.0          3.0  ...   \n",
       " 4       Getafe Club de Fútbol      14.0   1170.0    0.0          0.0  ...   \n",
       " \n",
       "    Penaltis fallados  Goles en contra  Rojas  Paradas  Penaltis cometidos  \\\n",
       " 0                0.0              8.0    0.0      0.0                 0.0   \n",
       " 1                0.0             12.0    0.0      0.0                 0.0   \n",
       " 2                0.0             11.0    0.0      0.0                 0.0   \n",
       " 3                0.0             16.0    0.0      0.0                 0.0   \n",
       " 4                0.0             17.0    0.0     46.0                 0.0   \n",
       " \n",
       "    Amarillas  Seguna Amarilla  Penaltis provocados  Penaltis parados  \\\n",
       " 0        1.0              0.0                  0.0               0.0   \n",
       " 1        0.0              0.0                  0.0               0.0   \n",
       " 2        3.0              0.0                  0.0               0.0   \n",
       " 3        2.0              0.0                  0.0               0.0   \n",
       " 4        2.0              0.0                  0.0               1.0   \n",
       " \n",
       "    Goles en PP  \n",
       " 0          0.0  \n",
       " 1          0.0  \n",
       " 2          0.0  \n",
       " 3          0.0  \n",
       " 4          0.0  \n",
       " \n",
       " [5 rows x 27 columns],\n",
       " None)"
      ]
     },
     "execution_count": 6,
     "metadata": {},
     "output_type": "execute_result"
    }
   ],
   "source": [
    "df_head, df_info"
   ]
  },
  {
   "cell_type": "markdown",
   "metadata": {},
   "source": [
    "Limpieza y preparación de datos"
   ]
  },
  {
   "cell_type": "code",
   "execution_count": 26,
   "metadata": {},
   "outputs": [
    {
     "name": "stdout",
     "output_type": "stream",
     "text": [
      "<class 'pandas.core.frame.DataFrame'>\n",
      "Index: 382 entries, 0 to 505\n",
      "Data columns (total 27 columns):\n",
      " #   Column               Non-Null Count  Dtype  \n",
      "---  ------               --------------  -----  \n",
      " 0   Nombre               382 non-null    object \n",
      " 1   Precio               382 non-null    int64  \n",
      " 2   Media                382 non-null    float64\n",
      " 3   Total_puntos         382 non-null    int64  \n",
      " 4   posicion             382 non-null    object \n",
      " 5   equipo               382 non-null    object \n",
      " 6   Partidos             382 non-null    float64\n",
      " 7   Minutos              382 non-null    float64\n",
      " 8   Goles                382 non-null    float64\n",
      " 9   Asistencias          382 non-null    float64\n",
      " 10  Asistencias sin Gol  382 non-null    float64\n",
      " 11  Centros              382 non-null    float64\n",
      " 12  Despejes             382 non-null    float64\n",
      " 13  Remates              382 non-null    float64\n",
      " 14  Tiros                382 non-null    float64\n",
      " 15  Recuperaciones       382 non-null    float64\n",
      " 16  Perdidas             382 non-null    float64\n",
      " 17  Penaltis fallados    382 non-null    float64\n",
      " 18  Goles en contra      382 non-null    float64\n",
      " 19  Rojas                382 non-null    float64\n",
      " 20  Paradas              382 non-null    float64\n",
      " 21  Penaltis cometidos   382 non-null    float64\n",
      " 22  Amarillas            382 non-null    float64\n",
      " 23  Seguna Amarilla      382 non-null    float64\n",
      " 24  Penaltis provocados  382 non-null    float64\n",
      " 25  Penaltis parados     382 non-null    float64\n",
      " 26  Goles en PP          382 non-null    float64\n",
      "dtypes: float64(22), int64(2), object(3)\n",
      "memory usage: 83.6+ KB\n",
      "None\n"
     ]
    }
   ],
   "source": [
    "df_cleaned = df.dropna()\n",
    "print(df_cleaned.info())"
   ]
  },
  {
   "cell_type": "markdown",
   "metadata": {},
   "source": [
    "Análisis estadistico descriptivo"
   ]
  },
  {
   "cell_type": "code",
   "execution_count": 27,
   "metadata": {},
   "outputs": [
    {
     "name": "stdout",
     "output_type": "stream",
     "text": [
      "             Precio       Media  Total_puntos    Partidos      Minutos  \\\n",
      "count  3.820000e+02  382.000000    382.000000  382.000000   382.000000   \n",
      "mean   4.620136e+06    3.677487     50.945026   11.910995   637.314136   \n",
      "std    5.535004e+06    1.545824     31.760168    2.645738   373.681726   \n",
      "min    1.600000e+05   -0.600000     -3.000000    0.000000     0.000000   \n",
      "25%    2.492500e+05    2.800000     28.250000   11.000000   342.500000   \n",
      "50%    1.833000e+06    3.500000     48.000000   13.000000   645.000000   \n",
      "75%    7.778000e+06    4.600000     71.750000   14.000000   946.750000   \n",
      "max    2.438400e+07   11.000000    173.000000   15.000000  1260.000000   \n",
      "\n",
      "            Goles  Asistencias  Asistencias sin Gol     Centros    Despejes  \\\n",
      "count  382.000000   382.000000           382.000000  382.000000  382.000000   \n",
      "mean     1.052356     0.764398             1.209424    4.636126   11.479058   \n",
      "std      1.698349     1.189186             1.649979    8.248506   13.203965   \n",
      "min      0.000000     0.000000             0.000000    0.000000    0.000000   \n",
      "25%      0.000000     0.000000             0.000000    0.000000    2.000000   \n",
      "50%      0.000000     0.000000             1.000000    1.000000    7.000000   \n",
      "75%      2.000000     1.000000             2.000000    5.000000   16.000000   \n",
      "max     11.000000     5.000000             9.000000   38.000000   76.000000   \n",
      "\n",
      "       ...  Penaltis fallados  Goles en contra       Rojas     Paradas  \\\n",
      "count  ...         382.000000       382.000000  382.000000  382.000000   \n",
      "mean   ...           0.018325         9.693717    0.047120    1.662304   \n",
      "std    ...           0.168922         6.439128    0.224204    7.448059   \n",
      "min    ...           0.000000         0.000000    0.000000    0.000000   \n",
      "25%    ...           0.000000         5.000000    0.000000    0.000000   \n",
      "50%    ...           0.000000         9.000000    0.000000    0.000000   \n",
      "75%    ...           0.000000        14.000000    0.000000    0.000000   \n",
      "max    ...           2.000000        33.000000    2.000000   55.000000   \n",
      "\n",
      "       Penaltis cometidos   Amarillas  Seguna Amarilla  Penaltis provocados  \\\n",
      "count          382.000000  382.000000       382.000000           382.000000   \n",
      "mean             0.123037    1.439791         0.026178             0.075916   \n",
      "std              0.352037    1.382412         0.159874             0.310779   \n",
      "min              0.000000    0.000000         0.000000             0.000000   \n",
      "25%              0.000000    0.000000         0.000000             0.000000   \n",
      "50%              0.000000    1.000000         0.000000             0.000000   \n",
      "75%              0.000000    2.000000         0.000000             0.000000   \n",
      "max              2.000000    6.000000         1.000000             2.000000   \n",
      "\n",
      "       Penaltis parados  Goles en PP  \n",
      "count        382.000000   382.000000  \n",
      "mean           0.013089     0.023560  \n",
      "std            0.113805     0.151873  \n",
      "min            0.000000     0.000000  \n",
      "25%            0.000000     0.000000  \n",
      "50%            0.000000     0.000000  \n",
      "75%            0.000000     0.000000  \n",
      "max            1.000000     1.000000  \n",
      "\n",
      "[8 rows x 24 columns]\n"
     ]
    }
   ],
   "source": [
    "print(df_cleaned.describe())"
   ]
  },
  {
   "cell_type": "markdown",
   "metadata": {},
   "source": [
    "Correlaciones"
   ]
  },
  {
   "cell_type": "code",
   "execution_count": 22,
   "metadata": {},
   "outputs": [],
   "source": [
    "df_cleaned_numeric = df_cleaned.select_dtypes(include=[np.number])"
   ]
  },
  {
   "cell_type": "code",
   "execution_count": 28,
   "metadata": {},
   "outputs": [],
   "source": [
    "correlaciones = df_cleaned_numeric.corr()"
   ]
  },
  {
   "cell_type": "markdown",
   "metadata": {},
   "source": [
    "Visualización de datos"
   ]
  },
  {
   "cell_type": "markdown",
   "metadata": {},
   "source": [
    "Distribución de variables numéricas clave"
   ]
  },
  {
   "cell_type": "code",
   "execution_count": 29,
   "metadata": {},
   "outputs": [
    {
     "data": {
      "text/plain": [
       "<Figure size 1500x1000 with 0 Axes>"
      ]
     },
     "metadata": {},
     "output_type": "display_data"
    }
   ],
   "source": [
    "plt.figure(figsize=(15, 10))\n",
    "df_cleaned[['Precio', 'Media', 'Total_puntos', 'Partidos']].hist(bins=30)\n",
    "plt.tight_layout()\n",
    "plt.savefig('distribucion_variables_clave.png')\n",
    "plt.close()"
   ]
  },
  {
   "cell_type": "markdown",
   "metadata": {},
   "source": [
    "Gráfico de barras para posiciones"
   ]
  },
  {
   "cell_type": "code",
   "execution_count": 30,
   "metadata": {},
   "outputs": [],
   "source": [
    "plt.figure(figsize=(10, 6))\n",
    "sns.countplot(x='posicion', data=df_cleaned)\n",
    "plt.title('Distribución de Jugadores por Posición')\n",
    "plt.savefig('distribucion_posiciones.png')\n",
    "plt.close()"
   ]
  },
  {
   "cell_type": "markdown",
   "metadata": {},
   "source": [
    "Relación entre Precio y Media"
   ]
  },
  {
   "cell_type": "code",
   "execution_count": 31,
   "metadata": {},
   "outputs": [],
   "source": [
    "plt.figure(figsize=(10, 6))\n",
    "sns.scatterplot(x='Precio', y='Media', data=df_cleaned, hue='posicion')\n",
    "plt.title('Relación entre Precio y Media por Posición')\n",
    "plt.savefig('precio_vs_media.png')\n",
    "plt.close()"
   ]
  },
  {
   "cell_type": "markdown",
   "metadata": {},
   "source": [
    "Boxplot de Precio por Posición"
   ]
  },
  {
   "cell_type": "code",
   "execution_count": 32,
   "metadata": {},
   "outputs": [],
   "source": [
    "plt.figure(figsize=(10, 6))\n",
    "sns.boxplot(x='posicion', y='Precio', data=df_cleaned)\n",
    "plt.title('Distribución de Precios por Posición')\n",
    "plt.savefig('precios_por_posicion.png')\n",
    "plt.close()"
   ]
  },
  {
   "cell_type": "markdown",
   "metadata": {},
   "source": [
    "Análisis bivariado"
   ]
  },
  {
   "cell_type": "markdown",
   "metadata": {},
   "source": [
    "Mapa de calor de correlaciones"
   ]
  },
  {
   "cell_type": "code",
   "execution_count": 33,
   "metadata": {},
   "outputs": [],
   "source": [
    "plt.figure(figsize=(20, 16))\n",
    "sns.heatmap(correlaciones, annot=True, cmap='coolwarm', linewidths=0.5)\n",
    "plt.title('Mapa de Calor de Correlaciones')\n",
    "plt.savefig('mapa_calor_correlaciones.png')\n",
    "plt.close()"
   ]
  },
  {
   "cell_type": "markdown",
   "metadata": {},
   "source": [
    "Scatter plot matriz para variables clave"
   ]
  },
  {
   "cell_type": "code",
   "execution_count": 34,
   "metadata": {},
   "outputs": [
    {
     "ename": "KeyError",
     "evalue": "'posicion'",
     "output_type": "error",
     "traceback": [
      "\u001b[0;31m---------------------------------------------------------------------------\u001b[0m",
      "\u001b[0;31mKeyError\u001b[0m                                  Traceback (most recent call last)",
      "File \u001b[0;32m~/Desktop/2023_24/PCI_EXTRA/Cyber-Football_PCI/env/lib/python3.12/site-packages/pandas/core/indexes/base.py:3805\u001b[0m, in \u001b[0;36mIndex.get_loc\u001b[0;34m(self, key)\u001b[0m\n\u001b[1;32m   3804\u001b[0m \u001b[38;5;28;01mtry\u001b[39;00m:\n\u001b[0;32m-> 3805\u001b[0m     \u001b[38;5;28;01mreturn\u001b[39;00m \u001b[38;5;28;43mself\u001b[39;49m\u001b[38;5;241;43m.\u001b[39;49m\u001b[43m_engine\u001b[49m\u001b[38;5;241;43m.\u001b[39;49m\u001b[43mget_loc\u001b[49m\u001b[43m(\u001b[49m\u001b[43mcasted_key\u001b[49m\u001b[43m)\u001b[49m\n\u001b[1;32m   3806\u001b[0m \u001b[38;5;28;01mexcept\u001b[39;00m \u001b[38;5;167;01mKeyError\u001b[39;00m \u001b[38;5;28;01mas\u001b[39;00m err:\n",
      "File \u001b[0;32mindex.pyx:167\u001b[0m, in \u001b[0;36mpandas._libs.index.IndexEngine.get_loc\u001b[0;34m()\u001b[0m\n",
      "File \u001b[0;32mindex.pyx:196\u001b[0m, in \u001b[0;36mpandas._libs.index.IndexEngine.get_loc\u001b[0;34m()\u001b[0m\n",
      "File \u001b[0;32mpandas/_libs/hashtable_class_helper.pxi:7081\u001b[0m, in \u001b[0;36mpandas._libs.hashtable.PyObjectHashTable.get_item\u001b[0;34m()\u001b[0m\n",
      "File \u001b[0;32mpandas/_libs/hashtable_class_helper.pxi:7089\u001b[0m, in \u001b[0;36mpandas._libs.hashtable.PyObjectHashTable.get_item\u001b[0;34m()\u001b[0m\n",
      "\u001b[0;31mKeyError\u001b[0m: 'posicion'",
      "\nThe above exception was the direct cause of the following exception:\n",
      "\u001b[0;31mKeyError\u001b[0m                                  Traceback (most recent call last)",
      "Cell \u001b[0;32mIn[34], line 1\u001b[0m\n\u001b[0;32m----> 1\u001b[0m \u001b[43msns\u001b[49m\u001b[38;5;241;43m.\u001b[39;49m\u001b[43mpairplot\u001b[49m\u001b[43m(\u001b[49m\u001b[43mdf_cleaned\u001b[49m\u001b[43m[\u001b[49m\u001b[43m[\u001b[49m\u001b[38;5;124;43m'\u001b[39;49m\u001b[38;5;124;43mPrecio\u001b[39;49m\u001b[38;5;124;43m'\u001b[39;49m\u001b[43m,\u001b[49m\u001b[43m \u001b[49m\u001b[38;5;124;43m'\u001b[39;49m\u001b[38;5;124;43mMedia\u001b[39;49m\u001b[38;5;124;43m'\u001b[39;49m\u001b[43m,\u001b[49m\u001b[43m \u001b[49m\u001b[38;5;124;43m'\u001b[39;49m\u001b[38;5;124;43mTotal_puntos\u001b[39;49m\u001b[38;5;124;43m'\u001b[39;49m\u001b[43m,\u001b[49m\u001b[43m \u001b[49m\u001b[38;5;124;43m'\u001b[39;49m\u001b[38;5;124;43mGoles\u001b[39;49m\u001b[38;5;124;43m'\u001b[39;49m\u001b[43m,\u001b[49m\u001b[43m \u001b[49m\u001b[38;5;124;43m'\u001b[39;49m\u001b[38;5;124;43mAsistencias\u001b[39;49m\u001b[38;5;124;43m'\u001b[39;49m\u001b[43m,\u001b[49m\u001b[43m \u001b[49m\u001b[38;5;124;43m'\u001b[39;49m\u001b[38;5;124;43mPartidos\u001b[39;49m\u001b[38;5;124;43m'\u001b[39;49m\u001b[43m]\u001b[49m\u001b[43m]\u001b[49m\u001b[43m,\u001b[49m\u001b[43m \u001b[49m\u001b[43mhue\u001b[49m\u001b[38;5;241;43m=\u001b[39;49m\u001b[38;5;124;43m'\u001b[39;49m\u001b[38;5;124;43mposicion\u001b[39;49m\u001b[38;5;124;43m'\u001b[39;49m\u001b[43m)\u001b[49m\n\u001b[1;32m      2\u001b[0m plt\u001b[38;5;241m.\u001b[39msavefig(\u001b[38;5;124m'\u001b[39m\u001b[38;5;124mscatter_plot_matriz.png\u001b[39m\u001b[38;5;124m'\u001b[39m)\n\u001b[1;32m      3\u001b[0m plt\u001b[38;5;241m.\u001b[39mclose()\n",
      "File \u001b[0;32m~/Desktop/2023_24/PCI_EXTRA/Cyber-Football_PCI/env/lib/python3.12/site-packages/seaborn/axisgrid.py:2119\u001b[0m, in \u001b[0;36mpairplot\u001b[0;34m(data, hue, hue_order, palette, vars, x_vars, y_vars, kind, diag_kind, markers, height, aspect, corner, dropna, plot_kws, diag_kws, grid_kws, size)\u001b[0m\n\u001b[1;32m   2117\u001b[0m \u001b[38;5;66;03m# Set up the PairGrid\u001b[39;00m\n\u001b[1;32m   2118\u001b[0m grid_kws\u001b[38;5;241m.\u001b[39msetdefault(\u001b[38;5;124m\"\u001b[39m\u001b[38;5;124mdiag_sharey\u001b[39m\u001b[38;5;124m\"\u001b[39m, diag_kind \u001b[38;5;241m==\u001b[39m \u001b[38;5;124m\"\u001b[39m\u001b[38;5;124mhist\u001b[39m\u001b[38;5;124m\"\u001b[39m)\n\u001b[0;32m-> 2119\u001b[0m grid \u001b[38;5;241m=\u001b[39m \u001b[43mPairGrid\u001b[49m\u001b[43m(\u001b[49m\u001b[43mdata\u001b[49m\u001b[43m,\u001b[49m\u001b[43m \u001b[49m\u001b[38;5;28;43mvars\u001b[39;49m\u001b[38;5;241;43m=\u001b[39;49m\u001b[38;5;28;43mvars\u001b[39;49m\u001b[43m,\u001b[49m\u001b[43m \u001b[49m\u001b[43mx_vars\u001b[49m\u001b[38;5;241;43m=\u001b[39;49m\u001b[43mx_vars\u001b[49m\u001b[43m,\u001b[49m\u001b[43m \u001b[49m\u001b[43my_vars\u001b[49m\u001b[38;5;241;43m=\u001b[39;49m\u001b[43my_vars\u001b[49m\u001b[43m,\u001b[49m\u001b[43m \u001b[49m\u001b[43mhue\u001b[49m\u001b[38;5;241;43m=\u001b[39;49m\u001b[43mhue\u001b[49m\u001b[43m,\u001b[49m\n\u001b[1;32m   2120\u001b[0m \u001b[43m                \u001b[49m\u001b[43mhue_order\u001b[49m\u001b[38;5;241;43m=\u001b[39;49m\u001b[43mhue_order\u001b[49m\u001b[43m,\u001b[49m\u001b[43m \u001b[49m\u001b[43mpalette\u001b[49m\u001b[38;5;241;43m=\u001b[39;49m\u001b[43mpalette\u001b[49m\u001b[43m,\u001b[49m\u001b[43m \u001b[49m\u001b[43mcorner\u001b[49m\u001b[38;5;241;43m=\u001b[39;49m\u001b[43mcorner\u001b[49m\u001b[43m,\u001b[49m\n\u001b[1;32m   2121\u001b[0m \u001b[43m                \u001b[49m\u001b[43mheight\u001b[49m\u001b[38;5;241;43m=\u001b[39;49m\u001b[43mheight\u001b[49m\u001b[43m,\u001b[49m\u001b[43m \u001b[49m\u001b[43maspect\u001b[49m\u001b[38;5;241;43m=\u001b[39;49m\u001b[43maspect\u001b[49m\u001b[43m,\u001b[49m\u001b[43m \u001b[49m\u001b[43mdropna\u001b[49m\u001b[38;5;241;43m=\u001b[39;49m\u001b[43mdropna\u001b[49m\u001b[43m,\u001b[49m\u001b[43m \u001b[49m\u001b[38;5;241;43m*\u001b[39;49m\u001b[38;5;241;43m*\u001b[39;49m\u001b[43mgrid_kws\u001b[49m\u001b[43m)\u001b[49m\n\u001b[1;32m   2123\u001b[0m \u001b[38;5;66;03m# Add the markers here as PairGrid has figured out how many levels of the\u001b[39;00m\n\u001b[1;32m   2124\u001b[0m \u001b[38;5;66;03m# hue variable are needed and we don't want to duplicate that process\u001b[39;00m\n\u001b[1;32m   2125\u001b[0m \u001b[38;5;28;01mif\u001b[39;00m markers \u001b[38;5;129;01mis\u001b[39;00m \u001b[38;5;129;01mnot\u001b[39;00m \u001b[38;5;28;01mNone\u001b[39;00m:\n",
      "File \u001b[0;32m~/Desktop/2023_24/PCI_EXTRA/Cyber-Football_PCI/env/lib/python3.12/site-packages/seaborn/axisgrid.py:1327\u001b[0m, in \u001b[0;36mPairGrid.__init__\u001b[0;34m(self, data, hue, vars, x_vars, y_vars, hue_order, palette, hue_kws, corner, diag_sharey, height, aspect, layout_pad, despine, dropna)\u001b[0m\n\u001b[1;32m   1316\u001b[0m     \u001b[38;5;28mself\u001b[39m\u001b[38;5;241m.\u001b[39mhue_vals \u001b[38;5;241m=\u001b[39m pd\u001b[38;5;241m.\u001b[39mSeries([\u001b[38;5;124m\"\u001b[39m\u001b[38;5;124m_nolegend_\u001b[39m\u001b[38;5;124m\"\u001b[39m] \u001b[38;5;241m*\u001b[39m \u001b[38;5;28mlen\u001b[39m(data),\n\u001b[1;32m   1317\u001b[0m                               index\u001b[38;5;241m=\u001b[39mdata\u001b[38;5;241m.\u001b[39mindex)\n\u001b[1;32m   1318\u001b[0m \u001b[38;5;28;01melse\u001b[39;00m:\n\u001b[1;32m   1319\u001b[0m     \u001b[38;5;66;03m# We need hue_order and hue_names because the former is used to control\u001b[39;00m\n\u001b[1;32m   1320\u001b[0m     \u001b[38;5;66;03m# the order of drawing and the latter is used to control the order of\u001b[39;00m\n\u001b[0;32m   (...)\u001b[0m\n\u001b[1;32m   1325\u001b[0m     \u001b[38;5;66;03m# to the axes-level functions, while always handling legend creation.\u001b[39;00m\n\u001b[1;32m   1326\u001b[0m     \u001b[38;5;66;03m# See GH2307\u001b[39;00m\n\u001b[0;32m-> 1327\u001b[0m     hue_names \u001b[38;5;241m=\u001b[39m hue_order \u001b[38;5;241m=\u001b[39m categorical_order(\u001b[43mdata\u001b[49m\u001b[43m[\u001b[49m\u001b[43mhue\u001b[49m\u001b[43m]\u001b[49m, hue_order)\n\u001b[1;32m   1328\u001b[0m     \u001b[38;5;28;01mif\u001b[39;00m dropna:\n\u001b[1;32m   1329\u001b[0m         \u001b[38;5;66;03m# Filter NA from the list of unique hue names\u001b[39;00m\n\u001b[1;32m   1330\u001b[0m         hue_names \u001b[38;5;241m=\u001b[39m \u001b[38;5;28mlist\u001b[39m(\u001b[38;5;28mfilter\u001b[39m(pd\u001b[38;5;241m.\u001b[39mnotnull, hue_names))\n",
      "File \u001b[0;32m~/Desktop/2023_24/PCI_EXTRA/Cyber-Football_PCI/env/lib/python3.12/site-packages/pandas/core/frame.py:4102\u001b[0m, in \u001b[0;36mDataFrame.__getitem__\u001b[0;34m(self, key)\u001b[0m\n\u001b[1;32m   4100\u001b[0m \u001b[38;5;28;01mif\u001b[39;00m \u001b[38;5;28mself\u001b[39m\u001b[38;5;241m.\u001b[39mcolumns\u001b[38;5;241m.\u001b[39mnlevels \u001b[38;5;241m>\u001b[39m \u001b[38;5;241m1\u001b[39m:\n\u001b[1;32m   4101\u001b[0m     \u001b[38;5;28;01mreturn\u001b[39;00m \u001b[38;5;28mself\u001b[39m\u001b[38;5;241m.\u001b[39m_getitem_multilevel(key)\n\u001b[0;32m-> 4102\u001b[0m indexer \u001b[38;5;241m=\u001b[39m \u001b[38;5;28;43mself\u001b[39;49m\u001b[38;5;241;43m.\u001b[39;49m\u001b[43mcolumns\u001b[49m\u001b[38;5;241;43m.\u001b[39;49m\u001b[43mget_loc\u001b[49m\u001b[43m(\u001b[49m\u001b[43mkey\u001b[49m\u001b[43m)\u001b[49m\n\u001b[1;32m   4103\u001b[0m \u001b[38;5;28;01mif\u001b[39;00m is_integer(indexer):\n\u001b[1;32m   4104\u001b[0m     indexer \u001b[38;5;241m=\u001b[39m [indexer]\n",
      "File \u001b[0;32m~/Desktop/2023_24/PCI_EXTRA/Cyber-Football_PCI/env/lib/python3.12/site-packages/pandas/core/indexes/base.py:3812\u001b[0m, in \u001b[0;36mIndex.get_loc\u001b[0;34m(self, key)\u001b[0m\n\u001b[1;32m   3807\u001b[0m     \u001b[38;5;28;01mif\u001b[39;00m \u001b[38;5;28misinstance\u001b[39m(casted_key, \u001b[38;5;28mslice\u001b[39m) \u001b[38;5;129;01mor\u001b[39;00m (\n\u001b[1;32m   3808\u001b[0m         \u001b[38;5;28misinstance\u001b[39m(casted_key, abc\u001b[38;5;241m.\u001b[39mIterable)\n\u001b[1;32m   3809\u001b[0m         \u001b[38;5;129;01mand\u001b[39;00m \u001b[38;5;28many\u001b[39m(\u001b[38;5;28misinstance\u001b[39m(x, \u001b[38;5;28mslice\u001b[39m) \u001b[38;5;28;01mfor\u001b[39;00m x \u001b[38;5;129;01min\u001b[39;00m casted_key)\n\u001b[1;32m   3810\u001b[0m     ):\n\u001b[1;32m   3811\u001b[0m         \u001b[38;5;28;01mraise\u001b[39;00m InvalidIndexError(key)\n\u001b[0;32m-> 3812\u001b[0m     \u001b[38;5;28;01mraise\u001b[39;00m \u001b[38;5;167;01mKeyError\u001b[39;00m(key) \u001b[38;5;28;01mfrom\u001b[39;00m \u001b[38;5;21;01merr\u001b[39;00m\n\u001b[1;32m   3813\u001b[0m \u001b[38;5;28;01mexcept\u001b[39;00m \u001b[38;5;167;01mTypeError\u001b[39;00m:\n\u001b[1;32m   3814\u001b[0m     \u001b[38;5;66;03m# If we have a listlike key, _check_indexing_error will raise\u001b[39;00m\n\u001b[1;32m   3815\u001b[0m     \u001b[38;5;66;03m#  InvalidIndexError. Otherwise we fall through and re-raise\u001b[39;00m\n\u001b[1;32m   3816\u001b[0m     \u001b[38;5;66;03m#  the TypeError.\u001b[39;00m\n\u001b[1;32m   3817\u001b[0m     \u001b[38;5;28mself\u001b[39m\u001b[38;5;241m.\u001b[39m_check_indexing_error(key)\n",
      "\u001b[0;31mKeyError\u001b[0m: 'posicion'"
     ]
    },
    {
     "data": {
      "image/png": "[encoded data removed]",
      "text/plain": [
       "<Figure size 1500x1500 with 36 Axes>"
      ]
     },
     "metadata": {},
     "output_type": "display_data"
    }
   ],
   "source": [
    "sns.pairplot(df_cleaned[['Precio', 'Media', 'Total_puntos', 'Goles', 'Asistencias', 'Partidos']], hue='posicion')\n",
    "plt.savefig('scatter_plot_matriz.png')\n",
    "plt.close()"
   ]
  },
  {
   "cell_type": "markdown",
   "metadata": {},
   "source": [
    "Identificación de jugadores TOP"
   ]
  },
  {
   "cell_type": "markdown",
   "metadata": {},
   "source": [
    "Top 10 jugadores por Total_puntos"
   ]
  },
  {
   "cell_type": "code",
   "execution_count": 35,
   "metadata": {},
   "outputs": [
    {
     "name": "stdout",
     "output_type": "stream",
     "text": [
      "Top 10 Jugadores por Total de Puntos:\n",
      "          Nombre  Total_puntos    Precio     posicion\n",
      "0  J. Bellingham           173  24262000  mediocentro\n",
      "1        T. Kubo           147  20904000  mediocentro\n",
      "2   A. Griezmann           144  24384000    delantero\n",
      "3    I. Williams           139  18358000    delantero\n",
      "4     B. Mayoral           138  16992000    delantero\n",
      "5      A. García           137  20771000  mediocentro\n",
      "6      A. Dovbyk           130  16928000    delantero\n",
      "7      Á. Valles           128  16058000      portero\n",
      "8         Pepelu           127  15714000  mediocentro\n",
      "9     A. Budimir           127  15660000    delantero\n"
     ]
    }
   ],
   "source": [
    "top_10_puntos = df_cleaned.nlargest(10, 'Total_puntos')[['Nombre', 'Total_puntos', 'Precio', 'posicion']]\n",
    "print(\"Top 10 Jugadores por Total de Puntos:\")\n",
    "print(top_10_puntos)"
   ]
  },
  {
   "cell_type": "markdown",
   "metadata": {},
   "source": [
    "Top 10 jugadores por Media"
   ]
  },
  {
   "cell_type": "code",
   "execution_count": 37,
   "metadata": {},
   "outputs": [
    {
     "name": "stdout",
     "output_type": "stream",
     "text": [
      "\n",
      "Top 10 Jugadores por Media:\n",
      "            Nombre  Media    Precio     posicion\n",
      "394        M. Guiu   11.0    204000    delantero\n",
      "0    J. Bellingham   10.2  24262000  mediocentro\n",
      "1          T. Kubo    8.2  20904000  mediocentro\n",
      "3      I. Williams    7.7  18358000    delantero\n",
      "2     A. Griezmann    7.6  24384000    delantero\n",
      "4       B. Mayoral    7.3  16992000    delantero\n",
      "5        A. García    7.2  20771000  mediocentro\n",
      "6        A. Dovbyk    7.2  16928000    delantero\n",
      "10            Isco    7.0  19605000  mediocentro\n",
      "36     D. Carvajal    6.8  15064000      defensa\n"
     ]
    }
   ],
   "source": [
    "top_10_media = df_cleaned.nlargest(10, 'Media')[['Nombre', 'Media', 'Precio', 'posicion']]\n",
    "print(\"\\nTop 10 Jugadores por Media:\")\n",
    "print(top_10_media)"
   ]
  },
  {
   "cell_type": "markdown",
   "metadata": {},
   "source": [
    "Análisis adicional"
   ]
  },
  {
   "cell_type": "markdown",
   "metadata": {},
   "source": [
    "Relación entre Minutos jugados y Total_puntos"
   ]
  },
  {
   "cell_type": "code",
   "execution_count": 38,
   "metadata": {},
   "outputs": [],
   "source": [
    "plt.figure(figsize=(10, 6))\n",
    "sns.scatterplot(x='Minutos', y='Total_puntos', data=df_cleaned, hue='posicion')\n",
    "plt.title('Relación entre Minutos Jugados y Total de Puntos')\n",
    "plt.savefig('minutos_vs_total_puntos.png')\n",
    "plt.close()"
   ]
  },
  {
   "cell_type": "markdown",
   "metadata": {},
   "source": [
    "Distribución de Goles por Posición"
   ]
  },
  {
   "cell_type": "code",
   "execution_count": 39,
   "metadata": {},
   "outputs": [],
   "source": [
    "plt.figure(figsize=(10, 6))\n",
    "sns.boxplot(x='posicion', y='Goles', data=df_cleaned)\n",
    "plt.title('Distribución de Goles por Posición')\n",
    "plt.savefig('goles_por_posicion.png')\n",
    "plt.close()"
   ]
  },
  {
   "cell_type": "markdown",
   "metadata": {},
   "source": [
    "Resumen de hallazgos"
   ]
  },
  {
   "cell_type": "code",
   "execution_count": 40,
   "metadata": {},
   "outputs": [
    {
     "name": "stdout",
     "output_type": "stream",
     "text": [
      "\n",
      "Resumen de Hallazgos:\n",
      "1. La distribución de jugadores por posición muestra...\n",
      "2. Existe una correlación fuerte entre Precio y Total_puntos...\n",
      "3. Los jugadores con mejor rendimiento tienden a...\n",
      "4. La posición que más puntos acumula en promedio es...\n",
      "5. Factores clave para predecir altas puntuaciones incluyen...\n"
     ]
    }
   ],
   "source": [
    "print(\"\\nResumen de Hallazgos:\")\n",
    "print(\"1. La distribución de jugadores por posición muestra...\")\n",
    "print(\"2. Existe una correlación fuerte entre Precio y Total_puntos...\")\n",
    "print(\"3. Los jugadores con mejor rendimiento tienden a...\")\n",
    "print(\"4. La posición que más puntos acumula en promedio es...\")\n",
    "print(\"5. Factores clave para predecir altas puntuaciones incluyen...\")"
   ]
  }
 ],
 "metadata": {
  "kernelspec": {
   "display_name": "env",
   "language": "python",
   "name": "python3"
  },
  "language_info": {
   "codemirror_mode": {
    "name": "ipython",
    "version": 3
   },
   "file_extension": ".py",
   "mimetype": "text/x-python",
   "name": "python",
   "nbconvert_exporter": "python",
   "pygments_lexer": "ipython3",
   "version": "3.12.4"
  }
 },
 "nbformat": 4,
 "nbformat_minor": 2
}
